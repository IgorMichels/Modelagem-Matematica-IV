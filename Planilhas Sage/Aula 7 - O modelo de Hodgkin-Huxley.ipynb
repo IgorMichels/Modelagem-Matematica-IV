{
 "cells": [
  {
   "cell_type": "markdown",
   "metadata": {
    "slideshow": {
     "slide_type": "subslide"
    }
   },
   "source": [
    "# Modelos Bi-estáveis\n",
    "## O modelo de Hodgkin-Huxley"
   ]
  },
  {
   "cell_type": "code",
   "execution_count": 1,
   "metadata": {},
   "outputs": [],
   "source": [
    "%display typeset"
   ]
  },
  {
   "cell_type": "markdown",
   "metadata": {},
   "source": [
    "<p>A transmiss&atilde;o de informa&ccedil;&otilde;es no sistema nervorsos dos animais se d&aacute; atrav&eacute;s de picos de potencial el&eacute;trico que se propagam ao longo da membrana de c&eacute;lulas especiais denominadas Neur&ocirc;nios. Estes potenciais el&eacute;tricos, por sua vez, s&atilde;o chamados de potenciais de a&ccedil;&atilde;o. Em um dos trabalhos mais c&eacute;lebres da biomatem&aacute;tica do s&eacute;culo XX, Hodgkin e Huxley, nos anos 50, propuseram a partir de experimentos revolucion&aacute;rios, um modelo matem&aacute;tico para a transmiss&atilde;o de impulsos el&eacute;tricos em neur&ocirc;nios.</p>\n",
    "<p><img src=\"http://upload.wikimedia.org/wikipedia/commons/9/95/Action_Potential.gif\" alt=\"Potencial de a&ccedil;&atilde;o\" width=\"320\" height=\"200\" /></p>\n",
    "<p>&nbsp;</p>\n",
    "<p>O Potencial de a&ccedil;&atilde;o &eacute; o resultados de uma orquestra&ccedil;&atilde;o delicada de canais i&ocirc;nicos na membrana do neur&ocirc;nio provocando correntes s&uacute;bitas que se propagam como ondas.</p>\n",
    "<p><img src=\"http://upload.wikimedia.org/wikipedia/commons/c/cc/Action_potential_vert.png\" alt=\"Potencial de A&ccedil;&atilde;o\" width=\"320\" height=\"320\" /></p>\n",
    "<p>&nbsp;</p>\n",
    "<p>O Modelo de Hodgkin e Huxley foi pioneiro em caracterizar este circuito el&eacute;trico celular:</p>\n",
    "<p><img src=\"http://upload.wikimedia.org/wikipedia/commons/thumb/1/1f/MembraneCircuit.svg/500px-MembraneCircuit.svg.png\" alt=\"circuito el&eacute;trico\" width=\"500\" height=\"321\" /></p>\n",
    "<p>A representa&ccedil;&atilde;o esquem&aacute;tica acima &eacute; equivalemte ao modelomatem&aacute;tico abaixo. A bi-camada lip&iacute;dica, &eacute; representada como uma capacit&acirc;ncia ($C_m$). Canais i&ocirc;nicos acionados por voltagem e canais de \"vazamento\" i&ocirc;nico, s&atilde;o representados pelas condut&acirc;ncias $g_n$ (n&atilde;o-linear) e $g_l$ (linear), respectivamente. Os gradientes eletroqu&iacute;micos que determinam o fluxo dos &iacute;ons s&atilde;o representados por baterias ($E$).<span>&nbsp;</span></p>\n",
    "<p>&nbsp;</p>\n",
    "<p>$$I = C_m\\frac{{\\mathrm d} V_m}{{\\mathrm d} t} + \\bar{g}_Kn^4(V_m - V_K) + \\bar{g}_{Na}m^3h(V_m - V_{Na}) + \\bar{g}_l(V_m - V_l),$$</p>\n",
    "<p>$$\\frac{dn}{dt} = \\alpha_n(1 - n) - \\beta_n n$$</p>\n",
    "<p>$$\\frac{dm}{dt} = \\alpha_m(1 - m) - \\beta_m m$$</p>\n",
    "<p>$$\\frac{dh}{dt} = \\alpha_h(1 - h) - \\beta_h h$$</p>\n",
    "<p>$n,m,h$ s&atilde;o vari&aacute;veis adimensionais, associadas com a ativa&ccedil;&atilde;o dos canais de s&oacute;dio, ativa&ccedil;&atilde;o dos canais de pot&aacute;ssio e a inativa&ccedil;&atilde;o dos canais de pot&aacute;ssio, respectivamente. Os alfas e betas s&atilde;o taxas associadas com a velocidade dos canais i&ocirc;nicos e s&atilde;oafetados pela temperatura.</p>"
   ]
  },
  {
   "cell_type": "markdown",
   "metadata": {},
   "source": [
    "Vamos implementar o [Modelo de Hodgkin e Huxley](https://en.wikipedia.org/wiki/Quantitative_models_of_the_action_potential#Hodgkin%E2%80%93Huxley_model) e examinar a sua dinâmica."
   ]
  },
  {
   "cell_type": "code",
   "execution_count": 2,
   "metadata": {},
   "outputs": [],
   "source": [
    "def fun(t,y, p):\n",
    "    V,n,m,h = y\n",
    "    VNa = 50\n",
    "    VK = -77\n",
    "    VL = -54.4\n",
    "    gNa = 120\n",
    "    gK = 36\n",
    "    gL = .3\n",
    "    C = 1\n",
    "    I = p[0]\n",
    "    an = .01*(V+55)/(1-exp(-(V+55)/10))\n",
    "    bn = .125*exp(-(V+65)/80)\n",
    "    am = .1*(V+40)/(1-exp(-(V+40)/10))\n",
    "    bm = 4*exp(-(V+65)/18)\n",
    "    ah = .07*exp(-(V+65)/20)\n",
    "    bh = 1/(1+exp(-(V+35)/10))\n",
    "    return [\n",
    "    (I - gNa*h*(V-VNa)*m^3 - gK*(V-VK)*n^4 - gL*(V-VL))/C,\n",
    "    an*(1-n) - bn*n,\n",
    "    am*(1-m) - bm*m,\n",
    "    ah*(1-h) - bh*h\n",
    "    ]"
   ]
  },
  {
   "cell_type": "code",
   "execution_count": 3,
   "metadata": {},
   "outputs": [],
   "source": [
    "T = ode_solver()\n",
    "T.algorithm = \"rk8pd\"\n",
    "T.function = fun\n",
    "t_range = [0,50]\n",
    "y0 = [-65, .317, .052, .596]"
   ]
  },
  {
   "cell_type": "code",
   "execution_count": 6,
   "metadata": {},
   "outputs": [],
   "source": [
    "T.ode_solve(t_range,y0,num_points=2000, params=[15])"
   ]
  },
  {
   "cell_type": "code",
   "execution_count": 7,
   "metadata": {},
   "outputs": [
    {
     "data": {
      "image/png": "[encoded data removed]",
      "text/plain": [
       "Graphics object consisting of 1 graphics primitive"
      ]
     },
     "metadata": {},
     "output_type": "display_data"
    }
   ],
   "source": [
    "T.plot_solution(i=0,interpolate=True)"
   ]
  },
  {
   "cell_type": "code",
   "execution_count": 10,
   "metadata": {},
   "outputs": [
    {
     "data": {
      "application/vnd.jupyter.widget-view+json": {
       "model_id": "c048047550e44163b5093498515e9a31",
       "version_major": 2,
       "version_minor": 0
      },
      "text/plain": [
       "Interactive function <function integra at 0x7efdede858c8> with 1 widget\n",
       "  I: IntSlider(value=50, description='…"
      ]
     },
     "metadata": {},
     "output_type": "display_data"
    }
   ],
   "source": [
    "@interact\n",
    "def integra(I=(0,100,10)):\n",
    "    T.ode_solve(t_range,y0,num_points=500, params=[I])\n",
    "    T.plot_solution(i=0,interpolate=True)"
   ]
  },
  {
   "cell_type": "code",
   "execution_count": null,
   "metadata": {},
   "outputs": [],
   "source": []
  }
 ],
 "metadata": {
  "kernelspec": {
   "display_name": "SageMath 9.0",
   "language": "sage",
   "name": "sagemath"
  },
  "language_info": {
   "codemirror_mode": {
    "name": "ipython",
    "version": 3
   },
   "file_extension": ".py",
   "mimetype": "text/x-python",
   "name": "python",
   "nbconvert_exporter": "python",
   "pygments_lexer": "ipython3",
   "version": "3.7.3"
  }
 },
 "nbformat": 4,
 "nbformat_minor": 2
}

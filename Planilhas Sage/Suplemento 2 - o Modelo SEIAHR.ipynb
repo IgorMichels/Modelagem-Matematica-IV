{
 "cells": [
  {
   "cell_type": "markdown",
   "metadata": {},
   "source": [
    "# Combinando Modelos e dados: COVID-19\n",
    "\n",
    "Ao se modelar uma epidemia real, a concordância do modelo e os dados observados é de extrema importância.\n",
    "\n",
    "Neste Notebook vamos estudar o Modelo SEIAHR proposto para a COVID-19 por [Coelho et al](https://www.medrxiv.org/content/10.1101/2020.06.15.20132050v1). Neste modelo, temos os seguintes compartimentos:\n",
    "![diagrama](seiahr.jpg)\n",
    "\n",
    "Matemáticamente:\n",
    "$$\\begin{align}\n",
    "\\frac{dS}{dt}&=-\\lambda [(1-\\chi) S],\\\\\n",
    "\\frac{dE}{dt}&= \\lambda [(1-\\chi) S]-\\alpha E,\\\\\n",
    "\\frac{dI}{dt}&= (1-p)\\alpha E - \\delta I -\\phi I,\\\\\n",
    "\\frac{dA}{dt}&= p\\alpha E - \\gamma A,\\\\\n",
    "\\frac{dH}{dt}&= \\phi I -(\\rho+\\mu) H,\\\\\n",
    "\\frac{dR}{dt}&= \\delta I + \\rho H+\\gamma A,\n",
    "\\end{align}\n",
    "$$\n",
    "\n",
    "Para facilitar nosso trabalho com dados dentro do ambiente Sage, precisamos instalar o Pandas para isso\n",
    "em um terminal use o seguinte comando: \n",
    "```\n",
    "sage -sh\n",
    "```\n",
    "este comando iniciará uma subsessão do sage onde você poderá instalar o pandas com o comando usual:\n",
    "```\n",
    "pip install pandas\n",
    "exit\n",
    "```\n",
    "o comando `exit` após a instalação visa sair da subsessão do Sage."
   ]
  },
  {
   "cell_type": "code",
   "execution_count": 33,
   "metadata": {},
   "outputs": [],
   "source": [
    "import numpy as np\n",
    "import pandas as pd\n",
    "%display typeset"
   ]
  },
  {
   "cell_type": "code",
   "execution_count": 16,
   "metadata": {},
   "outputs": [],
   "source": [
    "def model(t, y, params):\n",
    "    S, E, I, A, H, R, C, D = y\n",
    "    chi, phi, beta, rho, delta, gamma, alpha, mu, p, q, r = params\n",
    "    lamb = beta * (I + A)\n",
    "    # Turns on Quarantine on day q and off on day q+r\n",
    "    chi *= ((1 + np.tanh(t - q)) / 2) * ((1 - np.tanh(t - (q + r))) / 2)\n",
    "    return [\n",
    "        -lamb * ((1 - chi) * S),  # dS/dt\n",
    "        lamb * ((1 - chi) * S) - alpha * E,  # dE/dt\n",
    "        (1 - p) * alpha * E - delta * I - phi * I,  # dI/dt\n",
    "        p * alpha * E - gamma * A,\n",
    "        phi * I - (rho + mu) * H,  # dH/dt\n",
    "        delta * I + rho * H + gamma * A,  # dR/dt\n",
    "        phi * I,  # (1-p)*alpha*E+ p*alpha*E # Hospit. acumuladas\n",
    "        mu * H  # Morte acumuladas\n",
    "    ]           "
   ]
  },
  {
   "cell_type": "code",
   "execution_count": 35,
   "metadata": {},
   "outputs": [],
   "source": [
    "chi = 0\n",
    "phi = 0.012413633926076584\n",
    "beta = 0.47272459855759813\n",
    "rho = 0.2190519831830368\n",
    "delta = 0.04168480042146949\n",
    "gamma = 0.04\n",
    "alpha =  0.3413355572047603\n",
    "mu = 0.02359234606623134\n",
    "p = 0.7693029079871165\n",
    "q = 50\n",
    "r = 55"
   ]
  },
  {
   "cell_type": "code",
   "execution_count": 36,
   "metadata": {},
   "outputs": [
    {
     "data": {
      "text/html": [
       "<html><script type=\"math/tex; mode=display\">\\newcommand{\\Bold}[1]{\\mathbf{#1}}\\left[\\verb|-4.6799735257202214e-07|, 4.6799735257202214 \\times 10^{-07}, -5.40984343475461 \\times 10^{-8}, 0.000000000000000, 1.24136339260766 \\times 10^{-8}, 4.16848004214695 \\times 10^{-8}, 1.24136339260766 \\times 10^{-8}, 0.000000000000000\\right]</script></html>"
      ],
      "text/plain": [
       "[-4.6799735257202214e-07,\n",
       " 4.6799735257202214e-07,\n",
       " -5.40984343475461e-8,\n",
       " 0.000000000000000,\n",
       " 1.24136339260766e-8,\n",
       " 4.16848004214695e-8,\n",
       " 1.24136339260766e-8,\n",
       " 0.000000000000000]"
      ]
     },
     "execution_count": 36,
     "metadata": {},
     "output_type": "execute_result"
    }
   ],
   "source": [
    "model(0,inits, [chi,phi,beta,rho,delta,gamma,alpha,mu,p,q,r])"
   ]
  },
  {
   "cell_type": "code",
   "execution_count": 37,
   "metadata": {},
   "outputs": [],
   "source": [
    "T = ode_solver()\n",
    "T.function = model\n",
    "inits = [.99, 0, 1e-6, 0, 0, 0, 0, 0]\n",
    "tspan = [0,500]\n",
    "T.ode_solve(tspan, inits, num_points=500, params=[chi,phi,beta,rho,delta,gamma,alpha,mu,p,q,r])"
   ]
  },
  {
   "cell_type": "code",
   "execution_count": 43,
   "metadata": {},
   "outputs": [
    {
     "data": {
      "image/png": "[encoded data removed]",
      "text/plain": [
       "Graphics object consisting of 1 graphics primitive"
      ]
     },
     "metadata": {},
     "output_type": "display_data"
    }
   ],
   "source": [
    "T.plot_solution(-2)\n"
   ]
  },
  {
   "cell_type": "code",
   "execution_count": 44,
   "metadata": {},
   "outputs": [],
   "source": [
    "def load_data(state):\n",
    "    df = pd.read_csv(f'dados_{state}.csv')\n",
    "    df['data'] = pd.to_datetime(df.data)\n",
    "#     df.set_index('data', inplace=True)\n",
    "    return df"
   ]
  },
  {
   "cell_type": "code",
   "execution_count": 45,
   "metadata": {},
   "outputs": [
    {
     "data": {
      "text/html": [
       "<html><script type=\"math/tex; mode=display\">\\newcommand{\\Bold}[1]{\\mathbf{#1}}\\begin{array}{l}\n",
       "\\phantom{\\verb!xxxxxxxxxx!}\\verb|data|\\phantom{\\verb!xxxxxxxx!}\\verb|date|\\phantom{\\verb!xx!}\\verb|last_available_confirmed|\\phantom{\\verb!xx!}\\verb|last_available_deaths|\\phantom{\\verb!xx!}\\verb|\\}}\\|\\verb|0|\\phantom{\\verb!xxx!}\\verb|2020-03-05|\\phantom{\\verb!xx!}\\verb|2020-03-05|\\phantom{\\verb!xxxxxxxxxxxxxxxxxxxxxxxxx!}\\verb|1|\\phantom{\\verb!xxxxxxxxxxxxxxxxxxxxxx!}\\verb|0|\\\\\n",
       "\\verb|1|\\phantom{\\verb!xxx!}\\verb|2020-03-06|\\phantom{\\verb!xx!}\\verb|2020-03-06|\\phantom{\\verb!xxxxxxxxxxxxxxxxxxxxxxxxx!}\\verb|2|\\phantom{\\verb!xxxxxxxxxxxxxxxxxxxxxx!}\\verb|0|\\\\\n",
       "\\verb|2|\\phantom{\\verb!xxx!}\\verb|2020-03-07|\\phantom{\\verb!xx!}\\verb|2020-03-07|\\phantom{\\verb!xxxxxxxxxxxxxxxxxxxxxxxxx!}\\verb|2|\\phantom{\\verb!xxxxxxxxxxxxxxxxxxxxxx!}\\verb|0|\\\\\n",
       "\\verb|3|\\phantom{\\verb!xxx!}\\verb|2020-03-08|\\phantom{\\verb!xx!}\\verb|2020-03-08|\\phantom{\\verb!xxxxxxxxxxxxxxxxxxxxxxxxx!}\\verb|3|\\phantom{\\verb!xxxxxxxxxxxxxxxxxxxxxx!}\\verb|0|\\\\\n",
       "\\verb|4|\\phantom{\\verb!xxx!}\\verb|2020-03-09|\\phantom{\\verb!xx!}\\verb|2020-03-09|\\phantom{\\verb!xxxxxxxxxxxxxxxxxxxxxxxxx!}\\verb|3|\\phantom{\\verb!xxxxxxxxxxxxxxxxxxxxxx!}\\verb|0|\\\\\n",
       "\\verb|..|\\phantom{\\verb!xxxxxxxxx!}\\verb|...|\\phantom{\\verb!xxxxxxxxx!}\\verb|...|\\phantom{\\verb!xxxxxxxxxxxxxxxxxxxxxxx!}\\verb|...|\\phantom{\\verb!xxxxxxxxxxxxxxxxxxxx!}\\verb|...|\\\\\n",
       "\\verb|100|\\phantom{\\verb!x!}\\verb|2020-06-13|\\phantom{\\verb!xx!}\\verb|2020-06-13|\\phantom{\\verb!xxxxxxxxxxxxxxxxxxxxx!}\\verb|78836|\\phantom{\\verb!xxxxxxxxxxxxxxxxxxx!}\\verb|7592|\\\\\n",
       "\\verb|101|\\phantom{\\verb!x!}\\verb|2020-06-14|\\phantom{\\verb!xx!}\\verb|2020-06-14|\\phantom{\\verb!xxxxxxxxxxxxxxxxxxxxx!}\\verb|79572|\\phantom{\\verb!xxxxxxxxxxxxxxxxxxx!}\\verb|7672|\\\\\n",
       "\\verb|102|\\phantom{\\verb!x!}\\verb|2020-06-15|\\phantom{\\verb!xx!}\\verb|2020-06-15|\\phantom{\\verb!xxxxxxxxxxxxxxxxxxxxx!}\\verb|80946|\\phantom{\\verb!xxxxxxxxxxxxxxxxxxx!}\\verb|7728|\\\\\n",
       "\\verb|103|\\phantom{\\verb!x!}\\verb|2020-06-16|\\phantom{\\verb!xx!}\\verb|2020-06-16|\\phantom{\\verb!xxxxxxxxxxxxxxxxxxxxx!}\\verb|83343|\\phantom{\\verb!xxxxxxxxxxxxxxxxxxx!}\\verb|7967|\\\\\n",
       "\\verb|104|\\phantom{\\verb!x!}\\verb|2020-06-17|\\phantom{\\verb!xx!}\\verb|2020-06-17|\\phantom{\\verb!xxxxxxxxxxxxxxxxxxxxx!}\\verb|83343|\\phantom{\\verb!xxxxxxxxxxxxxxxxxxx!}\\verb|7967|\\\\\n",
       "\\phantom{\\verb!x!}\\\\\n",
       "\\phantom{\\verb!xxxxx!}\\verb|incidencia_casos|\\phantom{\\verb!xx!}\\verb|incidencia_morte|\\phantom{\\verb!xx!}\\verb|ew|\\\\\n",
       "\\verb|0|\\phantom{\\verb!xxxxxxxxxxxxxxxxx!}\\verb|NaN|\\phantom{\\verb!xxxxxxxxxxxxxxx!}\\verb|NaN|\\phantom{\\verb!xx!}\\verb|10|\\\\\n",
       "\\verb|1|\\phantom{\\verb!xxxxxxxxxxxxxxxxx!}\\verb|0.0|\\phantom{\\verb!xxxxxxxxxxxxxxx!}\\verb|1.0|\\phantom{\\verb!xx!}\\verb|10|\\\\\n",
       "\\verb|2|\\phantom{\\verb!xxxxxxxxxxxxxxxxx!}\\verb|0.0|\\phantom{\\verb!xxxxxxxxxxxxxxx!}\\verb|0.0|\\phantom{\\verb!xx!}\\verb|10|\\\\\n",
       "\\verb|3|\\phantom{\\verb!xxxxxxxxxxxxxxxxx!}\\verb|0.0|\\phantom{\\verb!xxxxxxxxxxxxxxx!}\\verb|1.0|\\phantom{\\verb!xx!}\\verb|11|\\\\\n",
       "\\verb|4|\\phantom{\\verb!xxxxxxxxxxxxxxxxx!}\\verb|0.0|\\phantom{\\verb!xxxxxxxxxxxxxxx!}\\verb|0.0|\\phantom{\\verb!xx!}\\verb|11|\\\\\n",
       "\\verb|..|\\phantom{\\verb!xxxxxxxxxxxxxxxx!}\\verb|...|\\phantom{\\verb!xxxxxxxxxxxxxxx!}\\verb|...|\\phantom{\\verb!xx!}\\verb|..|\\\\\n",
       "\\verb|100|\\phantom{\\verb!xxxxxxxxxxxxx!}\\verb|175.0|\\phantom{\\verb!xxxxxxxxxxxx!}\\verb|1052.0|\\phantom{\\verb!xx!}\\verb|24|\\\\\n",
       "\\verb|101|\\phantom{\\verb!xxxxxxxxxxxxxx!}\\verb|80.0|\\phantom{\\verb!xxxxxxxxxxxxx!}\\verb|736.0|\\phantom{\\verb!xx!}\\verb|25|\\\\\n",
       "\\verb|102|\\phantom{\\verb!xxxxxxxxxxxxxx!}\\verb|56.0|\\phantom{\\verb!xxxxxxxxxxxx!}\\verb|1374.0|\\phantom{\\verb!xx!}\\verb|25|\\\\\n",
       "\\verb|103|\\phantom{\\verb!xxxxxxxxxxxxx!}\\verb|239.0|\\phantom{\\verb!xxxxxxxxxxxx!}\\verb|2397.0|\\phantom{\\verb!xx!}\\verb|25|\\\\\n",
       "\\verb|104|\\phantom{\\verb!xxxxxxxxxxxxxxx!}\\verb|0.0|\\phantom{\\verb!xxxxxxxxxxxxxxx!}\\verb|0.0|\\phantom{\\verb!xx!}\\verb|25|\\\\\n",
       "\\phantom{\\verb!x!}\\\\\n",
       "\\verb|[105|\\phantom{\\verb!x!}\\verb|rows|\\phantom{\\verb!x!}\\verb|x|\\phantom{\\verb!x!}\\verb|7|\\phantom{\\verb!x!}\\verb|columns]|\n",
       "\\end{array}</script></html>"
      ],
      "text/plain": [
       "          data        date  last_available_confirmed  last_available_deaths  \\\n",
       "0   2020-03-05  2020-03-05                         1                      0   \n",
       "1   2020-03-06  2020-03-06                         2                      0   \n",
       "2   2020-03-07  2020-03-07                         2                      0   \n",
       "3   2020-03-08  2020-03-08                         3                      0   \n",
       "4   2020-03-09  2020-03-09                         3                      0   \n",
       "..         ...         ...                       ...                    ...   \n",
       "100 2020-06-13  2020-06-13                     78836                   7592   \n",
       "101 2020-06-14  2020-06-14                     79572                   7672   \n",
       "102 2020-06-15  2020-06-15                     80946                   7728   \n",
       "103 2020-06-16  2020-06-16                     83343                   7967   \n",
       "104 2020-06-17  2020-06-17                     83343                   7967   \n",
       "\n",
       "     incidencia_casos  incidencia_morte  ew  \n",
       "0                 NaN               NaN  10  \n",
       "1                 0.0               1.0  10  \n",
       "2                 0.0               0.0  10  \n",
       "3                 0.0               1.0  11  \n",
       "4                 0.0               0.0  11  \n",
       "..                ...               ...  ..  \n",
       "100             175.0            1052.0  24  \n",
       "101              80.0             736.0  25  \n",
       "102              56.0            1374.0  25  \n",
       "103             239.0            2397.0  25  \n",
       "104               0.0               0.0  25  \n",
       "\n",
       "[105 rows x 7 columns]"
      ]
     },
     "execution_count": 45,
     "metadata": {},
     "output_type": "execute_result"
    }
   ],
   "source": [
    "dfRJ = load_data('RJ')\n",
    "dfRJ"
   ]
  },
  {
   "cell_type": "code",
   "execution_count": 50,
   "metadata": {},
   "outputs": [
    {
     "data": {
      "text/html": [
       "<html><script type=\"math/tex; mode=display\">\\newcommand{\\Bold}[1]{\\mathbf{#1}}\\verb|AxesSubplot(0.125,0.125;0.775x0.755)|</script></html>"
      ],
      "text/plain": [
       "<matplotlib.axes._subplots.AxesSubplot object at 0x7f93daa05438>"
      ]
     },
     "execution_count": 50,
     "metadata": {},
     "output_type": "execute_result"
    },
    {
     "data": {
      "image/png": "[encoded data removed]",
      "text/plain": [
       "<Figure size 432x288 with 1 Axes>"
      ]
     },
     "metadata": {},
     "output_type": "display_data"
    }
   ],
   "source": [
    "popRJ = 8.28e6\n",
    "subnot=1\n",
    "dfRJ.set_index('data').last_available_confirmed.plot()\n",
    "#dfRJ.set_index('data')['last-available-deaths'].plot()"
   ]
  },
  {
   "cell_type": "code",
   "execution_count": 49,
   "metadata": {},
   "outputs": [
    {
     "data": {
      "text/html": [
       "<html><script type=\"math/tex; mode=display\">\\newcommand{\\Bold}[1]{\\mathbf{#1}}\\begin{array}{l}\n",
       "\\verb|Index(['data',|\\phantom{\\verb!x!}\\verb|'date',|\\phantom{\\verb!x!}\\verb|'last_available_confirmed',|\\phantom{\\verb!x!}\\verb|'last_available_deaths',|\\\\\n",
       "\\phantom{\\verb!xxxxxxx!}\\verb|'incidencia_casos',|\\phantom{\\verb!x!}\\verb|'incidencia_morte',|\\phantom{\\verb!x!}\\verb|'ew'],|\\\\\n",
       "\\phantom{\\verb!xxxxxx!}\\verb|dtype='object')|\n",
       "\\end{array}</script></html>"
      ],
      "text/plain": [
       "Index(['data', 'date', 'last_available_confirmed', 'last_available_deaths',\n",
       "       'incidencia_casos', 'incidencia_morte', 'ew'],\n",
       "      dtype='object')"
      ]
     },
     "execution_count": 49,
     "metadata": {},
     "output_type": "execute_result"
    }
   ],
   "source": [
    "dfRJ.columns"
   ]
  },
  {
   "cell_type": "code",
   "execution_count": null,
   "metadata": {},
   "outputs": [],
   "source": []
  }
 ],
 "metadata": {
  "kernelspec": {
   "display_name": "SageMath 9.0",
   "language": "sage",
   "name": "sagemath"
  },
  "language_info": {
   "codemirror_mode": {
    "name": "ipython",
    "version": 3
   },
   "file_extension": ".py",
   "mimetype": "text/x-python",
   "name": "python",
   "nbconvert_exporter": "python",
   "pygments_lexer": "ipython3",
   "version": "3.7.3"
  }
 },
 "nbformat": 4,
 "nbformat_minor": 2
}

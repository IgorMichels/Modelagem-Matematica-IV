{
 "cells": [
  {
   "cell_type": "markdown",
   "metadata": {},
   "source": [
    "# Calculando o $\\mathcal{R}_0$ para o Modelo SEIAHR\n",
    "Neste notebook vamos aprender a como utilizar o méto da matriz de próxima geração para calcular o $\\mathcal{R}_0$.\n",
    "## SEIAR Model for COVID-19\n",
    "\n",
    "Neste notebook está implementado um modelo SEIAR com quarentena implícita. Que inclui também assintomáticos e hospitalizações. Veja o Suplemento 2 para maiores detalhes sobre este modelo.\n",
    "\n",
    "Seja $\\lambda=\\beta(I+A)$ a força de infeção da doença.\n",
    "\n",
    "\\begin{align}\n",
    "\\frac{dS}{dt}&=-\\lambda (1-\\chi) S\\\\\n",
    "\\frac{dE}{dt}&= \\lambda (1-\\chi) S-\\alpha E\\\\\n",
    "\\frac{dI}{dt}&= (1-p)\\alpha E - \\delta I\\\\\n",
    "\\frac{dA}{dt}&= p\\alpha E - \\delta A\\\\\n",
    "\\frac{dH}{dt}&= \\phi \\delta I -(\\rho+\\mu) H\\\\\n",
    "\\frac{dR}{dt}&= (1-\\phi)\\delta I + \\rho H+\\delta A\n",
    "\\end{align}\n",
    "\n",
    "onde $\\chi$ é a fração dos suscetíveis em quarentena (distanciamento social)"
   ]
  },
  {
   "cell_type": "code",
   "execution_count": 2,
   "metadata": {},
   "outputs": [],
   "source": [
    "import sympy"
   ]
  },
  {
   "cell_type": "code",
   "execution_count": 1,
   "metadata": {},
   "outputs": [],
   "source": [
    "#%typeset_mode True\n",
    "%display typeset"
   ]
  },
  {
   "cell_type": "code",
   "execution_count": 2,
   "metadata": {},
   "outputs": [
    {
     "data": {
      "text/html": [
       "<html><script type=\"math/tex; mode=display\">\\newcommand{\\Bold}[1]{\\mathbf{#1}}\\left(S, E, I, A, H, \\Lambda, \\beta, \\chi, \\alpha, p, \\phi, \\delta, \\rho, \\mu\\right)</script></html>"
      ],
      "text/plain": [
       "(S, E, I, A, H, Lambda, beta, chi, alpha, p, phi, delta, rho, mu)"
      ]
     },
     "execution_count": 2,
     "metadata": {},
     "output_type": "execute_result"
    }
   ],
   "source": [
    "var('S E I A H Lambda beta chi alpha p phi delta rho mu')"
   ]
  },
  {
   "cell_type": "markdown",
   "metadata": {},
   "source": [
    "Para esta análise podemos ignorar o compartimento dos Recuperados pois é desacoplado da dinâmica."
   ]
  },
  {
   "cell_type": "code",
   "execution_count": 7,
   "metadata": {},
   "outputs": [],
   "source": [
    "Lambda = beta*(I+A)\n",
    "dsdt = -Lambda*(1-chi)*S\n",
    "dedt = Lambda*(1-chi)*S - alpha*E\n",
    "didt = (1-p)*alpha*E -delta*I\n",
    "dadt = p*alpha*E - delta*A\n",
    "dhdt = phi*delta*I-(rho+mu)*H"
   ]
  },
  {
   "cell_type": "code",
   "execution_count": null,
   "metadata": {},
   "outputs": [],
   "source": []
  },
  {
   "cell_type": "code",
   "execution_count": null,
   "metadata": {},
   "outputs": [],
   "source": []
  },
  {
   "cell_type": "markdown",
   "metadata": {},
   "source": [
    "## Equilibrios\n",
    "Naturalmente para este sistema só conseguimos achar o equilíbrio livre-de-doença."
   ]
  },
  {
   "cell_type": "code",
   "execution_count": 8,
   "metadata": {},
   "outputs": [
    {
     "data": {
      "text/html": [
       "<html><script type=\"math/tex; mode=display\">\\newcommand{\\Bold}[1]{\\mathbf{#1}}\\left[\\left[S = r_{2}, E = 0, I = 0, A = 0, H = 0\\right]\\right]</script></html>"
      ],
      "text/plain": [
       "[[S == r2, E == 0, I == 0, A == 0, H == 0]]"
      ]
     },
     "execution_count": 8,
     "metadata": {},
     "output_type": "execute_result"
    }
   ],
   "source": [
    "solve([dsdt,dedt,didt,dadt,dhdt],[S,E,I,A,H])"
   ]
  },
  {
   "cell_type": "markdown",
   "metadata": {},
   "source": [
    "## Matriz Jacobiana"
   ]
  },
  {
   "cell_type": "code",
   "execution_count": 9,
   "metadata": {},
   "outputs": [
    {
     "data": {
      "text/html": [
       "<html><script type=\"math/tex; mode=display\">\\newcommand{\\Bold}[1]{\\mathbf{#1}}\\left(\\begin{array}{rrrrr}\n",
       "{\\left(A + I\\right)} \\beta {\\left(\\chi - 1\\right)} & 0 & S \\beta {\\left(\\chi - 1\\right)} & S \\beta {\\left(\\chi - 1\\right)} & 0 \\\\\n",
       "-{\\left(A + I\\right)} \\beta {\\left(\\chi - 1\\right)} & -\\alpha & -S \\beta {\\left(\\chi - 1\\right)} & -S \\beta {\\left(\\chi - 1\\right)} & 0 \\\\\n",
       "0 & -\\alpha {\\left(p - 1\\right)} & -\\delta & 0 & 0 \\\\\n",
       "0 & \\alpha p & 0 & -\\delta & 0 \\\\\n",
       "0 & 0 & \\delta \\phi & 0 & -\\mu - \\rho\n",
       "\\end{array}\\right)</script></html>"
      ],
      "text/plain": [
       "[ (A + I)*beta*(chi - 1)                       0        S*beta*(chi - 1)        S*beta*(chi - 1)                       0]\n",
       "[-(A + I)*beta*(chi - 1)                  -alpha       -S*beta*(chi - 1)       -S*beta*(chi - 1)                       0]\n",
       "[                      0          -alpha*(p - 1)                  -delta                       0                       0]\n",
       "[                      0                 alpha*p                       0                  -delta                       0]\n",
       "[                      0                       0               delta*phi                       0               -mu - rho]"
      ]
     },
     "execution_count": 9,
     "metadata": {},
     "output_type": "execute_result"
    }
   ],
   "source": [
    "jack=jacobian([dsdt,dedt,didt,dadt,dhdt],[S,E,I,A,H])\n",
    "jack"
   ]
  },
  {
   "cell_type": "code",
   "execution_count": 10,
   "metadata": {},
   "outputs": [
    {
     "data": {
      "text/html": [
       "<html><script type=\"math/tex; mode=display\">\\newcommand{\\Bold}[1]{\\mathbf{#1}}x^{5} + \\left(-A \\beta \\chi - I \\beta \\chi + A \\beta + I \\beta + \\alpha + 2 \\, \\delta + \\mu + \\rho\\right) x^{4} + \\left(-A \\alpha \\beta \\chi - I \\alpha \\beta \\chi + S \\alpha \\beta \\chi - 2 \\, A \\beta \\chi \\delta - 2 \\, I \\beta \\chi \\delta - A \\beta \\chi \\mu - I \\beta \\chi \\mu - A \\beta \\chi \\rho - I \\beta \\chi \\rho + A \\alpha \\beta + I \\alpha \\beta - S \\alpha \\beta + 2 \\, A \\beta \\delta + 2 \\, I \\beta \\delta + A \\beta \\mu + I \\beta \\mu + A \\beta \\rho + I \\beta \\rho + 2 \\, \\alpha \\delta + \\delta^{2} + \\alpha \\mu + 2 \\, \\delta \\mu + \\alpha \\rho + 2 \\, \\delta \\rho\\right) x^{3} + \\left(-2 \\, A \\alpha \\beta \\chi \\delta - 2 \\, I \\alpha \\beta \\chi \\delta + S \\alpha \\beta \\chi \\delta - A \\beta \\chi \\delta^{2} - I \\beta \\chi \\delta^{2} - A \\alpha \\beta \\chi \\mu - I \\alpha \\beta \\chi \\mu + S \\alpha \\beta \\chi \\mu - 2 \\, A \\beta \\chi \\delta \\mu - 2 \\, I \\beta \\chi \\delta \\mu - A \\alpha \\beta \\chi \\rho - I \\alpha \\beta \\chi \\rho + S \\alpha \\beta \\chi \\rho - 2 \\, A \\beta \\chi \\delta \\rho - 2 \\, I \\beta \\chi \\delta \\rho + 2 \\, A \\alpha \\beta \\delta + 2 \\, I \\alpha \\beta \\delta - S \\alpha \\beta \\delta + A \\beta \\delta^{2} + I \\beta \\delta^{2} + A \\alpha \\beta \\mu + I \\alpha \\beta \\mu - S \\alpha \\beta \\mu + 2 \\, A \\beta \\delta \\mu + 2 \\, I \\beta \\delta \\mu + A \\alpha \\beta \\rho + I \\alpha \\beta \\rho - S \\alpha \\beta \\rho + 2 \\, A \\beta \\delta \\rho + 2 \\, I \\beta \\delta \\rho + \\alpha \\delta^{2} + 2 \\, \\alpha \\delta \\mu + \\delta^{2} \\mu + 2 \\, \\alpha \\delta \\rho + \\delta^{2} \\rho\\right) x^{2} + \\left(-A \\alpha \\beta \\chi \\delta^{2} - I \\alpha \\beta \\chi \\delta^{2} - 2 \\, A \\alpha \\beta \\chi \\delta \\mu - 2 \\, I \\alpha \\beta \\chi \\delta \\mu + S \\alpha \\beta \\chi \\delta \\mu - A \\beta \\chi \\delta^{2} \\mu - I \\beta \\chi \\delta^{2} \\mu - 2 \\, A \\alpha \\beta \\chi \\delta \\rho - 2 \\, I \\alpha \\beta \\chi \\delta \\rho + S \\alpha \\beta \\chi \\delta \\rho - A \\beta \\chi \\delta^{2} \\rho - I \\beta \\chi \\delta^{2} \\rho + A \\alpha \\beta \\delta^{2} + I \\alpha \\beta \\delta^{2} + 2 \\, A \\alpha \\beta \\delta \\mu + 2 \\, I \\alpha \\beta \\delta \\mu - S \\alpha \\beta \\delta \\mu + A \\beta \\delta^{2} \\mu + I \\beta \\delta^{2} \\mu + 2 \\, A \\alpha \\beta \\delta \\rho + 2 \\, I \\alpha \\beta \\delta \\rho - S \\alpha \\beta \\delta \\rho + A \\beta \\delta^{2} \\rho + I \\beta \\delta^{2} \\rho + \\alpha \\delta^{2} \\mu + \\alpha \\delta^{2} \\rho\\right) x - A \\alpha \\beta \\chi \\delta^{2} \\mu - I \\alpha \\beta \\chi \\delta^{2} \\mu - A \\alpha \\beta \\chi \\delta^{2} \\rho - I \\alpha \\beta \\chi \\delta^{2} \\rho + A \\alpha \\beta \\delta^{2} \\mu + I \\alpha \\beta \\delta^{2} \\mu + A \\alpha \\beta \\delta^{2} \\rho + I \\alpha \\beta \\delta^{2} \\rho</script></html>"
      ],
      "text/plain": [
       "x^5 + (-A*beta*chi - I*beta*chi + A*beta + I*beta + alpha + 2*delta + mu + rho)*x^4 + (-A*alpha*beta*chi - I*alpha*beta*chi + S*alpha*beta*chi - 2*A*beta*chi*delta - 2*I*beta*chi*delta - A*beta*chi*mu - I*beta*chi*mu - A*beta*chi*rho - I*beta*chi*rho + A*alpha*beta + I*alpha*beta - S*alpha*beta + 2*A*beta*delta + 2*I*beta*delta + A*beta*mu + I*beta*mu + A*beta*rho + I*beta*rho + 2*alpha*delta + delta^2 + alpha*mu + 2*delta*mu + alpha*rho + 2*delta*rho)*x^3 + (-2*A*alpha*beta*chi*delta - 2*I*alpha*beta*chi*delta + S*alpha*beta*chi*delta - A*beta*chi*delta^2 - I*beta*chi*delta^2 - A*alpha*beta*chi*mu - I*alpha*beta*chi*mu + S*alpha*beta*chi*mu - 2*A*beta*chi*delta*mu - 2*I*beta*chi*delta*mu - A*alpha*beta*chi*rho - I*alpha*beta*chi*rho + S*alpha*beta*chi*rho - 2*A*beta*chi*delta*rho - 2*I*beta*chi*delta*rho + 2*A*alpha*beta*delta + 2*I*alpha*beta*delta - S*alpha*beta*delta + A*beta*delta^2 + I*beta*delta^2 + A*alpha*beta*mu + I*alpha*beta*mu - S*alpha*beta*mu + 2*A*beta*delta*mu + 2*I*beta*delta*mu + A*alpha*beta*rho + I*alpha*beta*rho - S*alpha*beta*rho + 2*A*beta*delta*rho + 2*I*beta*delta*rho + alpha*delta^2 + 2*alpha*delta*mu + delta^2*mu + 2*alpha*delta*rho + delta^2*rho)*x^2 + (-A*alpha*beta*chi*delta^2 - I*alpha*beta*chi*delta^2 - 2*A*alpha*beta*chi*delta*mu - 2*I*alpha*beta*chi*delta*mu + S*alpha*beta*chi*delta*mu - A*beta*chi*delta^2*mu - I*beta*chi*delta^2*mu - 2*A*alpha*beta*chi*delta*rho - 2*I*alpha*beta*chi*delta*rho + S*alpha*beta*chi*delta*rho - A*beta*chi*delta^2*rho - I*beta*chi*delta^2*rho + A*alpha*beta*delta^2 + I*alpha*beta*delta^2 + 2*A*alpha*beta*delta*mu + 2*I*alpha*beta*delta*mu - S*alpha*beta*delta*mu + A*beta*delta^2*mu + I*beta*delta^2*mu + 2*A*alpha*beta*delta*rho + 2*I*alpha*beta*delta*rho - S*alpha*beta*delta*rho + A*beta*delta^2*rho + I*beta*delta^2*rho + alpha*delta^2*mu + alpha*delta^2*rho)*x - A*alpha*beta*chi*delta^2*mu - I*alpha*beta*chi*delta^2*mu - A*alpha*beta*chi*delta^2*rho - I*alpha*beta*chi*delta^2*rho + A*alpha*beta*delta^2*mu + I*alpha*beta*delta^2*mu + A*alpha*beta*delta^2*rho + I*alpha*beta*delta^2*rho"
      ]
     },
     "execution_count": 10,
     "metadata": {},
     "output_type": "execute_result"
    }
   ],
   "source": [
    "cp = jack.characteristic_polynomial()\n",
    "cp"
   ]
  },
  {
   "cell_type": "code",
   "execution_count": 0,
   "metadata": {},
   "outputs": [],
   "source": []
  },
  {
   "cell_type": "code",
   "execution_count": 12,
   "metadata": {
    "scrolled": true
   },
   "outputs": [
    {
     "data": {
      "text/html": [
       "<html><script type=\"math/tex; mode=display\">\\newcommand{\\Bold}[1]{\\mathbf{#1}}\\left[\\frac{1}{3} \\, A \\beta {\\left(\\chi - 1\\right)} + \\frac{1}{3} \\, I \\beta {\\left(\\chi - 1\\right)} + \\frac{\\left(\\frac{1}{2}\\right)^{\\frac{2}{3}} {\\left(3 \\, S \\alpha \\beta {\\left(\\chi - 1\\right)} - {\\left(A \\beta {\\left(\\chi - 1\\right)} + I \\beta {\\left(\\chi - 1\\right)} - \\alpha - \\delta\\right)}^{2} - 3 \\, {\\left(\\alpha \\beta {\\left(\\chi - 1\\right)} + {\\left(\\chi \\delta - \\delta\\right)} \\beta\\right)} A - 3 \\, {\\left(\\alpha \\beta {\\left(\\chi - 1\\right)} + {\\left(\\chi \\delta - \\delta\\right)} \\beta\\right)} I + 3 \\, \\alpha \\delta\\right)} {\\left(-i \\, \\sqrt{3} + 1\\right)}}{3 \\, {\\left(27 \\, {\\left(\\chi \\delta - \\delta\\right)} A \\alpha \\beta + 27 \\, {\\left(\\chi \\delta - \\delta\\right)} I \\alpha \\beta + 2 \\, {\\left(A \\beta {\\left(\\chi - 1\\right)} + I \\beta {\\left(\\chi - 1\\right)} - \\alpha - \\delta\\right)}^{3} - 9 \\, {\\left(S \\alpha \\beta {\\left(\\chi - 1\\right)} - {\\left(\\alpha \\beta {\\left(\\chi - 1\\right)} + {\\left(\\chi \\delta - \\delta\\right)} \\beta\\right)} A - {\\left(\\alpha \\beta {\\left(\\chi - 1\\right)} + {\\left(\\chi \\delta - \\delta\\right)} \\beta\\right)} I + \\alpha \\delta\\right)} {\\left(A \\beta {\\left(\\chi - 1\\right)} + I \\beta {\\left(\\chi - 1\\right)} - \\alpha - \\delta\\right)} + 9 \\, \\sqrt{-\\frac{1}{3} \\, {\\left(A^{4} + 4 \\, A^{3} I + 6 \\, A^{2} I^{2} + 4 \\, A I^{3} + I^{4} + {\\left(A^{2} + 2 \\, A I + I^{2}\\right)} S^{2} - 2 \\, {\\left(A^{3} + 3 \\, A^{2} I + 3 \\, A I^{2} + I^{3}\\right)} S\\right)} \\alpha^{2} \\beta^{4} \\chi^{4} - \\frac{1}{3} \\, {\\left(A^{2} + 2 \\, A I + I^{2} - 2 \\, {\\left(A + I\\right)} S + S^{2}\\right)} \\alpha^{4} \\beta^{2} + \\frac{2}{3} \\, {\\left(A^{3} + 3 \\, A^{2} I + 3 \\, A I^{2} + I^{3} + 5 \\, {\\left(A + I\\right)} S^{2} - 2 \\, S^{3} - 4 \\, {\\left(A^{2} + 2 \\, A I + I^{2}\\right)} S\\right)} \\alpha^{3} \\beta^{3} - \\frac{1}{3} \\, {\\left(A^{4} + 4 \\, A^{3} I + 6 \\, A^{2} I^{2} + 4 \\, A I^{3} + I^{4} + {\\left(A^{2} + 2 \\, A I + I^{2}\\right)} S^{2} - 2 \\, {\\left(A^{3} + 3 \\, A^{2} I + 3 \\, A I^{2} + I^{3}\\right)} S\\right)} \\alpha^{2} \\beta^{4} - \\frac{1}{3} \\, {\\left({\\left(A^{2} + 2 \\, A I + I^{2}\\right)} \\beta^{2} \\chi^{2} - 2 \\, {\\left(A + I\\right)} \\alpha \\beta + {\\left(A^{2} + 2 \\, A I + I^{2}\\right)} \\beta^{2} + \\alpha^{2} + 2 \\, {\\left({\\left(A + I\\right)} \\alpha \\beta - {\\left(A^{2} + 2 \\, A I + I^{2}\\right)} \\beta^{2}\\right)} \\chi\\right)} \\delta^{4} - \\frac{2}{3} \\, {\\left({\\left(A^{3} + 3 \\, A^{2} I + 3 \\, A I^{2} + I^{3} + 5 \\, {\\left(A + I\\right)} S^{2} - 2 \\, S^{3} - 4 \\, {\\left(A^{2} + 2 \\, A I + I^{2}\\right)} S\\right)} \\alpha^{3} \\beta^{3} - 2 \\, {\\left(A^{4} + 4 \\, A^{3} I + 6 \\, A^{2} I^{2} + 4 \\, A I^{3} + I^{4} + {\\left(A^{2} + 2 \\, A I + I^{2}\\right)} S^{2} - 2 \\, {\\left(A^{3} + 3 \\, A^{2} I + 3 \\, A I^{2} + I^{3}\\right)} S\\right)} \\alpha^{2} \\beta^{4}\\right)} \\chi^{3} - \\frac{2}{3} \\, {\\left({\\left(A^{3} + 3 \\, A^{2} I + 3 \\, A I^{2} + I^{3}\\right)} \\beta^{3} \\chi^{3} + {\\left(A + I - S\\right)} \\alpha^{2} \\beta + {\\left(A^{2} + 2 \\, A I + I^{2} - {\\left(A + I\\right)} S\\right)} \\alpha \\beta^{2} - {\\left(A^{3} + 3 \\, A^{2} I + 3 \\, A I^{2} + I^{3}\\right)} \\beta^{3} - \\alpha^{3} + {\\left({\\left(A^{2} + 2 \\, A I + I^{2} - {\\left(A + I\\right)} S\\right)} \\alpha \\beta^{2} - 3 \\, {\\left(A^{3} + 3 \\, A^{2} I + 3 \\, A I^{2} + I^{3}\\right)} \\beta^{3}\\right)} \\chi^{2} - {\\left({\\left(A + I - S\\right)} \\alpha^{2} \\beta + 2 \\, {\\left(A^{2} + 2 \\, A I + I^{2} - {\\left(A + I\\right)} S\\right)} \\alpha \\beta^{2} - 3 \\, {\\left(A^{3} + 3 \\, A^{2} I + 3 \\, A I^{2} + I^{3}\\right)} \\beta^{3}\\right)} \\chi\\right)} \\delta^{3} - \\frac{1}{3} \\, {\\left({\\left(A^{2} + 2 \\, A I + I^{2} - 2 \\, {\\left(A + I\\right)} S + S^{2}\\right)} \\alpha^{4} \\beta^{2} - 6 \\, {\\left(A^{3} + 3 \\, A^{2} I + 3 \\, A I^{2} + I^{3} + 5 \\, {\\left(A + I\\right)} S^{2} - 2 \\, S^{3} - 4 \\, {\\left(A^{2} + 2 \\, A I + I^{2}\\right)} S\\right)} \\alpha^{3} \\beta^{3} + 6 \\, {\\left(A^{4} + 4 \\, A^{3} I + 6 \\, A^{2} I^{2} + 4 \\, A I^{3} + I^{4} + {\\left(A^{2} + 2 \\, A I + I^{2}\\right)} S^{2} - 2 \\, {\\left(A^{3} + 3 \\, A^{2} I + 3 \\, A I^{2} + I^{3}\\right)} S\\right)} \\alpha^{2} \\beta^{4}\\right)} \\chi^{2} - \\frac{1}{3} \\, {\\left({\\left(A^{4} + 4 \\, A^{3} I + 6 \\, A^{2} I^{2} + 4 \\, A I^{3} + I^{4}\\right)} \\beta^{4} \\chi^{4} + 2 \\, {\\left(A + I + 4 \\, S\\right)} \\alpha^{3} \\beta - {\\left(6 \\, A^{2} + 12 \\, A I + 6 \\, I^{2} + 4 \\, {\\left(A + I\\right)} S - S^{2}\\right)} \\alpha^{2} \\beta^{2} + 2 \\, {\\left(A^{3} + 3 \\, A^{2} I + 3 \\, A I^{2} + I^{3} + 4 \\, {\\left(A^{2} + 2 \\, A I + I^{2}\\right)} S\\right)} \\alpha \\beta^{3} + {\\left(A^{4} + 4 \\, A^{3} I + 6 \\, A^{2} I^{2} + 4 \\, A I^{3} + I^{4}\\right)} \\beta^{4} + \\alpha^{4} - 2 \\, {\\left({\\left(A^{3} + 3 \\, A^{2} I + 3 \\, A I^{2} + I^{3} + 4 \\, {\\left(A^{2} + 2 \\, A I + I^{2}\\right)} S\\right)} \\alpha \\beta^{3} + 2 \\, {\\left(A^{4} + 4 \\, A^{3} I + 6 \\, A^{2} I^{2} + 4 \\, A I^{3} + I^{4}\\right)} \\beta^{4}\\right)} \\chi^{3} - {\\left({\\left(6 \\, A^{2} + 12 \\, A I + 6 \\, I^{2} + 4 \\, {\\left(A + I\\right)} S - S^{2}\\right)} \\alpha^{2} \\beta^{2} - 6 \\, {\\left(A^{3} + 3 \\, A^{2} I + 3 \\, A I^{2} + I^{3} + 4 \\, {\\left(A^{2} + 2 \\, A I + I^{2}\\right)} S\\right)} \\alpha \\beta^{3} - 6 \\, {\\left(A^{4} + 4 \\, A^{3} I + 6 \\, A^{2} I^{2} + 4 \\, A I^{3} + I^{4}\\right)} \\beta^{4}\\right)} \\chi^{2} - 2 \\, {\\left({\\left(A + I + 4 \\, S\\right)} \\alpha^{3} \\beta - {\\left(6 \\, A^{2} + 12 \\, A I + 6 \\, I^{2} + 4 \\, {\\left(A + I\\right)} S - S^{2}\\right)} \\alpha^{2} \\beta^{2} + 3 \\, {\\left(A^{3} + 3 \\, A^{2} I + 3 \\, A I^{2} + I^{3} + 4 \\, {\\left(A^{2} + 2 \\, A I + I^{2}\\right)} S\\right)} \\alpha \\beta^{3} + 2 \\, {\\left(A^{4} + 4 \\, A^{3} I + 6 \\, A^{2} I^{2} + 4 \\, A I^{3} + I^{4}\\right)} \\beta^{4}\\right)} \\chi\\right)} \\delta^{2} + \\frac{2}{3} \\, {\\left({\\left(A^{2} + 2 \\, A I + I^{2} - 2 \\, {\\left(A + I\\right)} S + S^{2}\\right)} \\alpha^{4} \\beta^{2} - 3 \\, {\\left(A^{3} + 3 \\, A^{2} I + 3 \\, A I^{2} + I^{3} + 5 \\, {\\left(A + I\\right)} S^{2} - 2 \\, S^{3} - 4 \\, {\\left(A^{2} + 2 \\, A I + I^{2}\\right)} S\\right)} \\alpha^{3} \\beta^{3} + 2 \\, {\\left(A^{4} + 4 \\, A^{3} I + 6 \\, A^{2} I^{2} + 4 \\, A I^{3} + I^{4} + {\\left(A^{2} + 2 \\, A I + I^{2}\\right)} S^{2} - 2 \\, {\\left(A^{3} + 3 \\, A^{2} I + 3 \\, A I^{2} + I^{3}\\right)} S\\right)} \\alpha^{2} \\beta^{4}\\right)} \\chi + \\frac{2}{3} \\, {\\left({\\left(A^{4} + 4 \\, A^{3} I + 6 \\, A^{2} I^{2} + 4 \\, A I^{3} + I^{4} + {\\left(A^{3} + 3 \\, A^{2} I + 3 \\, A I^{2} + I^{3}\\right)} S\\right)} \\alpha \\beta^{4} \\chi^{4} + {\\left(A + I + S\\right)} \\alpha^{4} \\beta - {\\left(A^{2} + 2 \\, A I + I^{2} - 2 \\, {\\left(A + I\\right)} S - 5 \\, S^{2}\\right)} \\alpha^{3} \\beta^{2} - {\\left(A^{3} + 3 \\, A^{2} I + 3 \\, A I^{2} + I^{3} - 5 \\, {\\left(A + I\\right)} S^{2} - 2 \\, {\\left(A^{2} + 2 \\, A I + I^{2}\\right)} S\\right)} \\alpha^{2} \\beta^{3} + {\\left(A^{4} + 4 \\, A^{3} I + 6 \\, A^{2} I^{2} + 4 \\, A I^{3} + I^{4} + {\\left(A^{3} + 3 \\, A^{2} I + 3 \\, A I^{2} + I^{3}\\right)} S\\right)} \\alpha \\beta^{4} + {\\left({\\left(A^{3} + 3 \\, A^{2} I + 3 \\, A I^{2} + I^{3} - 5 \\, {\\left(A + I\\right)} S^{2} - 2 \\, {\\left(A^{2} + 2 \\, A I + I^{2}\\right)} S\\right)} \\alpha^{2} \\beta^{3} - 4 \\, {\\left(A^{4} + 4 \\, A^{3} I + 6 \\, A^{2} I^{2} + 4 \\, A I^{3} + I^{4} + {\\left(A^{3} + 3 \\, A^{2} I + 3 \\, A I^{2} + I^{3}\\right)} S\\right)} \\alpha \\beta^{4}\\right)} \\chi^{3} - {\\left({\\left(A^{2} + 2 \\, A I + I^{2} - 2 \\, {\\left(A + I\\right)} S - 5 \\, S^{2}\\right)} \\alpha^{3} \\beta^{2} + 3 \\, {\\left(A^{3} + 3 \\, A^{2} I + 3 \\, A I^{2} + I^{3} - 5 \\, {\\left(A + I\\right)} S^{2} - 2 \\, {\\left(A^{2} + 2 \\, A I + I^{2}\\right)} S\\right)} \\alpha^{2} \\beta^{3} - 6 \\, {\\left(A^{4} + 4 \\, A^{3} I + 6 \\, A^{2} I^{2} + 4 \\, A I^{3} + I^{4} + {\\left(A^{3} + 3 \\, A^{2} I + 3 \\, A I^{2} + I^{3}\\right)} S\\right)} \\alpha \\beta^{4}\\right)} \\chi^{2} - {\\left({\\left(A + I + S\\right)} \\alpha^{4} \\beta - 2 \\, {\\left(A^{2} + 2 \\, A I + I^{2} - 2 \\, {\\left(A + I\\right)} S - 5 \\, S^{2}\\right)} \\alpha^{3} \\beta^{2} - 3 \\, {\\left(A^{3} + 3 \\, A^{2} I + 3 \\, A I^{2} + I^{3} - 5 \\, {\\left(A + I\\right)} S^{2} - 2 \\, {\\left(A^{2} + 2 \\, A I + I^{2}\\right)} S\\right)} \\alpha^{2} \\beta^{3} + 4 \\, {\\left(A^{4} + 4 \\, A^{3} I + 6 \\, A^{2} I^{2} + 4 \\, A I^{3} + I^{4} + {\\left(A^{3} + 3 \\, A^{2} I + 3 \\, A I^{2} + I^{3}\\right)} S\\right)} \\alpha \\beta^{4}\\right)} \\chi\\right)} \\delta}\\right)}^{\\frac{1}{3}}} - \\frac{1}{6} \\, \\left(\\frac{1}{2}\\right)^{\\frac{1}{3}} {\\left(27 \\, {\\left(\\chi \\delta - \\delta\\right)} A \\alpha \\beta + 27 \\, {\\left(\\chi \\delta - \\delta\\right)} I \\alpha \\beta + 2 \\, {\\left(A \\beta {\\left(\\chi - 1\\right)} + I \\beta {\\left(\\chi - 1\\right)} - \\alpha - \\delta\\right)}^{3} - 9 \\, {\\left(S \\alpha \\beta {\\left(\\chi - 1\\right)} - {\\left(\\alpha \\beta {\\left(\\chi - 1\\right)} + {\\left(\\chi \\delta - \\delta\\right)} \\beta\\right)} A - {\\left(\\alpha \\beta {\\left(\\chi - 1\\right)} + {\\left(\\chi \\delta - \\delta\\right)} \\beta\\right)} I + \\alpha \\delta\\right)} {\\left(A \\beta {\\left(\\chi - 1\\right)} + I \\beta {\\left(\\chi - 1\\right)} - \\alpha - \\delta\\right)} + 9 \\, \\sqrt{-\\frac{1}{3} \\, {\\left(A^{4} + 4 \\, A^{3} I + 6 \\, A^{2} I^{2} + 4 \\, A I^{3} + I^{4} + {\\left(A^{2} + 2 \\, A I + I^{2}\\right)} S^{2} - 2 \\, {\\left(A^{3} + 3 \\, A^{2} I + 3 \\, A I^{2} + I^{3}\\right)} S\\right)} \\alpha^{2} \\beta^{4} \\chi^{4} - \\frac{1}{3} \\, {\\left(A^{2} + 2 \\, A I + I^{2} - 2 \\, {\\left(A + I\\right)} S + S^{2}\\right)} \\alpha^{4} \\beta^{2} + \\frac{2}{3} \\, {\\left(A^{3} + 3 \\, A^{2} I + 3 \\, A I^{2} + I^{3} + 5 \\, {\\left(A + I\\right)} S^{2} - 2 \\, S^{3} - 4 \\, {\\left(A^{2} + 2 \\, A I + I^{2}\\right)} S\\right)} \\alpha^{3} \\beta^{3} - \\frac{1}{3} \\, {\\left(A^{4} + 4 \\, A^{3} I + 6 \\, A^{2} I^{2} + 4 \\, A I^{3} + I^{4} + {\\left(A^{2} + 2 \\, A I + I^{2}\\right)} S^{2} - 2 \\, {\\left(A^{3} + 3 \\, A^{2} I + 3 \\, A I^{2} + I^{3}\\right)} S\\right)} \\alpha^{2} \\beta^{4} - \\frac{1}{3} \\, {\\left({\\left(A^{2} + 2 \\, A I + I^{2}\\right)} \\beta^{2} \\chi^{2} - 2 \\, {\\left(A + I\\right)} \\alpha \\beta + {\\left(A^{2} + 2 \\, A I + I^{2}\\right)} \\beta^{2} + \\alpha^{2} + 2 \\, {\\left({\\left(A + I\\right)} \\alpha \\beta - {\\left(A^{2} + 2 \\, A I + I^{2}\\right)} \\beta^{2}\\right)} \\chi\\right)} \\delta^{4} - \\frac{2}{3} \\, {\\left({\\left(A^{3} + 3 \\, A^{2} I + 3 \\, A I^{2} + I^{3} + 5 \\, {\\left(A + I\\right)} S^{2} - 2 \\, S^{3} - 4 \\, {\\left(A^{2} + 2 \\, A I + I^{2}\\right)} S\\right)} \\alpha^{3} \\beta^{3} - 2 \\, {\\left(A^{4} + 4 \\, A^{3} I + 6 \\, A^{2} I^{2} + 4 \\, A I^{3} + I^{4} + {\\left(A^{2} + 2 \\, A I + I^{2}\\right)} S^{2} - 2 \\, {\\left(A^{3} + 3 \\, A^{2} I + 3 \\, A I^{2} + I^{3}\\right)} S\\right)} \\alpha^{2} \\beta^{4}\\right)} \\chi^{3} - \\frac{2}{3} \\, {\\left({\\left(A^{3} + 3 \\, A^{2} I + 3 \\, A I^{2} + I^{3}\\right)} \\beta^{3} \\chi^{3} + {\\left(A + I - S\\right)} \\alpha^{2} \\beta + {\\left(A^{2} + 2 \\, A I + I^{2} - {\\left(A + I\\right)} S\\right)} \\alpha \\beta^{2} - {\\left(A^{3} + 3 \\, A^{2} I + 3 \\, A I^{2} + I^{3}\\right)} \\beta^{3} - \\alpha^{3} + {\\left({\\left(A^{2} + 2 \\, A I + I^{2} - {\\left(A + I\\right)} S\\right)} \\alpha \\beta^{2} - 3 \\, {\\left(A^{3} + 3 \\, A^{2} I + 3 \\, A I^{2} + I^{3}\\right)} \\beta^{3}\\right)} \\chi^{2} - {\\left({\\left(A + I - S\\right)} \\alpha^{2} \\beta + 2 \\, {\\left(A^{2} + 2 \\, A I + I^{2} - {\\left(A + I\\right)} S\\right)} \\alpha \\beta^{2} - 3 \\, {\\left(A^{3} + 3 \\, A^{2} I + 3 \\, A I^{2} + I^{3}\\right)} \\beta^{3}\\right)} \\chi\\right)} \\delta^{3} - \\frac{1}{3} \\, {\\left({\\left(A^{2} + 2 \\, A I + I^{2} - 2 \\, {\\left(A + I\\right)} S + S^{2}\\right)} \\alpha^{4} \\beta^{2} - 6 \\, {\\left(A^{3} + 3 \\, A^{2} I + 3 \\, A I^{2} + I^{3} + 5 \\, {\\left(A + I\\right)} S^{2} - 2 \\, S^{3} - 4 \\, {\\left(A^{2} + 2 \\, A I + I^{2}\\right)} S\\right)} \\alpha^{3} \\beta^{3} + 6 \\, {\\left(A^{4} + 4 \\, A^{3} I + 6 \\, A^{2} I^{2} + 4 \\, A I^{3} + I^{4} + {\\left(A^{2} + 2 \\, A I + I^{2}\\right)} S^{2} - 2 \\, {\\left(A^{3} + 3 \\, A^{2} I + 3 \\, A I^{2} + I^{3}\\right)} S\\right)} \\alpha^{2} \\beta^{4}\\right)} \\chi^{2} - \\frac{1}{3} \\, {\\left({\\left(A^{4} + 4 \\, A^{3} I + 6 \\, A^{2} I^{2} + 4 \\, A I^{3} + I^{4}\\right)} \\beta^{4} \\chi^{4} + 2 \\, {\\left(A + I + 4 \\, S\\right)} \\alpha^{3} \\beta - {\\left(6 \\, A^{2} + 12 \\, A I + 6 \\, I^{2} + 4 \\, {\\left(A + I\\right)} S - S^{2}\\right)} \\alpha^{2} \\beta^{2} + 2 \\, {\\left(A^{3} + 3 \\, A^{2} I + 3 \\, A I^{2} + I^{3} + 4 \\, {\\left(A^{2} + 2 \\, A I + I^{2}\\right)} S\\right)} \\alpha \\beta^{3} + {\\left(A^{4} + 4 \\, A^{3} I + 6 \\, A^{2} I^{2} + 4 \\, A I^{3} + I^{4}\\right)} \\beta^{4} + \\alpha^{4} - 2 \\, {\\left({\\left(A^{3} + 3 \\, A^{2} I + 3 \\, A I^{2} + I^{3} + 4 \\, {\\left(A^{2} + 2 \\, A I + I^{2}\\right)} S\\right)} \\alpha \\beta^{3} + 2 \\, {\\left(A^{4} + 4 \\, A^{3} I + 6 \\, A^{2} I^{2} + 4 \\, A I^{3} + I^{4}\\right)} \\beta^{4}\\right)} \\chi^{3} - {\\left({\\left(6 \\, A^{2} + 12 \\, A I + 6 \\, I^{2} + 4 \\, {\\left(A + I\\right)} S - S^{2}\\right)} \\alpha^{2} \\beta^{2} - 6 \\, {\\left(A^{3} + 3 \\, A^{2} I + 3 \\, A I^{2} + I^{3} + 4 \\, {\\left(A^{2} + 2 \\, A I + I^{2}\\right)} S\\right)} \\alpha \\beta^{3} - 6 \\, {\\left(A^{4} + 4 \\, A^{3} I + 6 \\, A^{2} I^{2} + 4 \\, A I^{3} + I^{4}\\right)} \\beta^{4}\\right)} \\chi^{2} - 2 \\, {\\left({\\left(A + I + 4 \\, S\\right)} \\alpha^{3} \\beta - {\\left(6 \\, A^{2} + 12 \\, A I + 6 \\, I^{2} + 4 \\, {\\left(A + I\\right)} S - S^{2}\\right)} \\alpha^{2} \\beta^{2} + 3 \\, {\\left(A^{3} + 3 \\, A^{2} I + 3 \\, A I^{2} + I^{3} + 4 \\, {\\left(A^{2} + 2 \\, A I + I^{2}\\right)} S\\right)} \\alpha \\beta^{3} + 2 \\, {\\left(A^{4} + 4 \\, A^{3} I + 6 \\, A^{2} I^{2} + 4 \\, A I^{3} + I^{4}\\right)} \\beta^{4}\\right)} \\chi\\right)} \\delta^{2} + \\frac{2}{3} \\, {\\left({\\left(A^{2} + 2 \\, A I + I^{2} - 2 \\, {\\left(A + I\\right)} S + S^{2}\\right)} \\alpha^{4} \\beta^{2} - 3 \\, {\\left(A^{3} + 3 \\, A^{2} I + 3 \\, A I^{2} + I^{3} + 5 \\, {\\left(A + I\\right)} S^{2} - 2 \\, S^{3} - 4 \\, {\\left(A^{2} + 2 \\, A I + I^{2}\\right)} S\\right)} \\alpha^{3} \\beta^{3} + 2 \\, {\\left(A^{4} + 4 \\, A^{3} I + 6 \\, A^{2} I^{2} + 4 \\, A I^{3} + I^{4} + {\\left(A^{2} + 2 \\, A I + I^{2}\\right)} S^{2} - 2 \\, {\\left(A^{3} + 3 \\, A^{2} I + 3 \\, A I^{2} + I^{3}\\right)} S\\right)} \\alpha^{2} \\beta^{4}\\right)} \\chi + \\frac{2}{3} \\, {\\left({\\left(A^{4} + 4 \\, A^{3} I + 6 \\, A^{2} I^{2} + 4 \\, A I^{3} + I^{4} + {\\left(A^{3} + 3 \\, A^{2} I + 3 \\, A I^{2} + I^{3}\\right)} S\\right)} \\alpha \\beta^{4} \\chi^{4} + {\\left(A + I + S\\right)} \\alpha^{4} \\beta - {\\left(A^{2} + 2 \\, A I + I^{2} - 2 \\, {\\left(A + I\\right)} S - 5 \\, S^{2}\\right)} \\alpha^{3} \\beta^{2} - {\\left(A^{3} + 3 \\, A^{2} I + 3 \\, A I^{2} + I^{3} - 5 \\, {\\left(A + I\\right)} S^{2} - 2 \\, {\\left(A^{2} + 2 \\, A I + I^{2}\\right)} S\\right)} \\alpha^{2} \\beta^{3} + {\\left(A^{4} + 4 \\, A^{3} I + 6 \\, A^{2} I^{2} + 4 \\, A I^{3} + I^{4} + {\\left(A^{3} + 3 \\, A^{2} I + 3 \\, A I^{2} + I^{3}\\right)} S\\right)} \\alpha \\beta^{4} + {\\left({\\left(A^{3} + 3 \\, A^{2} I + 3 \\, A I^{2} + I^{3} - 5 \\, {\\left(A + I\\right)} S^{2} - 2 \\, {\\left(A^{2} + 2 \\, A I + I^{2}\\right)} S\\right)} \\alpha^{2} \\beta^{3} - 4 \\, {\\left(A^{4} + 4 \\, A^{3} I + 6 \\, A^{2} I^{2} + 4 \\, A I^{3} + I^{4} + {\\left(A^{3} + 3 \\, A^{2} I + 3 \\, A I^{2} + I^{3}\\right)} S\\right)} \\alpha \\beta^{4}\\right)} \\chi^{3} - {\\left({\\left(A^{2} + 2 \\, A I + I^{2} - 2 \\, {\\left(A + I\\right)} S - 5 \\, S^{2}\\right)} \\alpha^{3} \\beta^{2} + 3 \\, {\\left(A^{3} + 3 \\, A^{2} I + 3 \\, A I^{2} + I^{3} - 5 \\, {\\left(A + I\\right)} S^{2} - 2 \\, {\\left(A^{2} + 2 \\, A I + I^{2}\\right)} S\\right)} \\alpha^{2} \\beta^{3} - 6 \\, {\\left(A^{4} + 4 \\, A^{3} I + 6 \\, A^{2} I^{2} + 4 \\, A I^{3} + I^{4} + {\\left(A^{3} + 3 \\, A^{2} I + 3 \\, A I^{2} + I^{3}\\right)} S\\right)} \\alpha \\beta^{4}\\right)} \\chi^{2} - {\\left({\\left(A + I + S\\right)} \\alpha^{4} \\beta - 2 \\, {\\left(A^{2} + 2 \\, A I + I^{2} - 2 \\, {\\left(A + I\\right)} S - 5 \\, S^{2}\\right)} \\alpha^{3} \\beta^{2} - 3 \\, {\\left(A^{3} + 3 \\, A^{2} I + 3 \\, A I^{2} + I^{3} - 5 \\, {\\left(A + I\\right)} S^{2} - 2 \\, {\\left(A^{2} + 2 \\, A I + I^{2}\\right)} S\\right)} \\alpha^{2} \\beta^{3} + 4 \\, {\\left(A^{4} + 4 \\, A^{3} I + 6 \\, A^{2} I^{2} + 4 \\, A I^{3} + I^{4} + {\\left(A^{3} + 3 \\, A^{2} I + 3 \\, A I^{2} + I^{3}\\right)} S\\right)} \\alpha \\beta^{4}\\right)} \\chi\\right)} \\delta}\\right)}^{\\frac{1}{3}} {\\left(i \\, \\sqrt{3} + 1\\right)} - \\frac{1}{3} \\, \\alpha - \\frac{1}{3} \\, \\delta, \\frac{1}{3} \\, A \\beta {\\left(\\chi - 1\\right)} + \\frac{1}{3} \\, I \\beta {\\left(\\chi - 1\\right)} + \\frac{\\left(\\frac{1}{2}\\right)^{\\frac{2}{3}} {\\left(3 \\, S \\alpha \\beta {\\left(\\chi - 1\\right)} - {\\left(A \\beta {\\left(\\chi - 1\\right)} + I \\beta {\\left(\\chi - 1\\right)} - \\alpha - \\delta\\right)}^{2} - 3 \\, {\\left(\\alpha \\beta {\\left(\\chi - 1\\right)} + {\\left(\\chi \\delta - \\delta\\right)} \\beta\\right)} A - 3 \\, {\\left(\\alpha \\beta {\\left(\\chi - 1\\right)} + {\\left(\\chi \\delta - \\delta\\right)} \\beta\\right)} I + 3 \\, \\alpha \\delta\\right)} {\\left(i \\, \\sqrt{3} + 1\\right)}}{3 \\, {\\left(27 \\, {\\left(\\chi \\delta - \\delta\\right)} A \\alpha \\beta + 27 \\, {\\left(\\chi \\delta - \\delta\\right)} I \\alpha \\beta + 2 \\, {\\left(A \\beta {\\left(\\chi - 1\\right)} + I \\beta {\\left(\\chi - 1\\right)} - \\alpha - \\delta\\right)}^{3} - 9 \\, {\\left(S \\alpha \\beta {\\left(\\chi - 1\\right)} - {\\left(\\alpha \\beta {\\left(\\chi - 1\\right)} + {\\left(\\chi \\delta - \\delta\\right)} \\beta\\right)} A - {\\left(\\alpha \\beta {\\left(\\chi - 1\\right)} + {\\left(\\chi \\delta - \\delta\\right)} \\beta\\right)} I + \\alpha \\delta\\right)} {\\left(A \\beta {\\left(\\chi - 1\\right)} + I \\beta {\\left(\\chi - 1\\right)} - \\alpha - \\delta\\right)} + 9 \\, \\sqrt{-\\frac{1}{3} \\, {\\left(A^{4} + 4 \\, A^{3} I + 6 \\, A^{2} I^{2} + 4 \\, A I^{3} + I^{4} + {\\left(A^{2} + 2 \\, A I + I^{2}\\right)} S^{2} - 2 \\, {\\left(A^{3} + 3 \\, A^{2} I + 3 \\, A I^{2} + I^{3}\\right)} S\\right)} \\alpha^{2} \\beta^{4} \\chi^{4} - \\frac{1}{3} \\, {\\left(A^{2} + 2 \\, A I + I^{2} - 2 \\, {\\left(A + I\\right)} S + S^{2}\\right)} \\alpha^{4} \\beta^{2} + \\frac{2}{3} \\, {\\left(A^{3} + 3 \\, A^{2} I + 3 \\, A I^{2} + I^{3} + 5 \\, {\\left(A + I\\right)} S^{2} - 2 \\, S^{3} - 4 \\, {\\left(A^{2} + 2 \\, A I + I^{2}\\right)} S\\right)} \\alpha^{3} \\beta^{3} - \\frac{1}{3} \\, {\\left(A^{4} + 4 \\, A^{3} I + 6 \\, A^{2} I^{2} + 4 \\, A I^{3} + I^{4} + {\\left(A^{2} + 2 \\, A I + I^{2}\\right)} S^{2} - 2 \\, {\\left(A^{3} + 3 \\, A^{2} I + 3 \\, A I^{2} + I^{3}\\right)} S\\right)} \\alpha^{2} \\beta^{4} - \\frac{1}{3} \\, {\\left({\\left(A^{2} + 2 \\, A I + I^{2}\\right)} \\beta^{2} \\chi^{2} - 2 \\, {\\left(A + I\\right)} \\alpha \\beta + {\\left(A^{2} + 2 \\, A I + I^{2}\\right)} \\beta^{2} + \\alpha^{2} + 2 \\, {\\left({\\left(A + I\\right)} \\alpha \\beta - {\\left(A^{2} + 2 \\, A I + I^{2}\\right)} \\beta^{2}\\right)} \\chi\\right)} \\delta^{4} - \\frac{2}{3} \\, {\\left({\\left(A^{3} + 3 \\, A^{2} I + 3 \\, A I^{2} + I^{3} + 5 \\, {\\left(A + I\\right)} S^{2} - 2 \\, S^{3} - 4 \\, {\\left(A^{2} + 2 \\, A I + I^{2}\\right)} S\\right)} \\alpha^{3} \\beta^{3} - 2 \\, {\\left(A^{4} + 4 \\, A^{3} I + 6 \\, A^{2} I^{2} + 4 \\, A I^{3} + I^{4} + {\\left(A^{2} + 2 \\, A I + I^{2}\\right)} S^{2} - 2 \\, {\\left(A^{3} + 3 \\, A^{2} I + 3 \\, A I^{2} + I^{3}\\right)} S\\right)} \\alpha^{2} \\beta^{4}\\right)} \\chi^{3} - \\frac{2}{3} \\, {\\left({\\left(A^{3} + 3 \\, A^{2} I + 3 \\, A I^{2} + I^{3}\\right)} \\beta^{3} \\chi^{3} + {\\left(A + I - S\\right)} \\alpha^{2} \\beta + {\\left(A^{2} + 2 \\, A I + I^{2} - {\\left(A + I\\right)} S\\right)} \\alpha \\beta^{2} - {\\left(A^{3} + 3 \\, A^{2} I + 3 \\, A I^{2} + I^{3}\\right)} \\beta^{3} - \\alpha^{3} + {\\left({\\left(A^{2} + 2 \\, A I + I^{2} - {\\left(A + I\\right)} S\\right)} \\alpha \\beta^{2} - 3 \\, {\\left(A^{3} + 3 \\, A^{2} I + 3 \\, A I^{2} + I^{3}\\right)} \\beta^{3}\\right)} \\chi^{2} - {\\left({\\left(A + I - S\\right)} \\alpha^{2} \\beta + 2 \\, {\\left(A^{2} + 2 \\, A I + I^{2} - {\\left(A + I\\right)} S\\right)} \\alpha \\beta^{2} - 3 \\, {\\left(A^{3} + 3 \\, A^{2} I + 3 \\, A I^{2} + I^{3}\\right)} \\beta^{3}\\right)} \\chi\\right)} \\delta^{3} - \\frac{1}{3} \\, {\\left({\\left(A^{2} + 2 \\, A I + I^{2} - 2 \\, {\\left(A + I\\right)} S + S^{2}\\right)} \\alpha^{4} \\beta^{2} - 6 \\, {\\left(A^{3} + 3 \\, A^{2} I + 3 \\, A I^{2} + I^{3} + 5 \\, {\\left(A + I\\right)} S^{2} - 2 \\, S^{3} - 4 \\, {\\left(A^{2} + 2 \\, A I + I^{2}\\right)} S\\right)} \\alpha^{3} \\beta^{3} + 6 \\, {\\left(A^{4} + 4 \\, A^{3} I + 6 \\, A^{2} I^{2} + 4 \\, A I^{3} + I^{4} + {\\left(A^{2} + 2 \\, A I + I^{2}\\right)} S^{2} - 2 \\, {\\left(A^{3} + 3 \\, A^{2} I + 3 \\, A I^{2} + I^{3}\\right)} S\\right)} \\alpha^{2} \\beta^{4}\\right)} \\chi^{2} - \\frac{1}{3} \\, {\\left({\\left(A^{4} + 4 \\, A^{3} I + 6 \\, A^{2} I^{2} + 4 \\, A I^{3} + I^{4}\\right)} \\beta^{4} \\chi^{4} + 2 \\, {\\left(A + I + 4 \\, S\\right)} \\alpha^{3} \\beta - {\\left(6 \\, A^{2} + 12 \\, A I + 6 \\, I^{2} + 4 \\, {\\left(A + I\\right)} S - S^{2}\\right)} \\alpha^{2} \\beta^{2} + 2 \\, {\\left(A^{3} + 3 \\, A^{2} I + 3 \\, A I^{2} + I^{3} + 4 \\, {\\left(A^{2} + 2 \\, A I + I^{2}\\right)} S\\right)} \\alpha \\beta^{3} + {\\left(A^{4} + 4 \\, A^{3} I + 6 \\, A^{2} I^{2} + 4 \\, A I^{3} + I^{4}\\right)} \\beta^{4} + \\alpha^{4} - 2 \\, {\\left({\\left(A^{3} + 3 \\, A^{2} I + 3 \\, A I^{2} + I^{3} + 4 \\, {\\left(A^{2} + 2 \\, A I + I^{2}\\right)} S\\right)} \\alpha \\beta^{3} + 2 \\, {\\left(A^{4} + 4 \\, A^{3} I + 6 \\, A^{2} I^{2} + 4 \\, A I^{3} + I^{4}\\right)} \\beta^{4}\\right)} \\chi^{3} - {\\left({\\left(6 \\, A^{2} + 12 \\, A I + 6 \\, I^{2} + 4 \\, {\\left(A + I\\right)} S - S^{2}\\right)} \\alpha^{2} \\beta^{2} - 6 \\, {\\left(A^{3} + 3 \\, A^{2} I + 3 \\, A I^{2} + I^{3} + 4 \\, {\\left(A^{2} + 2 \\, A I + I^{2}\\right)} S\\right)} \\alpha \\beta^{3} - 6 \\, {\\left(A^{4} + 4 \\, A^{3} I + 6 \\, A^{2} I^{2} + 4 \\, A I^{3} + I^{4}\\right)} \\beta^{4}\\right)} \\chi^{2} - 2 \\, {\\left({\\left(A + I + 4 \\, S\\right)} \\alpha^{3} \\beta - {\\left(6 \\, A^{2} + 12 \\, A I + 6 \\, I^{2} + 4 \\, {\\left(A + I\\right)} S - S^{2}\\right)} \\alpha^{2} \\beta^{2} + 3 \\, {\\left(A^{3} + 3 \\, A^{2} I + 3 \\, A I^{2} + I^{3} + 4 \\, {\\left(A^{2} + 2 \\, A I + I^{2}\\right)} S\\right)} \\alpha \\beta^{3} + 2 \\, {\\left(A^{4} + 4 \\, A^{3} I + 6 \\, A^{2} I^{2} + 4 \\, A I^{3} + I^{4}\\right)} \\beta^{4}\\right)} \\chi\\right)} \\delta^{2} + \\frac{2}{3} \\, {\\left({\\left(A^{2} + 2 \\, A I + I^{2} - 2 \\, {\\left(A + I\\right)} S + S^{2}\\right)} \\alpha^{4} \\beta^{2} - 3 \\, {\\left(A^{3} + 3 \\, A^{2} I + 3 \\, A I^{2} + I^{3} + 5 \\, {\\left(A + I\\right)} S^{2} - 2 \\, S^{3} - 4 \\, {\\left(A^{2} + 2 \\, A I + I^{2}\\right)} S\\right)} \\alpha^{3} \\beta^{3} + 2 \\, {\\left(A^{4} + 4 \\, A^{3} I + 6 \\, A^{2} I^{2} + 4 \\, A I^{3} + I^{4} + {\\left(A^{2} + 2 \\, A I + I^{2}\\right)} S^{2} - 2 \\, {\\left(A^{3} + 3 \\, A^{2} I + 3 \\, A I^{2} + I^{3}\\right)} S\\right)} \\alpha^{2} \\beta^{4}\\right)} \\chi + \\frac{2}{3} \\, {\\left({\\left(A^{4} + 4 \\, A^{3} I + 6 \\, A^{2} I^{2} + 4 \\, A I^{3} + I^{4} + {\\left(A^{3} + 3 \\, A^{2} I + 3 \\, A I^{2} + I^{3}\\right)} S\\right)} \\alpha \\beta^{4} \\chi^{4} + {\\left(A + I + S\\right)} \\alpha^{4} \\beta - {\\left(A^{2} + 2 \\, A I + I^{2} - 2 \\, {\\left(A + I\\right)} S - 5 \\, S^{2}\\right)} \\alpha^{3} \\beta^{2} - {\\left(A^{3} + 3 \\, A^{2} I + 3 \\, A I^{2} + I^{3} - 5 \\, {\\left(A + I\\right)} S^{2} - 2 \\, {\\left(A^{2} + 2 \\, A I + I^{2}\\right)} S\\right)} \\alpha^{2} \\beta^{3} + {\\left(A^{4} + 4 \\, A^{3} I + 6 \\, A^{2} I^{2} + 4 \\, A I^{3} + I^{4} + {\\left(A^{3} + 3 \\, A^{2} I + 3 \\, A I^{2} + I^{3}\\right)} S\\right)} \\alpha \\beta^{4} + {\\left({\\left(A^{3} + 3 \\, A^{2} I + 3 \\, A I^{2} + I^{3} - 5 \\, {\\left(A + I\\right)} S^{2} - 2 \\, {\\left(A^{2} + 2 \\, A I + I^{2}\\right)} S\\right)} \\alpha^{2} \\beta^{3} - 4 \\, {\\left(A^{4} + 4 \\, A^{3} I + 6 \\, A^{2} I^{2} + 4 \\, A I^{3} + I^{4} + {\\left(A^{3} + 3 \\, A^{2} I + 3 \\, A I^{2} + I^{3}\\right)} S\\right)} \\alpha \\beta^{4}\\right)} \\chi^{3} - {\\left({\\left(A^{2} + 2 \\, A I + I^{2} - 2 \\, {\\left(A + I\\right)} S - 5 \\, S^{2}\\right)} \\alpha^{3} \\beta^{2} + 3 \\, {\\left(A^{3} + 3 \\, A^{2} I + 3 \\, A I^{2} + I^{3} - 5 \\, {\\left(A + I\\right)} S^{2} - 2 \\, {\\left(A^{2} + 2 \\, A I + I^{2}\\right)} S\\right)} \\alpha^{2} \\beta^{3} - 6 \\, {\\left(A^{4} + 4 \\, A^{3} I + 6 \\, A^{2} I^{2} + 4 \\, A I^{3} + I^{4} + {\\left(A^{3} + 3 \\, A^{2} I + 3 \\, A I^{2} + I^{3}\\right)} S\\right)} \\alpha \\beta^{4}\\right)} \\chi^{2} - {\\left({\\left(A + I + S\\right)} \\alpha^{4} \\beta - 2 \\, {\\left(A^{2} + 2 \\, A I + I^{2} - 2 \\, {\\left(A + I\\right)} S - 5 \\, S^{2}\\right)} \\alpha^{3} \\beta^{2} - 3 \\, {\\left(A^{3} + 3 \\, A^{2} I + 3 \\, A I^{2} + I^{3} - 5 \\, {\\left(A + I\\right)} S^{2} - 2 \\, {\\left(A^{2} + 2 \\, A I + I^{2}\\right)} S\\right)} \\alpha^{2} \\beta^{3} + 4 \\, {\\left(A^{4} + 4 \\, A^{3} I + 6 \\, A^{2} I^{2} + 4 \\, A I^{3} + I^{4} + {\\left(A^{3} + 3 \\, A^{2} I + 3 \\, A I^{2} + I^{3}\\right)} S\\right)} \\alpha \\beta^{4}\\right)} \\chi\\right)} \\delta}\\right)}^{\\frac{1}{3}}} - \\frac{1}{6} \\, \\left(\\frac{1}{2}\\right)^{\\frac{1}{3}} {\\left(27 \\, {\\left(\\chi \\delta - \\delta\\right)} A \\alpha \\beta + 27 \\, {\\left(\\chi \\delta - \\delta\\right)} I \\alpha \\beta + 2 \\, {\\left(A \\beta {\\left(\\chi - 1\\right)} + I \\beta {\\left(\\chi - 1\\right)} - \\alpha - \\delta\\right)}^{3} - 9 \\, {\\left(S \\alpha \\beta {\\left(\\chi - 1\\right)} - {\\left(\\alpha \\beta {\\left(\\chi - 1\\right)} + {\\left(\\chi \\delta - \\delta\\right)} \\beta\\right)} A - {\\left(\\alpha \\beta {\\left(\\chi - 1\\right)} + {\\left(\\chi \\delta - \\delta\\right)} \\beta\\right)} I + \\alpha \\delta\\right)} {\\left(A \\beta {\\left(\\chi - 1\\right)} + I \\beta {\\left(\\chi - 1\\right)} - \\alpha - \\delta\\right)} + 9 \\, \\sqrt{-\\frac{1}{3} \\, {\\left(A^{4} + 4 \\, A^{3} I + 6 \\, A^{2} I^{2} + 4 \\, A I^{3} + I^{4} + {\\left(A^{2} + 2 \\, A I + I^{2}\\right)} S^{2} - 2 \\, {\\left(A^{3} + 3 \\, A^{2} I + 3 \\, A I^{2} + I^{3}\\right)} S\\right)} \\alpha^{2} \\beta^{4} \\chi^{4} - \\frac{1}{3} \\, {\\left(A^{2} + 2 \\, A I + I^{2} - 2 \\, {\\left(A + I\\right)} S + S^{2}\\right)} \\alpha^{4} \\beta^{2} + \\frac{2}{3} \\, {\\left(A^{3} + 3 \\, A^{2} I + 3 \\, A I^{2} + I^{3} + 5 \\, {\\left(A + I\\right)} S^{2} - 2 \\, S^{3} - 4 \\, {\\left(A^{2} + 2 \\, A I + I^{2}\\right)} S\\right)} \\alpha^{3} \\beta^{3} - \\frac{1}{3} \\, {\\left(A^{4} + 4 \\, A^{3} I + 6 \\, A^{2} I^{2} + 4 \\, A I^{3} + I^{4} + {\\left(A^{2} + 2 \\, A I + I^{2}\\right)} S^{2} - 2 \\, {\\left(A^{3} + 3 \\, A^{2} I + 3 \\, A I^{2} + I^{3}\\right)} S\\right)} \\alpha^{2} \\beta^{4} - \\frac{1}{3} \\, {\\left({\\left(A^{2} + 2 \\, A I + I^{2}\\right)} \\beta^{2} \\chi^{2} - 2 \\, {\\left(A + I\\right)} \\alpha \\beta + {\\left(A^{2} + 2 \\, A I + I^{2}\\right)} \\beta^{2} + \\alpha^{2} + 2 \\, {\\left({\\left(A + I\\right)} \\alpha \\beta - {\\left(A^{2} + 2 \\, A I + I^{2}\\right)} \\beta^{2}\\right)} \\chi\\right)} \\delta^{4} - \\frac{2}{3} \\, {\\left({\\left(A^{3} + 3 \\, A^{2} I + 3 \\, A I^{2} + I^{3} + 5 \\, {\\left(A + I\\right)} S^{2} - 2 \\, S^{3} - 4 \\, {\\left(A^{2} + 2 \\, A I + I^{2}\\right)} S\\right)} \\alpha^{3} \\beta^{3} - 2 \\, {\\left(A^{4} + 4 \\, A^{3} I + 6 \\, A^{2} I^{2} + 4 \\, A I^{3} + I^{4} + {\\left(A^{2} + 2 \\, A I + I^{2}\\right)} S^{2} - 2 \\, {\\left(A^{3} + 3 \\, A^{2} I + 3 \\, A I^{2} + I^{3}\\right)} S\\right)} \\alpha^{2} \\beta^{4}\\right)} \\chi^{3} - \\frac{2}{3} \\, {\\left({\\left(A^{3} + 3 \\, A^{2} I + 3 \\, A I^{2} + I^{3}\\right)} \\beta^{3} \\chi^{3} + {\\left(A + I - S\\right)} \\alpha^{2} \\beta + {\\left(A^{2} + 2 \\, A I + I^{2} - {\\left(A + I\\right)} S\\right)} \\alpha \\beta^{2} - {\\left(A^{3} + 3 \\, A^{2} I + 3 \\, A I^{2} + I^{3}\\right)} \\beta^{3} - \\alpha^{3} + {\\left({\\left(A^{2} + 2 \\, A I + I^{2} - {\\left(A + I\\right)} S\\right)} \\alpha \\beta^{2} - 3 \\, {\\left(A^{3} + 3 \\, A^{2} I + 3 \\, A I^{2} + I^{3}\\right)} \\beta^{3}\\right)} \\chi^{2} - {\\left({\\left(A + I - S\\right)} \\alpha^{2} \\beta + 2 \\, {\\left(A^{2} + 2 \\, A I + I^{2} - {\\left(A + I\\right)} S\\right)} \\alpha \\beta^{2} - 3 \\, {\\left(A^{3} + 3 \\, A^{2} I + 3 \\, A I^{2} + I^{3}\\right)} \\beta^{3}\\right)} \\chi\\right)} \\delta^{3} - \\frac{1}{3} \\, {\\left({\\left(A^{2} + 2 \\, A I + I^{2} - 2 \\, {\\left(A + I\\right)} S + S^{2}\\right)} \\alpha^{4} \\beta^{2} - 6 \\, {\\left(A^{3} + 3 \\, A^{2} I + 3 \\, A I^{2} + I^{3} + 5 \\, {\\left(A + I\\right)} S^{2} - 2 \\, S^{3} - 4 \\, {\\left(A^{2} + 2 \\, A I + I^{2}\\right)} S\\right)} \\alpha^{3} \\beta^{3} + 6 \\, {\\left(A^{4} + 4 \\, A^{3} I + 6 \\, A^{2} I^{2} + 4 \\, A I^{3} + I^{4} + {\\left(A^{2} + 2 \\, A I + I^{2}\\right)} S^{2} - 2 \\, {\\left(A^{3} + 3 \\, A^{2} I + 3 \\, A I^{2} + I^{3}\\right)} S\\right)} \\alpha^{2} \\beta^{4}\\right)} \\chi^{2} - \\frac{1}{3} \\, {\\left({\\left(A^{4} + 4 \\, A^{3} I + 6 \\, A^{2} I^{2} + 4 \\, A I^{3} + I^{4}\\right)} \\beta^{4} \\chi^{4} + 2 \\, {\\left(A + I + 4 \\, S\\right)} \\alpha^{3} \\beta - {\\left(6 \\, A^{2} + 12 \\, A I + 6 \\, I^{2} + 4 \\, {\\left(A + I\\right)} S - S^{2}\\right)} \\alpha^{2} \\beta^{2} + 2 \\, {\\left(A^{3} + 3 \\, A^{2} I + 3 \\, A I^{2} + I^{3} + 4 \\, {\\left(A^{2} + 2 \\, A I + I^{2}\\right)} S\\right)} \\alpha \\beta^{3} + {\\left(A^{4} + 4 \\, A^{3} I + 6 \\, A^{2} I^{2} + 4 \\, A I^{3} + I^{4}\\right)} \\beta^{4} + \\alpha^{4} - 2 \\, {\\left({\\left(A^{3} + 3 \\, A^{2} I + 3 \\, A I^{2} + I^{3} + 4 \\, {\\left(A^{2} + 2 \\, A I + I^{2}\\right)} S\\right)} \\alpha \\beta^{3} + 2 \\, {\\left(A^{4} + 4 \\, A^{3} I + 6 \\, A^{2} I^{2} + 4 \\, A I^{3} + I^{4}\\right)} \\beta^{4}\\right)} \\chi^{3} - {\\left({\\left(6 \\, A^{2} + 12 \\, A I + 6 \\, I^{2} + 4 \\, {\\left(A + I\\right)} S - S^{2}\\right)} \\alpha^{2} \\beta^{2} - 6 \\, {\\left(A^{3} + 3 \\, A^{2} I + 3 \\, A I^{2} + I^{3} + 4 \\, {\\left(A^{2} + 2 \\, A I + I^{2}\\right)} S\\right)} \\alpha \\beta^{3} - 6 \\, {\\left(A^{4} + 4 \\, A^{3} I + 6 \\, A^{2} I^{2} + 4 \\, A I^{3} + I^{4}\\right)} \\beta^{4}\\right)} \\chi^{2} - 2 \\, {\\left({\\left(A + I + 4 \\, S\\right)} \\alpha^{3} \\beta - {\\left(6 \\, A^{2} + 12 \\, A I + 6 \\, I^{2} + 4 \\, {\\left(A + I\\right)} S - S^{2}\\right)} \\alpha^{2} \\beta^{2} + 3 \\, {\\left(A^{3} + 3 \\, A^{2} I + 3 \\, A I^{2} + I^{3} + 4 \\, {\\left(A^{2} + 2 \\, A I + I^{2}\\right)} S\\right)} \\alpha \\beta^{3} + 2 \\, {\\left(A^{4} + 4 \\, A^{3} I + 6 \\, A^{2} I^{2} + 4 \\, A I^{3} + I^{4}\\right)} \\beta^{4}\\right)} \\chi\\right)} \\delta^{2} + \\frac{2}{3} \\, {\\left({\\left(A^{2} + 2 \\, A I + I^{2} - 2 \\, {\\left(A + I\\right)} S + S^{2}\\right)} \\alpha^{4} \\beta^{2} - 3 \\, {\\left(A^{3} + 3 \\, A^{2} I + 3 \\, A I^{2} + I^{3} + 5 \\, {\\left(A + I\\right)} S^{2} - 2 \\, S^{3} - 4 \\, {\\left(A^{2} + 2 \\, A I + I^{2}\\right)} S\\right)} \\alpha^{3} \\beta^{3} + 2 \\, {\\left(A^{4} + 4 \\, A^{3} I + 6 \\, A^{2} I^{2} + 4 \\, A I^{3} + I^{4} + {\\left(A^{2} + 2 \\, A I + I^{2}\\right)} S^{2} - 2 \\, {\\left(A^{3} + 3 \\, A^{2} I + 3 \\, A I^{2} + I^{3}\\right)} S\\right)} \\alpha^{2} \\beta^{4}\\right)} \\chi + \\frac{2}{3} \\, {\\left({\\left(A^{4} + 4 \\, A^{3} I + 6 \\, A^{2} I^{2} + 4 \\, A I^{3} + I^{4} + {\\left(A^{3} + 3 \\, A^{2} I + 3 \\, A I^{2} + I^{3}\\right)} S\\right)} \\alpha \\beta^{4} \\chi^{4} + {\\left(A + I + S\\right)} \\alpha^{4} \\beta - {\\left(A^{2} + 2 \\, A I + I^{2} - 2 \\, {\\left(A + I\\right)} S - 5 \\, S^{2}\\right)} \\alpha^{3} \\beta^{2} - {\\left(A^{3} + 3 \\, A^{2} I + 3 \\, A I^{2} + I^{3} - 5 \\, {\\left(A + I\\right)} S^{2} - 2 \\, {\\left(A^{2} + 2 \\, A I + I^{2}\\right)} S\\right)} \\alpha^{2} \\beta^{3} + {\\left(A^{4} + 4 \\, A^{3} I + 6 \\, A^{2} I^{2} + 4 \\, A I^{3} + I^{4} + {\\left(A^{3} + 3 \\, A^{2} I + 3 \\, A I^{2} + I^{3}\\right)} S\\right)} \\alpha \\beta^{4} + {\\left({\\left(A^{3} + 3 \\, A^{2} I + 3 \\, A I^{2} + I^{3} - 5 \\, {\\left(A + I\\right)} S^{2} - 2 \\, {\\left(A^{2} + 2 \\, A I + I^{2}\\right)} S\\right)} \\alpha^{2} \\beta^{3} - 4 \\, {\\left(A^{4} + 4 \\, A^{3} I + 6 \\, A^{2} I^{2} + 4 \\, A I^{3} + I^{4} + {\\left(A^{3} + 3 \\, A^{2} I + 3 \\, A I^{2} + I^{3}\\right)} S\\right)} \\alpha \\beta^{4}\\right)} \\chi^{3} - {\\left({\\left(A^{2} + 2 \\, A I + I^{2} - 2 \\, {\\left(A + I\\right)} S - 5 \\, S^{2}\\right)} \\alpha^{3} \\beta^{2} + 3 \\, {\\left(A^{3} + 3 \\, A^{2} I + 3 \\, A I^{2} + I^{3} - 5 \\, {\\left(A + I\\right)} S^{2} - 2 \\, {\\left(A^{2} + 2 \\, A I + I^{2}\\right)} S\\right)} \\alpha^{2} \\beta^{3} - 6 \\, {\\left(A^{4} + 4 \\, A^{3} I + 6 \\, A^{2} I^{2} + 4 \\, A I^{3} + I^{4} + {\\left(A^{3} + 3 \\, A^{2} I + 3 \\, A I^{2} + I^{3}\\right)} S\\right)} \\alpha \\beta^{4}\\right)} \\chi^{2} - {\\left({\\left(A + I + S\\right)} \\alpha^{4} \\beta - 2 \\, {\\left(A^{2} + 2 \\, A I + I^{2} - 2 \\, {\\left(A + I\\right)} S - 5 \\, S^{2}\\right)} \\alpha^{3} \\beta^{2} - 3 \\, {\\left(A^{3} + 3 \\, A^{2} I + 3 \\, A I^{2} + I^{3} - 5 \\, {\\left(A + I\\right)} S^{2} - 2 \\, {\\left(A^{2} + 2 \\, A I + I^{2}\\right)} S\\right)} \\alpha^{2} \\beta^{3} + 4 \\, {\\left(A^{4} + 4 \\, A^{3} I + 6 \\, A^{2} I^{2} + 4 \\, A I^{3} + I^{4} + {\\left(A^{3} + 3 \\, A^{2} I + 3 \\, A I^{2} + I^{3}\\right)} S\\right)} \\alpha \\beta^{4}\\right)} \\chi\\right)} \\delta}\\right)}^{\\frac{1}{3}} {\\left(-i \\, \\sqrt{3} + 1\\right)} - \\frac{1}{3} \\, \\alpha - \\frac{1}{3} \\, \\delta, \\frac{1}{3} \\, A \\beta {\\left(\\chi - 1\\right)} + \\frac{1}{3} \\, I \\beta {\\left(\\chi - 1\\right)} - \\frac{2 \\, \\left(\\frac{1}{2}\\right)^{\\frac{2}{3}} {\\left(3 \\, S \\alpha \\beta {\\left(\\chi - 1\\right)} - {\\left(A \\beta {\\left(\\chi - 1\\right)} + I \\beta {\\left(\\chi - 1\\right)} - \\alpha - \\delta\\right)}^{2} - 3 \\, {\\left(\\alpha \\beta {\\left(\\chi - 1\\right)} + {\\left(\\chi \\delta - \\delta\\right)} \\beta\\right)} A - 3 \\, {\\left(\\alpha \\beta {\\left(\\chi - 1\\right)} + {\\left(\\chi \\delta - \\delta\\right)} \\beta\\right)} I + 3 \\, \\alpha \\delta\\right)}}{3 \\, {\\left(27 \\, {\\left(\\chi \\delta - \\delta\\right)} A \\alpha \\beta + 27 \\, {\\left(\\chi \\delta - \\delta\\right)} I \\alpha \\beta + 2 \\, {\\left(A \\beta {\\left(\\chi - 1\\right)} + I \\beta {\\left(\\chi - 1\\right)} - \\alpha - \\delta\\right)}^{3} - 9 \\, {\\left(S \\alpha \\beta {\\left(\\chi - 1\\right)} - {\\left(\\alpha \\beta {\\left(\\chi - 1\\right)} + {\\left(\\chi \\delta - \\delta\\right)} \\beta\\right)} A - {\\left(\\alpha \\beta {\\left(\\chi - 1\\right)} + {\\left(\\chi \\delta - \\delta\\right)} \\beta\\right)} I + \\alpha \\delta\\right)} {\\left(A \\beta {\\left(\\chi - 1\\right)} + I \\beta {\\left(\\chi - 1\\right)} - \\alpha - \\delta\\right)} + 9 \\, \\sqrt{-\\frac{1}{3} \\, {\\left(A^{4} + 4 \\, A^{3} I + 6 \\, A^{2} I^{2} + 4 \\, A I^{3} + I^{4} + {\\left(A^{2} + 2 \\, A I + I^{2}\\right)} S^{2} - 2 \\, {\\left(A^{3} + 3 \\, A^{2} I + 3 \\, A I^{2} + I^{3}\\right)} S\\right)} \\alpha^{2} \\beta^{4} \\chi^{4} - \\frac{1}{3} \\, {\\left(A^{2} + 2 \\, A I + I^{2} - 2 \\, {\\left(A + I\\right)} S + S^{2}\\right)} \\alpha^{4} \\beta^{2} + \\frac{2}{3} \\, {\\left(A^{3} + 3 \\, A^{2} I + 3 \\, A I^{2} + I^{3} + 5 \\, {\\left(A + I\\right)} S^{2} - 2 \\, S^{3} - 4 \\, {\\left(A^{2} + 2 \\, A I + I^{2}\\right)} S\\right)} \\alpha^{3} \\beta^{3} - \\frac{1}{3} \\, {\\left(A^{4} + 4 \\, A^{3} I + 6 \\, A^{2} I^{2} + 4 \\, A I^{3} + I^{4} + {\\left(A^{2} + 2 \\, A I + I^{2}\\right)} S^{2} - 2 \\, {\\left(A^{3} + 3 \\, A^{2} I + 3 \\, A I^{2} + I^{3}\\right)} S\\right)} \\alpha^{2} \\beta^{4} - \\frac{1}{3} \\, {\\left({\\left(A^{2} + 2 \\, A I + I^{2}\\right)} \\beta^{2} \\chi^{2} - 2 \\, {\\left(A + I\\right)} \\alpha \\beta + {\\left(A^{2} + 2 \\, A I + I^{2}\\right)} \\beta^{2} + \\alpha^{2} + 2 \\, {\\left({\\left(A + I\\right)} \\alpha \\beta - {\\left(A^{2} + 2 \\, A I + I^{2}\\right)} \\beta^{2}\\right)} \\chi\\right)} \\delta^{4} - \\frac{2}{3} \\, {\\left({\\left(A^{3} + 3 \\, A^{2} I + 3 \\, A I^{2} + I^{3} + 5 \\, {\\left(A + I\\right)} S^{2} - 2 \\, S^{3} - 4 \\, {\\left(A^{2} + 2 \\, A I + I^{2}\\right)} S\\right)} \\alpha^{3} \\beta^{3} - 2 \\, {\\left(A^{4} + 4 \\, A^{3} I + 6 \\, A^{2} I^{2} + 4 \\, A I^{3} + I^{4} + {\\left(A^{2} + 2 \\, A I + I^{2}\\right)} S^{2} - 2 \\, {\\left(A^{3} + 3 \\, A^{2} I + 3 \\, A I^{2} + I^{3}\\right)} S\\right)} \\alpha^{2} \\beta^{4}\\right)} \\chi^{3} - \\frac{2}{3} \\, {\\left({\\left(A^{3} + 3 \\, A^{2} I + 3 \\, A I^{2} + I^{3}\\right)} \\beta^{3} \\chi^{3} + {\\left(A + I - S\\right)} \\alpha^{2} \\beta + {\\left(A^{2} + 2 \\, A I + I^{2} - {\\left(A + I\\right)} S\\right)} \\alpha \\beta^{2} - {\\left(A^{3} + 3 \\, A^{2} I + 3 \\, A I^{2} + I^{3}\\right)} \\beta^{3} - \\alpha^{3} + {\\left({\\left(A^{2} + 2 \\, A I + I^{2} - {\\left(A + I\\right)} S\\right)} \\alpha \\beta^{2} - 3 \\, {\\left(A^{3} + 3 \\, A^{2} I + 3 \\, A I^{2} + I^{3}\\right)} \\beta^{3}\\right)} \\chi^{2} - {\\left({\\left(A + I - S\\right)} \\alpha^{2} \\beta + 2 \\, {\\left(A^{2} + 2 \\, A I + I^{2} - {\\left(A + I\\right)} S\\right)} \\alpha \\beta^{2} - 3 \\, {\\left(A^{3} + 3 \\, A^{2} I + 3 \\, A I^{2} + I^{3}\\right)} \\beta^{3}\\right)} \\chi\\right)} \\delta^{3} - \\frac{1}{3} \\, {\\left({\\left(A^{2} + 2 \\, A I + I^{2} - 2 \\, {\\left(A + I\\right)} S + S^{2}\\right)} \\alpha^{4} \\beta^{2} - 6 \\, {\\left(A^{3} + 3 \\, A^{2} I + 3 \\, A I^{2} + I^{3} + 5 \\, {\\left(A + I\\right)} S^{2} - 2 \\, S^{3} - 4 \\, {\\left(A^{2} + 2 \\, A I + I^{2}\\right)} S\\right)} \\alpha^{3} \\beta^{3} + 6 \\, {\\left(A^{4} + 4 \\, A^{3} I + 6 \\, A^{2} I^{2} + 4 \\, A I^{3} + I^{4} + {\\left(A^{2} + 2 \\, A I + I^{2}\\right)} S^{2} - 2 \\, {\\left(A^{3} + 3 \\, A^{2} I + 3 \\, A I^{2} + I^{3}\\right)} S\\right)} \\alpha^{2} \\beta^{4}\\right)} \\chi^{2} - \\frac{1}{3} \\, {\\left({\\left(A^{4} + 4 \\, A^{3} I + 6 \\, A^{2} I^{2} + 4 \\, A I^{3} + I^{4}\\right)} \\beta^{4} \\chi^{4} + 2 \\, {\\left(A + I + 4 \\, S\\right)} \\alpha^{3} \\beta - {\\left(6 \\, A^{2} + 12 \\, A I + 6 \\, I^{2} + 4 \\, {\\left(A + I\\right)} S - S^{2}\\right)} \\alpha^{2} \\beta^{2} + 2 \\, {\\left(A^{3} + 3 \\, A^{2} I + 3 \\, A I^{2} + I^{3} + 4 \\, {\\left(A^{2} + 2 \\, A I + I^{2}\\right)} S\\right)} \\alpha \\beta^{3} + {\\left(A^{4} + 4 \\, A^{3} I + 6 \\, A^{2} I^{2} + 4 \\, A I^{3} + I^{4}\\right)} \\beta^{4} + \\alpha^{4} - 2 \\, {\\left({\\left(A^{3} + 3 \\, A^{2} I + 3 \\, A I^{2} + I^{3} + 4 \\, {\\left(A^{2} + 2 \\, A I + I^{2}\\right)} S\\right)} \\alpha \\beta^{3} + 2 \\, {\\left(A^{4} + 4 \\, A^{3} I + 6 \\, A^{2} I^{2} + 4 \\, A I^{3} + I^{4}\\right)} \\beta^{4}\\right)} \\chi^{3} - {\\left({\\left(6 \\, A^{2} + 12 \\, A I + 6 \\, I^{2} + 4 \\, {\\left(A + I\\right)} S - S^{2}\\right)} \\alpha^{2} \\beta^{2} - 6 \\, {\\left(A^{3} + 3 \\, A^{2} I + 3 \\, A I^{2} + I^{3} + 4 \\, {\\left(A^{2} + 2 \\, A I + I^{2}\\right)} S\\right)} \\alpha \\beta^{3} - 6 \\, {\\left(A^{4} + 4 \\, A^{3} I + 6 \\, A^{2} I^{2} + 4 \\, A I^{3} + I^{4}\\right)} \\beta^{4}\\right)} \\chi^{2} - 2 \\, {\\left({\\left(A + I + 4 \\, S\\right)} \\alpha^{3} \\beta - {\\left(6 \\, A^{2} + 12 \\, A I + 6 \\, I^{2} + 4 \\, {\\left(A + I\\right)} S - S^{2}\\right)} \\alpha^{2} \\beta^{2} + 3 \\, {\\left(A^{3} + 3 \\, A^{2} I + 3 \\, A I^{2} + I^{3} + 4 \\, {\\left(A^{2} + 2 \\, A I + I^{2}\\right)} S\\right)} \\alpha \\beta^{3} + 2 \\, {\\left(A^{4} + 4 \\, A^{3} I + 6 \\, A^{2} I^{2} + 4 \\, A I^{3} + I^{4}\\right)} \\beta^{4}\\right)} \\chi\\right)} \\delta^{2} + \\frac{2}{3} \\, {\\left({\\left(A^{2} + 2 \\, A I + I^{2} - 2 \\, {\\left(A + I\\right)} S + S^{2}\\right)} \\alpha^{4} \\beta^{2} - 3 \\, {\\left(A^{3} + 3 \\, A^{2} I + 3 \\, A I^{2} + I^{3} + 5 \\, {\\left(A + I\\right)} S^{2} - 2 \\, S^{3} - 4 \\, {\\left(A^{2} + 2 \\, A I + I^{2}\\right)} S\\right)} \\alpha^{3} \\beta^{3} + 2 \\, {\\left(A^{4} + 4 \\, A^{3} I + 6 \\, A^{2} I^{2} + 4 \\, A I^{3} + I^{4} + {\\left(A^{2} + 2 \\, A I + I^{2}\\right)} S^{2} - 2 \\, {\\left(A^{3} + 3 \\, A^{2} I + 3 \\, A I^{2} + I^{3}\\right)} S\\right)} \\alpha^{2} \\beta^{4}\\right)} \\chi + \\frac{2}{3} \\, {\\left({\\left(A^{4} + 4 \\, A^{3} I + 6 \\, A^{2} I^{2} + 4 \\, A I^{3} + I^{4} + {\\left(A^{3} + 3 \\, A^{2} I + 3 \\, A I^{2} + I^{3}\\right)} S\\right)} \\alpha \\beta^{4} \\chi^{4} + {\\left(A + I + S\\right)} \\alpha^{4} \\beta - {\\left(A^{2} + 2 \\, A I + I^{2} - 2 \\, {\\left(A + I\\right)} S - 5 \\, S^{2}\\right)} \\alpha^{3} \\beta^{2} - {\\left(A^{3} + 3 \\, A^{2} I + 3 \\, A I^{2} + I^{3} - 5 \\, {\\left(A + I\\right)} S^{2} - 2 \\, {\\left(A^{2} + 2 \\, A I + I^{2}\\right)} S\\right)} \\alpha^{2} \\beta^{3} + {\\left(A^{4} + 4 \\, A^{3} I + 6 \\, A^{2} I^{2} + 4 \\, A I^{3} + I^{4} + {\\left(A^{3} + 3 \\, A^{2} I + 3 \\, A I^{2} + I^{3}\\right)} S\\right)} \\alpha \\beta^{4} + {\\left({\\left(A^{3} + 3 \\, A^{2} I + 3 \\, A I^{2} + I^{3} - 5 \\, {\\left(A + I\\right)} S^{2} - 2 \\, {\\left(A^{2} + 2 \\, A I + I^{2}\\right)} S\\right)} \\alpha^{2} \\beta^{3} - 4 \\, {\\left(A^{4} + 4 \\, A^{3} I + 6 \\, A^{2} I^{2} + 4 \\, A I^{3} + I^{4} + {\\left(A^{3} + 3 \\, A^{2} I + 3 \\, A I^{2} + I^{3}\\right)} S\\right)} \\alpha \\beta^{4}\\right)} \\chi^{3} - {\\left({\\left(A^{2} + 2 \\, A I + I^{2} - 2 \\, {\\left(A + I\\right)} S - 5 \\, S^{2}\\right)} \\alpha^{3} \\beta^{2} + 3 \\, {\\left(A^{3} + 3 \\, A^{2} I + 3 \\, A I^{2} + I^{3} - 5 \\, {\\left(A + I\\right)} S^{2} - 2 \\, {\\left(A^{2} + 2 \\, A I + I^{2}\\right)} S\\right)} \\alpha^{2} \\beta^{3} - 6 \\, {\\left(A^{4} + 4 \\, A^{3} I + 6 \\, A^{2} I^{2} + 4 \\, A I^{3} + I^{4} + {\\left(A^{3} + 3 \\, A^{2} I + 3 \\, A I^{2} + I^{3}\\right)} S\\right)} \\alpha \\beta^{4}\\right)} \\chi^{2} - {\\left({\\left(A + I + S\\right)} \\alpha^{4} \\beta - 2 \\, {\\left(A^{2} + 2 \\, A I + I^{2} - 2 \\, {\\left(A + I\\right)} S - 5 \\, S^{2}\\right)} \\alpha^{3} \\beta^{2} - 3 \\, {\\left(A^{3} + 3 \\, A^{2} I + 3 \\, A I^{2} + I^{3} - 5 \\, {\\left(A + I\\right)} S^{2} - 2 \\, {\\left(A^{2} + 2 \\, A I + I^{2}\\right)} S\\right)} \\alpha^{2} \\beta^{3} + 4 \\, {\\left(A^{4} + 4 \\, A^{3} I + 6 \\, A^{2} I^{2} + 4 \\, A I^{3} + I^{4} + {\\left(A^{3} + 3 \\, A^{2} I + 3 \\, A I^{2} + I^{3}\\right)} S\\right)} \\alpha \\beta^{4}\\right)} \\chi\\right)} \\delta}\\right)}^{\\frac{1}{3}}} - \\frac{1}{3} \\, \\alpha - \\frac{1}{3} \\, \\delta + \\frac{1}{3} \\, \\left(\\frac{1}{2}\\right)^{\\frac{1}{3}} {\\left(27 \\, {\\left(\\chi \\delta - \\delta\\right)} A \\alpha \\beta + 27 \\, {\\left(\\chi \\delta - \\delta\\right)} I \\alpha \\beta + 2 \\, {\\left(A \\beta {\\left(\\chi - 1\\right)} + I \\beta {\\left(\\chi - 1\\right)} - \\alpha - \\delta\\right)}^{3} - 9 \\, {\\left(S \\alpha \\beta {\\left(\\chi - 1\\right)} - {\\left(\\alpha \\beta {\\left(\\chi - 1\\right)} + {\\left(\\chi \\delta - \\delta\\right)} \\beta\\right)} A - {\\left(\\alpha \\beta {\\left(\\chi - 1\\right)} + {\\left(\\chi \\delta - \\delta\\right)} \\beta\\right)} I + \\alpha \\delta\\right)} {\\left(A \\beta {\\left(\\chi - 1\\right)} + I \\beta {\\left(\\chi - 1\\right)} - \\alpha - \\delta\\right)} + 9 \\, \\sqrt{-\\frac{1}{3} \\, {\\left(A^{4} + 4 \\, A^{3} I + 6 \\, A^{2} I^{2} + 4 \\, A I^{3} + I^{4} + {\\left(A^{2} + 2 \\, A I + I^{2}\\right)} S^{2} - 2 \\, {\\left(A^{3} + 3 \\, A^{2} I + 3 \\, A I^{2} + I^{3}\\right)} S\\right)} \\alpha^{2} \\beta^{4} \\chi^{4} - \\frac{1}{3} \\, {\\left(A^{2} + 2 \\, A I + I^{2} - 2 \\, {\\left(A + I\\right)} S + S^{2}\\right)} \\alpha^{4} \\beta^{2} + \\frac{2}{3} \\, {\\left(A^{3} + 3 \\, A^{2} I + 3 \\, A I^{2} + I^{3} + 5 \\, {\\left(A + I\\right)} S^{2} - 2 \\, S^{3} - 4 \\, {\\left(A^{2} + 2 \\, A I + I^{2}\\right)} S\\right)} \\alpha^{3} \\beta^{3} - \\frac{1}{3} \\, {\\left(A^{4} + 4 \\, A^{3} I + 6 \\, A^{2} I^{2} + 4 \\, A I^{3} + I^{4} + {\\left(A^{2} + 2 \\, A I + I^{2}\\right)} S^{2} - 2 \\, {\\left(A^{3} + 3 \\, A^{2} I + 3 \\, A I^{2} + I^{3}\\right)} S\\right)} \\alpha^{2} \\beta^{4} - \\frac{1}{3} \\, {\\left({\\left(A^{2} + 2 \\, A I + I^{2}\\right)} \\beta^{2} \\chi^{2} - 2 \\, {\\left(A + I\\right)} \\alpha \\beta + {\\left(A^{2} + 2 \\, A I + I^{2}\\right)} \\beta^{2} + \\alpha^{2} + 2 \\, {\\left({\\left(A + I\\right)} \\alpha \\beta - {\\left(A^{2} + 2 \\, A I + I^{2}\\right)} \\beta^{2}\\right)} \\chi\\right)} \\delta^{4} - \\frac{2}{3} \\, {\\left({\\left(A^{3} + 3 \\, A^{2} I + 3 \\, A I^{2} + I^{3} + 5 \\, {\\left(A + I\\right)} S^{2} - 2 \\, S^{3} - 4 \\, {\\left(A^{2} + 2 \\, A I + I^{2}\\right)} S\\right)} \\alpha^{3} \\beta^{3} - 2 \\, {\\left(A^{4} + 4 \\, A^{3} I + 6 \\, A^{2} I^{2} + 4 \\, A I^{3} + I^{4} + {\\left(A^{2} + 2 \\, A I + I^{2}\\right)} S^{2} - 2 \\, {\\left(A^{3} + 3 \\, A^{2} I + 3 \\, A I^{2} + I^{3}\\right)} S\\right)} \\alpha^{2} \\beta^{4}\\right)} \\chi^{3} - \\frac{2}{3} \\, {\\left({\\left(A^{3} + 3 \\, A^{2} I + 3 \\, A I^{2} + I^{3}\\right)} \\beta^{3} \\chi^{3} + {\\left(A + I - S\\right)} \\alpha^{2} \\beta + {\\left(A^{2} + 2 \\, A I + I^{2} - {\\left(A + I\\right)} S\\right)} \\alpha \\beta^{2} - {\\left(A^{3} + 3 \\, A^{2} I + 3 \\, A I^{2} + I^{3}\\right)} \\beta^{3} - \\alpha^{3} + {\\left({\\left(A^{2} + 2 \\, A I + I^{2} - {\\left(A + I\\right)} S\\right)} \\alpha \\beta^{2} - 3 \\, {\\left(A^{3} + 3 \\, A^{2} I + 3 \\, A I^{2} + I^{3}\\right)} \\beta^{3}\\right)} \\chi^{2} - {\\left({\\left(A + I - S\\right)} \\alpha^{2} \\beta + 2 \\, {\\left(A^{2} + 2 \\, A I + I^{2} - {\\left(A + I\\right)} S\\right)} \\alpha \\beta^{2} - 3 \\, {\\left(A^{3} + 3 \\, A^{2} I + 3 \\, A I^{2} + I^{3}\\right)} \\beta^{3}\\right)} \\chi\\right)} \\delta^{3} - \\frac{1}{3} \\, {\\left({\\left(A^{2} + 2 \\, A I + I^{2} - 2 \\, {\\left(A + I\\right)} S + S^{2}\\right)} \\alpha^{4} \\beta^{2} - 6 \\, {\\left(A^{3} + 3 \\, A^{2} I + 3 \\, A I^{2} + I^{3} + 5 \\, {\\left(A + I\\right)} S^{2} - 2 \\, S^{3} - 4 \\, {\\left(A^{2} + 2 \\, A I + I^{2}\\right)} S\\right)} \\alpha^{3} \\beta^{3} + 6 \\, {\\left(A^{4} + 4 \\, A^{3} I + 6 \\, A^{2} I^{2} + 4 \\, A I^{3} + I^{4} + {\\left(A^{2} + 2 \\, A I + I^{2}\\right)} S^{2} - 2 \\, {\\left(A^{3} + 3 \\, A^{2} I + 3 \\, A I^{2} + I^{3}\\right)} S\\right)} \\alpha^{2} \\beta^{4}\\right)} \\chi^{2} - \\frac{1}{3} \\, {\\left({\\left(A^{4} + 4 \\, A^{3} I + 6 \\, A^{2} I^{2} + 4 \\, A I^{3} + I^{4}\\right)} \\beta^{4} \\chi^{4} + 2 \\, {\\left(A + I + 4 \\, S\\right)} \\alpha^{3} \\beta - {\\left(6 \\, A^{2} + 12 \\, A I + 6 \\, I^{2} + 4 \\, {\\left(A + I\\right)} S - S^{2}\\right)} \\alpha^{2} \\beta^{2} + 2 \\, {\\left(A^{3} + 3 \\, A^{2} I + 3 \\, A I^{2} + I^{3} + 4 \\, {\\left(A^{2} + 2 \\, A I + I^{2}\\right)} S\\right)} \\alpha \\beta^{3} + {\\left(A^{4} + 4 \\, A^{3} I + 6 \\, A^{2} I^{2} + 4 \\, A I^{3} + I^{4}\\right)} \\beta^{4} + \\alpha^{4} - 2 \\, {\\left({\\left(A^{3} + 3 \\, A^{2} I + 3 \\, A I^{2} + I^{3} + 4 \\, {\\left(A^{2} + 2 \\, A I + I^{2}\\right)} S\\right)} \\alpha \\beta^{3} + 2 \\, {\\left(A^{4} + 4 \\, A^{3} I + 6 \\, A^{2} I^{2} + 4 \\, A I^{3} + I^{4}\\right)} \\beta^{4}\\right)} \\chi^{3} - {\\left({\\left(6 \\, A^{2} + 12 \\, A I + 6 \\, I^{2} + 4 \\, {\\left(A + I\\right)} S - S^{2}\\right)} \\alpha^{2} \\beta^{2} - 6 \\, {\\left(A^{3} + 3 \\, A^{2} I + 3 \\, A I^{2} + I^{3} + 4 \\, {\\left(A^{2} + 2 \\, A I + I^{2}\\right)} S\\right)} \\alpha \\beta^{3} - 6 \\, {\\left(A^{4} + 4 \\, A^{3} I + 6 \\, A^{2} I^{2} + 4 \\, A I^{3} + I^{4}\\right)} \\beta^{4}\\right)} \\chi^{2} - 2 \\, {\\left({\\left(A + I + 4 \\, S\\right)} \\alpha^{3} \\beta - {\\left(6 \\, A^{2} + 12 \\, A I + 6 \\, I^{2} + 4 \\, {\\left(A + I\\right)} S - S^{2}\\right)} \\alpha^{2} \\beta^{2} + 3 \\, {\\left(A^{3} + 3 \\, A^{2} I + 3 \\, A I^{2} + I^{3} + 4 \\, {\\left(A^{2} + 2 \\, A I + I^{2}\\right)} S\\right)} \\alpha \\beta^{3} + 2 \\, {\\left(A^{4} + 4 \\, A^{3} I + 6 \\, A^{2} I^{2} + 4 \\, A I^{3} + I^{4}\\right)} \\beta^{4}\\right)} \\chi\\right)} \\delta^{2} + \\frac{2}{3} \\, {\\left({\\left(A^{2} + 2 \\, A I + I^{2} - 2 \\, {\\left(A + I\\right)} S + S^{2}\\right)} \\alpha^{4} \\beta^{2} - 3 \\, {\\left(A^{3} + 3 \\, A^{2} I + 3 \\, A I^{2} + I^{3} + 5 \\, {\\left(A + I\\right)} S^{2} - 2 \\, S^{3} - 4 \\, {\\left(A^{2} + 2 \\, A I + I^{2}\\right)} S\\right)} \\alpha^{3} \\beta^{3} + 2 \\, {\\left(A^{4} + 4 \\, A^{3} I + 6 \\, A^{2} I^{2} + 4 \\, A I^{3} + I^{4} + {\\left(A^{2} + 2 \\, A I + I^{2}\\right)} S^{2} - 2 \\, {\\left(A^{3} + 3 \\, A^{2} I + 3 \\, A I^{2} + I^{3}\\right)} S\\right)} \\alpha^{2} \\beta^{4}\\right)} \\chi + \\frac{2}{3} \\, {\\left({\\left(A^{4} + 4 \\, A^{3} I + 6 \\, A^{2} I^{2} + 4 \\, A I^{3} + I^{4} + {\\left(A^{3} + 3 \\, A^{2} I + 3 \\, A I^{2} + I^{3}\\right)} S\\right)} \\alpha \\beta^{4} \\chi^{4} + {\\left(A + I + S\\right)} \\alpha^{4} \\beta - {\\left(A^{2} + 2 \\, A I + I^{2} - 2 \\, {\\left(A + I\\right)} S - 5 \\, S^{2}\\right)} \\alpha^{3} \\beta^{2} - {\\left(A^{3} + 3 \\, A^{2} I + 3 \\, A I^{2} + I^{3} - 5 \\, {\\left(A + I\\right)} S^{2} - 2 \\, {\\left(A^{2} + 2 \\, A I + I^{2}\\right)} S\\right)} \\alpha^{2} \\beta^{3} + {\\left(A^{4} + 4 \\, A^{3} I + 6 \\, A^{2} I^{2} + 4 \\, A I^{3} + I^{4} + {\\left(A^{3} + 3 \\, A^{2} I + 3 \\, A I^{2} + I^{3}\\right)} S\\right)} \\alpha \\beta^{4} + {\\left({\\left(A^{3} + 3 \\, A^{2} I + 3 \\, A I^{2} + I^{3} - 5 \\, {\\left(A + I\\right)} S^{2} - 2 \\, {\\left(A^{2} + 2 \\, A I + I^{2}\\right)} S\\right)} \\alpha^{2} \\beta^{3} - 4 \\, {\\left(A^{4} + 4 \\, A^{3} I + 6 \\, A^{2} I^{2} + 4 \\, A I^{3} + I^{4} + {\\left(A^{3} + 3 \\, A^{2} I + 3 \\, A I^{2} + I^{3}\\right)} S\\right)} \\alpha \\beta^{4}\\right)} \\chi^{3} - {\\left({\\left(A^{2} + 2 \\, A I + I^{2} - 2 \\, {\\left(A + I\\right)} S - 5 \\, S^{2}\\right)} \\alpha^{3} \\beta^{2} + 3 \\, {\\left(A^{3} + 3 \\, A^{2} I + 3 \\, A I^{2} + I^{3} - 5 \\, {\\left(A + I\\right)} S^{2} - 2 \\, {\\left(A^{2} + 2 \\, A I + I^{2}\\right)} S\\right)} \\alpha^{2} \\beta^{3} - 6 \\, {\\left(A^{4} + 4 \\, A^{3} I + 6 \\, A^{2} I^{2} + 4 \\, A I^{3} + I^{4} + {\\left(A^{3} + 3 \\, A^{2} I + 3 \\, A I^{2} + I^{3}\\right)} S\\right)} \\alpha \\beta^{4}\\right)} \\chi^{2} - {\\left({\\left(A + I + S\\right)} \\alpha^{4} \\beta - 2 \\, {\\left(A^{2} + 2 \\, A I + I^{2} - 2 \\, {\\left(A + I\\right)} S - 5 \\, S^{2}\\right)} \\alpha^{3} \\beta^{2} - 3 \\, {\\left(A^{3} + 3 \\, A^{2} I + 3 \\, A I^{2} + I^{3} - 5 \\, {\\left(A + I\\right)} S^{2} - 2 \\, {\\left(A^{2} + 2 \\, A I + I^{2}\\right)} S\\right)} \\alpha^{2} \\beta^{3} + 4 \\, {\\left(A^{4} + 4 \\, A^{3} I + 6 \\, A^{2} I^{2} + 4 \\, A I^{3} + I^{4} + {\\left(A^{3} + 3 \\, A^{2} I + 3 \\, A I^{2} + I^{3}\\right)} S\\right)} \\alpha \\beta^{4}\\right)} \\chi\\right)} \\delta}\\right)}^{\\frac{1}{3}}, -\\mu - \\rho, -\\delta\\right]</script></html>"
      ],
      "text/plain": [
       "[1/3*A*beta*(chi - 1) + 1/3*I*beta*(chi - 1) + 1/3*(1/2)^(2/3)*(3*S*alpha*beta*(chi - 1) - (A*beta*(chi - 1) + I*beta*(chi - 1) - alpha - delta)^2 - 3*(alpha*beta*(chi - 1) + (chi*delta - delta)*beta)*A - 3*(alpha*beta*(chi - 1) + (chi*delta - delta)*beta)*I + 3*alpha*delta)*(-I*sqrt(3) + 1)/(27*(chi*delta - delta)*A*alpha*beta + 27*(chi*delta - delta)*I*alpha*beta + 2*(A*beta*(chi - 1) + I*beta*(chi - 1) - alpha - delta)^3 - 9*(S*alpha*beta*(chi - 1) - (alpha*beta*(chi - 1) + (chi*delta - delta)*beta)*A - (alpha*beta*(chi - 1) + (chi*delta - delta)*beta)*I + alpha*delta)*(A*beta*(chi - 1) + I*beta*(chi - 1) - alpha - delta) + 9*sqrt(-1/3*(A^4 + 4*A^3*I + 6*A^2*I^2 + 4*A*I^3 + I^4 + (A^2 + 2*A*I + I^2)*S^2 - 2*(A^3 + 3*A^2*I + 3*A*I^2 + I^3)*S)*alpha^2*beta^4*chi^4 - 1/3*(A^2 + 2*A*I + I^2 - 2*(A + I)*S + S^2)*alpha^4*beta^2 + 2/3*(A^3 + 3*A^2*I + 3*A*I^2 + I^3 + 5*(A + I)*S^2 - 2*S^3 - 4*(A^2 + 2*A*I + I^2)*S)*alpha^3*beta^3 - 1/3*(A^4 + 4*A^3*I + 6*A^2*I^2 + 4*A*I^3 + I^4 + (A^2 + 2*A*I + I^2)*S^2 - 2*(A^3 + 3*A^2*I + 3*A*I^2 + I^3)*S)*alpha^2*beta^4 - 1/3*((A^2 + 2*A*I + I^2)*beta^2*chi^2 - 2*(A + I)*alpha*beta + (A^2 + 2*A*I + I^2)*beta^2 + alpha^2 + 2*((A + I)*alpha*beta - (A^2 + 2*A*I + I^2)*beta^2)*chi)*delta^4 - 2/3*((A^3 + 3*A^2*I + 3*A*I^2 + I^3 + 5*(A + I)*S^2 - 2*S^3 - 4*(A^2 + 2*A*I + I^2)*S)*alpha^3*beta^3 - 2*(A^4 + 4*A^3*I + 6*A^2*I^2 + 4*A*I^3 + I^4 + (A^2 + 2*A*I + I^2)*S^2 - 2*(A^3 + 3*A^2*I + 3*A*I^2 + I^3)*S)*alpha^2*beta^4)*chi^3 - 2/3*((A^3 + 3*A^2*I + 3*A*I^2 + I^3)*beta^3*chi^3 + (A + I - S)*alpha^2*beta + (A^2 + 2*A*I + I^2 - (A + I)*S)*alpha*beta^2 - (A^3 + 3*A^2*I + 3*A*I^2 + I^3)*beta^3 - alpha^3 + ((A^2 + 2*A*I + I^2 - (A + I)*S)*alpha*beta^2 - 3*(A^3 + 3*A^2*I + 3*A*I^2 + I^3)*beta^3)*chi^2 - ((A + I - S)*alpha^2*beta + 2*(A^2 + 2*A*I + I^2 - (A + I)*S)*alpha*beta^2 - 3*(A^3 + 3*A^2*I + 3*A*I^2 + I^3)*beta^3)*chi)*delta^3 - 1/3*((A^2 + 2*A*I + I^2 - 2*(A + I)*S + S^2)*alpha^4*beta^2 - 6*(A^3 + 3*A^2*I + 3*A*I^2 + I^3 + 5*(A + I)*S^2 - 2*S^3 - 4*(A^2 + 2*A*I + I^2)*S)*alpha^3*beta^3 + 6*(A^4 + 4*A^3*I + 6*A^2*I^2 + 4*A*I^3 + I^4 + (A^2 + 2*A*I + I^2)*S^2 - 2*(A^3 + 3*A^2*I + 3*A*I^2 + I^3)*S)*alpha^2*beta^4)*chi^2 - 1/3*((A^4 + 4*A^3*I + 6*A^2*I^2 + 4*A*I^3 + I^4)*beta^4*chi^4 + 2*(A + I + 4*S)*alpha^3*beta - (6*A^2 + 12*A*I + 6*I^2 + 4*(A + I)*S - S^2)*alpha^2*beta^2 + 2*(A^3 + 3*A^2*I + 3*A*I^2 + I^3 + 4*(A^2 + 2*A*I + I^2)*S)*alpha*beta^3 + (A^4 + 4*A^3*I + 6*A^2*I^2 + 4*A*I^3 + I^4)*beta^4 + alpha^4 - 2*((A^3 + 3*A^2*I + 3*A*I^2 + I^3 + 4*(A^2 + 2*A*I + I^2)*S)*alpha*beta^3 + 2*(A^4 + 4*A^3*I + 6*A^2*I^2 + 4*A*I^3 + I^4)*beta^4)*chi^3 - ((6*A^2 + 12*A*I + 6*I^2 + 4*(A + I)*S - S^2)*alpha^2*beta^2 - 6*(A^3 + 3*A^2*I + 3*A*I^2 + I^3 + 4*(A^2 + 2*A*I + I^2)*S)*alpha*beta^3 - 6*(A^4 + 4*A^3*I + 6*A^2*I^2 + 4*A*I^3 + I^4)*beta^4)*chi^2 - 2*((A + I + 4*S)*alpha^3*beta - (6*A^2 + 12*A*I + 6*I^2 + 4*(A + I)*S - S^2)*alpha^2*beta^2 + 3*(A^3 + 3*A^2*I + 3*A*I^2 + I^3 + 4*(A^2 + 2*A*I + I^2)*S)*alpha*beta^3 + 2*(A^4 + 4*A^3*I + 6*A^2*I^2 + 4*A*I^3 + I^4)*beta^4)*chi)*delta^2 + 2/3*((A^2 + 2*A*I + I^2 - 2*(A + I)*S + S^2)*alpha^4*beta^2 - 3*(A^3 + 3*A^2*I + 3*A*I^2 + I^3 + 5*(A + I)*S^2 - 2*S^3 - 4*(A^2 + 2*A*I + I^2)*S)*alpha^3*beta^3 + 2*(A^4 + 4*A^3*I + 6*A^2*I^2 + 4*A*I^3 + I^4 + (A^2 + 2*A*I + I^2)*S^2 - 2*(A^3 + 3*A^2*I + 3*A*I^2 + I^3)*S)*alpha^2*beta^4)*chi + 2/3*((A^4 + 4*A^3*I + 6*A^2*I^2 + 4*A*I^3 + I^4 + (A^3 + 3*A^2*I + 3*A*I^2 + I^3)*S)*alpha*beta^4*chi^4 + (A + I + S)*alpha^4*beta - (A^2 + 2*A*I + I^2 - 2*(A + I)*S - 5*S^2)*alpha^3*beta^2 - (A^3 + 3*A^2*I + 3*A*I^2 + I^3 - 5*(A + I)*S^2 - 2*(A^2 + 2*A*I + I^2)*S)*alpha^2*beta^3 + (A^4 + 4*A^3*I + 6*A^2*I^2 + 4*A*I^3 + I^4 + (A^3 + 3*A^2*I + 3*A*I^2 + I^3)*S)*alpha*beta^4 + ((A^3 + 3*A^2*I + 3*A*I^2 + I^3 - 5*(A + I)*S^2 - 2*(A^2 + 2*A*I + I^2)*S)*alpha^2*beta^3 - 4*(A^4 + 4*A^3*I + 6*A^2*I^2 + 4*A*I^3 + I^4 + (A^3 + 3*A^2*I + 3*A*I^2 + I^3)*S)*alpha*beta^4)*chi^3 - ((A^2 + 2*A*I + I^2 - 2*(A + I)*S - 5*S^2)*alpha^3*beta^2 + 3*(A^3 + 3*A^2*I + 3*A*I^2 + I^3 - 5*(A + I)*S^2 - 2*(A^2 + 2*A*I + I^2)*S)*alpha^2*beta^3 - 6*(A^4 + 4*A^3*I + 6*A^2*I^2 + 4*A*I^3 + I^4 + (A^3 + 3*A^2*I + 3*A*I^2 + I^3)*S)*alpha*beta^4)*chi^2 - ((A + I + S)*alpha^4*beta - 2*(A^2 + 2*A*I + I^2 - 2*(A + I)*S - 5*S^2)*alpha^3*beta^2 - 3*(A^3 + 3*A^2*I + 3*A*I^2 + I^3 - 5*(A + I)*S^2 - 2*(A^2 + 2*A*I + I^2)*S)*alpha^2*beta^3 + 4*(A^4 + 4*A^3*I + 6*A^2*I^2 + 4*A*I^3 + I^4 + (A^3 + 3*A^2*I + 3*A*I^2 + I^3)*S)*alpha*beta^4)*chi)*delta))^(1/3) - 1/6*(1/2)^(1/3)*(27*(chi*delta - delta)*A*alpha*beta + 27*(chi*delta - delta)*I*alpha*beta + 2*(A*beta*(chi - 1) + I*beta*(chi - 1) - alpha - delta)^3 - 9*(S*alpha*beta*(chi - 1) - (alpha*beta*(chi - 1) + (chi*delta - delta)*beta)*A - (alpha*beta*(chi - 1) + (chi*delta - delta)*beta)*I + alpha*delta)*(A*beta*(chi - 1) + I*beta*(chi - 1) - alpha - delta) + 9*sqrt(-1/3*(A^4 + 4*A^3*I + 6*A^2*I^2 + 4*A*I^3 + I^4 + (A^2 + 2*A*I + I^2)*S^2 - 2*(A^3 + 3*A^2*I + 3*A*I^2 + I^3)*S)*alpha^2*beta^4*chi^4 - 1/3*(A^2 + 2*A*I + I^2 - 2*(A + I)*S + S^2)*alpha^4*beta^2 + 2/3*(A^3 + 3*A^2*I + 3*A*I^2 + I^3 + 5*(A + I)*S^2 - 2*S^3 - 4*(A^2 + 2*A*I + I^2)*S)*alpha^3*beta^3 - 1/3*(A^4 + 4*A^3*I + 6*A^2*I^2 + 4*A*I^3 + I^4 + (A^2 + 2*A*I + I^2)*S^2 - 2*(A^3 + 3*A^2*I + 3*A*I^2 + I^3)*S)*alpha^2*beta^4 - 1/3*((A^2 + 2*A*I + I^2)*beta^2*chi^2 - 2*(A + I)*alpha*beta + (A^2 + 2*A*I + I^2)*beta^2 + alpha^2 + 2*((A + I)*alpha*beta - (A^2 + 2*A*I + I^2)*beta^2)*chi)*delta^4 - 2/3*((A^3 + 3*A^2*I + 3*A*I^2 + I^3 + 5*(A + I)*S^2 - 2*S^3 - 4*(A^2 + 2*A*I + I^2)*S)*alpha^3*beta^3 - 2*(A^4 + 4*A^3*I + 6*A^2*I^2 + 4*A*I^3 + I^4 + (A^2 + 2*A*I + I^2)*S^2 - 2*(A^3 + 3*A^2*I + 3*A*I^2 + I^3)*S)*alpha^2*beta^4)*chi^3 - 2/3*((A^3 + 3*A^2*I + 3*A*I^2 + I^3)*beta^3*chi^3 + (A + I - S)*alpha^2*beta + (A^2 + 2*A*I + I^2 - (A + I)*S)*alpha*beta^2 - (A^3 + 3*A^2*I + 3*A*I^2 + I^3)*beta^3 - alpha^3 + ((A^2 + 2*A*I + I^2 - (A + I)*S)*alpha*beta^2 - 3*(A^3 + 3*A^2*I + 3*A*I^2 + I^3)*beta^3)*chi^2 - ((A + I - S)*alpha^2*beta + 2*(A^2 + 2*A*I + I^2 - (A + I)*S)*alpha*beta^2 - 3*(A^3 + 3*A^2*I + 3*A*I^2 + I^3)*beta^3)*chi)*delta^3 - 1/3*((A^2 + 2*A*I + I^2 - 2*(A + I)*S + S^2)*alpha^4*beta^2 - 6*(A^3 + 3*A^2*I + 3*A*I^2 + I^3 + 5*(A + I)*S^2 - 2*S^3 - 4*(A^2 + 2*A*I + I^2)*S)*alpha^3*beta^3 + 6*(A^4 + 4*A^3*I + 6*A^2*I^2 + 4*A*I^3 + I^4 + (A^2 + 2*A*I + I^2)*S^2 - 2*(A^3 + 3*A^2*I + 3*A*I^2 + I^3)*S)*alpha^2*beta^4)*chi^2 - 1/3*((A^4 + 4*A^3*I + 6*A^2*I^2 + 4*A*I^3 + I^4)*beta^4*chi^4 + 2*(A + I + 4*S)*alpha^3*beta - (6*A^2 + 12*A*I + 6*I^2 + 4*(A + I)*S - S^2)*alpha^2*beta^2 + 2*(A^3 + 3*A^2*I + 3*A*I^2 + I^3 + 4*(A^2 + 2*A*I + I^2)*S)*alpha*beta^3 + (A^4 + 4*A^3*I + 6*A^2*I^2 + 4*A*I^3 + I^4)*beta^4 + alpha^4 - 2*((A^3 + 3*A^2*I + 3*A*I^2 + I^3 + 4*(A^2 + 2*A*I + I^2)*S)*alpha*beta^3 + 2*(A^4 + 4*A^3*I + 6*A^2*I^2 + 4*A*I^3 + I^4)*beta^4)*chi^3 - ((6*A^2 + 12*A*I + 6*I^2 + 4*(A + I)*S - S^2)*alpha^2*beta^2 - 6*(A^3 + 3*A^2*I + 3*A*I^2 + I^3 + 4*(A^2 + 2*A*I + I^2)*S)*alpha*beta^3 - 6*(A^4 + 4*A^3*I + 6*A^2*I^2 + 4*A*I^3 + I^4)*beta^4)*chi^2 - 2*((A + I + 4*S)*alpha^3*beta - (6*A^2 + 12*A*I + 6*I^2 + 4*(A + I)*S - S^2)*alpha^2*beta^2 + 3*(A^3 + 3*A^2*I + 3*A*I^2 + I^3 + 4*(A^2 + 2*A*I + I^2)*S)*alpha*beta^3 + 2*(A^4 + 4*A^3*I + 6*A^2*I^2 + 4*A*I^3 + I^4)*beta^4)*chi)*delta^2 + 2/3*((A^2 + 2*A*I + I^2 - 2*(A + I)*S + S^2)*alpha^4*beta^2 - 3*(A^3 + 3*A^2*I + 3*A*I^2 + I^3 + 5*(A + I)*S^2 - 2*S^3 - 4*(A^2 + 2*A*I + I^2)*S)*alpha^3*beta^3 + 2*(A^4 + 4*A^3*I + 6*A^2*I^2 + 4*A*I^3 + I^4 + (A^2 + 2*A*I + I^2)*S^2 - 2*(A^3 + 3*A^2*I + 3*A*I^2 + I^3)*S)*alpha^2*beta^4)*chi + 2/3*((A^4 + 4*A^3*I + 6*A^2*I^2 + 4*A*I^3 + I^4 + (A^3 + 3*A^2*I + 3*A*I^2 + I^3)*S)*alpha*beta^4*chi^4 + (A + I + S)*alpha^4*beta - (A^2 + 2*A*I + I^2 - 2*(A + I)*S - 5*S^2)*alpha^3*beta^2 - (A^3 + 3*A^2*I + 3*A*I^2 + I^3 - 5*(A + I)*S^2 - 2*(A^2 + 2*A*I + I^2)*S)*alpha^2*beta^3 + (A^4 + 4*A^3*I + 6*A^2*I^2 + 4*A*I^3 + I^4 + (A^3 + 3*A^2*I + 3*A*I^2 + I^3)*S)*alpha*beta^4 + ((A^3 + 3*A^2*I + 3*A*I^2 + I^3 - 5*(A + I)*S^2 - 2*(A^2 + 2*A*I + I^2)*S)*alpha^2*beta^3 - 4*(A^4 + 4*A^3*I + 6*A^2*I^2 + 4*A*I^3 + I^4 + (A^3 + 3*A^2*I + 3*A*I^2 + I^3)*S)*alpha*beta^4)*chi^3 - ((A^2 + 2*A*I + I^2 - 2*(A + I)*S - 5*S^2)*alpha^3*beta^2 + 3*(A^3 + 3*A^2*I + 3*A*I^2 + I^3 - 5*(A + I)*S^2 - 2*(A^2 + 2*A*I + I^2)*S)*alpha^2*beta^3 - 6*(A^4 + 4*A^3*I + 6*A^2*I^2 + 4*A*I^3 + I^4 + (A^3 + 3*A^2*I + 3*A*I^2 + I^3)*S)*alpha*beta^4)*chi^2 - ((A + I + S)*alpha^4*beta - 2*(A^2 + 2*A*I + I^2 - 2*(A + I)*S - 5*S^2)*alpha^3*beta^2 - 3*(A^3 + 3*A^2*I + 3*A*I^2 + I^3 - 5*(A + I)*S^2 - 2*(A^2 + 2*A*I + I^2)*S)*alpha^2*beta^3 + 4*(A^4 + 4*A^3*I + 6*A^2*I^2 + 4*A*I^3 + I^4 + (A^3 + 3*A^2*I + 3*A*I^2 + I^3)*S)*alpha*beta^4)*chi)*delta))^(1/3)*(I*sqrt(3) + 1) - 1/3*alpha - 1/3*delta,\n",
       " 1/3*A*beta*(chi - 1) + 1/3*I*beta*(chi - 1) + 1/3*(1/2)^(2/3)*(3*S*alpha*beta*(chi - 1) - (A*beta*(chi - 1) + I*beta*(chi - 1) - alpha - delta)^2 - 3*(alpha*beta*(chi - 1) + (chi*delta - delta)*beta)*A - 3*(alpha*beta*(chi - 1) + (chi*delta - delta)*beta)*I + 3*alpha*delta)*(I*sqrt(3) + 1)/(27*(chi*delta - delta)*A*alpha*beta + 27*(chi*delta - delta)*I*alpha*beta + 2*(A*beta*(chi - 1) + I*beta*(chi - 1) - alpha - delta)^3 - 9*(S*alpha*beta*(chi - 1) - (alpha*beta*(chi - 1) + (chi*delta - delta)*beta)*A - (alpha*beta*(chi - 1) + (chi*delta - delta)*beta)*I + alpha*delta)*(A*beta*(chi - 1) + I*beta*(chi - 1) - alpha - delta) + 9*sqrt(-1/3*(A^4 + 4*A^3*I + 6*A^2*I^2 + 4*A*I^3 + I^4 + (A^2 + 2*A*I + I^2)*S^2 - 2*(A^3 + 3*A^2*I + 3*A*I^2 + I^3)*S)*alpha^2*beta^4*chi^4 - 1/3*(A^2 + 2*A*I + I^2 - 2*(A + I)*S + S^2)*alpha^4*beta^2 + 2/3*(A^3 + 3*A^2*I + 3*A*I^2 + I^3 + 5*(A + I)*S^2 - 2*S^3 - 4*(A^2 + 2*A*I + I^2)*S)*alpha^3*beta^3 - 1/3*(A^4 + 4*A^3*I + 6*A^2*I^2 + 4*A*I^3 + I^4 + (A^2 + 2*A*I + I^2)*S^2 - 2*(A^3 + 3*A^2*I + 3*A*I^2 + I^3)*S)*alpha^2*beta^4 - 1/3*((A^2 + 2*A*I + I^2)*beta^2*chi^2 - 2*(A + I)*alpha*beta + (A^2 + 2*A*I + I^2)*beta^2 + alpha^2 + 2*((A + I)*alpha*beta - (A^2 + 2*A*I + I^2)*beta^2)*chi)*delta^4 - 2/3*((A^3 + 3*A^2*I + 3*A*I^2 + I^3 + 5*(A + I)*S^2 - 2*S^3 - 4*(A^2 + 2*A*I + I^2)*S)*alpha^3*beta^3 - 2*(A^4 + 4*A^3*I + 6*A^2*I^2 + 4*A*I^3 + I^4 + (A^2 + 2*A*I + I^2)*S^2 - 2*(A^3 + 3*A^2*I + 3*A*I^2 + I^3)*S)*alpha^2*beta^4)*chi^3 - 2/3*((A^3 + 3*A^2*I + 3*A*I^2 + I^3)*beta^3*chi^3 + (A + I - S)*alpha^2*beta + (A^2 + 2*A*I + I^2 - (A + I)*S)*alpha*beta^2 - (A^3 + 3*A^2*I + 3*A*I^2 + I^3)*beta^3 - alpha^3 + ((A^2 + 2*A*I + I^2 - (A + I)*S)*alpha*beta^2 - 3*(A^3 + 3*A^2*I + 3*A*I^2 + I^3)*beta^3)*chi^2 - ((A + I - S)*alpha^2*beta + 2*(A^2 + 2*A*I + I^2 - (A + I)*S)*alpha*beta^2 - 3*(A^3 + 3*A^2*I + 3*A*I^2 + I^3)*beta^3)*chi)*delta^3 - 1/3*((A^2 + 2*A*I + I^2 - 2*(A + I)*S + S^2)*alpha^4*beta^2 - 6*(A^3 + 3*A^2*I + 3*A*I^2 + I^3 + 5*(A + I)*S^2 - 2*S^3 - 4*(A^2 + 2*A*I + I^2)*S)*alpha^3*beta^3 + 6*(A^4 + 4*A^3*I + 6*A^2*I^2 + 4*A*I^3 + I^4 + (A^2 + 2*A*I + I^2)*S^2 - 2*(A^3 + 3*A^2*I + 3*A*I^2 + I^3)*S)*alpha^2*beta^4)*chi^2 - 1/3*((A^4 + 4*A^3*I + 6*A^2*I^2 + 4*A*I^3 + I^4)*beta^4*chi^4 + 2*(A + I + 4*S)*alpha^3*beta - (6*A^2 + 12*A*I + 6*I^2 + 4*(A + I)*S - S^2)*alpha^2*beta^2 + 2*(A^3 + 3*A^2*I + 3*A*I^2 + I^3 + 4*(A^2 + 2*A*I + I^2)*S)*alpha*beta^3 + (A^4 + 4*A^3*I + 6*A^2*I^2 + 4*A*I^3 + I^4)*beta^4 + alpha^4 - 2*((A^3 + 3*A^2*I + 3*A*I^2 + I^3 + 4*(A^2 + 2*A*I + I^2)*S)*alpha*beta^3 + 2*(A^4 + 4*A^3*I + 6*A^2*I^2 + 4*A*I^3 + I^4)*beta^4)*chi^3 - ((6*A^2 + 12*A*I + 6*I^2 + 4*(A + I)*S - S^2)*alpha^2*beta^2 - 6*(A^3 + 3*A^2*I + 3*A*I^2 + I^3 + 4*(A^2 + 2*A*I + I^2)*S)*alpha*beta^3 - 6*(A^4 + 4*A^3*I + 6*A^2*I^2 + 4*A*I^3 + I^4)*beta^4)*chi^2 - 2*((A + I + 4*S)*alpha^3*beta - (6*A^2 + 12*A*I + 6*I^2 + 4*(A + I)*S - S^2)*alpha^2*beta^2 + 3*(A^3 + 3*A^2*I + 3*A*I^2 + I^3 + 4*(A^2 + 2*A*I + I^2)*S)*alpha*beta^3 + 2*(A^4 + 4*A^3*I + 6*A^2*I^2 + 4*A*I^3 + I^4)*beta^4)*chi)*delta^2 + 2/3*((A^2 + 2*A*I + I^2 - 2*(A + I)*S + S^2)*alpha^4*beta^2 - 3*(A^3 + 3*A^2*I + 3*A*I^2 + I^3 + 5*(A + I)*S^2 - 2*S^3 - 4*(A^2 + 2*A*I + I^2)*S)*alpha^3*beta^3 + 2*(A^4 + 4*A^3*I + 6*A^2*I^2 + 4*A*I^3 + I^4 + (A^2 + 2*A*I + I^2)*S^2 - 2*(A^3 + 3*A^2*I + 3*A*I^2 + I^3)*S)*alpha^2*beta^4)*chi + 2/3*((A^4 + 4*A^3*I + 6*A^2*I^2 + 4*A*I^3 + I^4 + (A^3 + 3*A^2*I + 3*A*I^2 + I^3)*S)*alpha*beta^4*chi^4 + (A + I + S)*alpha^4*beta - (A^2 + 2*A*I + I^2 - 2*(A + I)*S - 5*S^2)*alpha^3*beta^2 - (A^3 + 3*A^2*I + 3*A*I^2 + I^3 - 5*(A + I)*S^2 - 2*(A^2 + 2*A*I + I^2)*S)*alpha^2*beta^3 + (A^4 + 4*A^3*I + 6*A^2*I^2 + 4*A*I^3 + I^4 + (A^3 + 3*A^2*I + 3*A*I^2 + I^3)*S)*alpha*beta^4 + ((A^3 + 3*A^2*I + 3*A*I^2 + I^3 - 5*(A + I)*S^2 - 2*(A^2 + 2*A*I + I^2)*S)*alpha^2*beta^3 - 4*(A^4 + 4*A^3*I + 6*A^2*I^2 + 4*A*I^3 + I^4 + (A^3 + 3*A^2*I + 3*A*I^2 + I^3)*S)*alpha*beta^4)*chi^3 - ((A^2 + 2*A*I + I^2 - 2*(A + I)*S - 5*S^2)*alpha^3*beta^2 + 3*(A^3 + 3*A^2*I + 3*A*I^2 + I^3 - 5*(A + I)*S^2 - 2*(A^2 + 2*A*I + I^2)*S)*alpha^2*beta^3 - 6*(A^4 + 4*A^3*I + 6*A^2*I^2 + 4*A*I^3 + I^4 + (A^3 + 3*A^2*I + 3*A*I^2 + I^3)*S)*alpha*beta^4)*chi^2 - ((A + I + S)*alpha^4*beta - 2*(A^2 + 2*A*I + I^2 - 2*(A + I)*S - 5*S^2)*alpha^3*beta^2 - 3*(A^3 + 3*A^2*I + 3*A*I^2 + I^3 - 5*(A + I)*S^2 - 2*(A^2 + 2*A*I + I^2)*S)*alpha^2*beta^3 + 4*(A^4 + 4*A^3*I + 6*A^2*I^2 + 4*A*I^3 + I^4 + (A^3 + 3*A^2*I + 3*A*I^2 + I^3)*S)*alpha*beta^4)*chi)*delta))^(1/3) - 1/6*(1/2)^(1/3)*(27*(chi*delta - delta)*A*alpha*beta + 27*(chi*delta - delta)*I*alpha*beta + 2*(A*beta*(chi - 1) + I*beta*(chi - 1) - alpha - delta)^3 - 9*(S*alpha*beta*(chi - 1) - (alpha*beta*(chi - 1) + (chi*delta - delta)*beta)*A - (alpha*beta*(chi - 1) + (chi*delta - delta)*beta)*I + alpha*delta)*(A*beta*(chi - 1) + I*beta*(chi - 1) - alpha - delta) + 9*sqrt(-1/3*(A^4 + 4*A^3*I + 6*A^2*I^2 + 4*A*I^3 + I^4 + (A^2 + 2*A*I + I^2)*S^2 - 2*(A^3 + 3*A^2*I + 3*A*I^2 + I^3)*S)*alpha^2*beta^4*chi^4 - 1/3*(A^2 + 2*A*I + I^2 - 2*(A + I)*S + S^2)*alpha^4*beta^2 + 2/3*(A^3 + 3*A^2*I + 3*A*I^2 + I^3 + 5*(A + I)*S^2 - 2*S^3 - 4*(A^2 + 2*A*I + I^2)*S)*alpha^3*beta^3 - 1/3*(A^4 + 4*A^3*I + 6*A^2*I^2 + 4*A*I^3 + I^4 + (A^2 + 2*A*I + I^2)*S^2 - 2*(A^3 + 3*A^2*I + 3*A*I^2 + I^3)*S)*alpha^2*beta^4 - 1/3*((A^2 + 2*A*I + I^2)*beta^2*chi^2 - 2*(A + I)*alpha*beta + (A^2 + 2*A*I + I^2)*beta^2 + alpha^2 + 2*((A + I)*alpha*beta - (A^2 + 2*A*I + I^2)*beta^2)*chi)*delta^4 - 2/3*((A^3 + 3*A^2*I + 3*A*I^2 + I^3 + 5*(A + I)*S^2 - 2*S^3 - 4*(A^2 + 2*A*I + I^2)*S)*alpha^3*beta^3 - 2*(A^4 + 4*A^3*I + 6*A^2*I^2 + 4*A*I^3 + I^4 + (A^2 + 2*A*I + I^2)*S^2 - 2*(A^3 + 3*A^2*I + 3*A*I^2 + I^3)*S)*alpha^2*beta^4)*chi^3 - 2/3*((A^3 + 3*A^2*I + 3*A*I^2 + I^3)*beta^3*chi^3 + (A + I - S)*alpha^2*beta + (A^2 + 2*A*I + I^2 - (A + I)*S)*alpha*beta^2 - (A^3 + 3*A^2*I + 3*A*I^2 + I^3)*beta^3 - alpha^3 + ((A^2 + 2*A*I + I^2 - (A + I)*S)*alpha*beta^2 - 3*(A^3 + 3*A^2*I + 3*A*I^2 + I^3)*beta^3)*chi^2 - ((A + I - S)*alpha^2*beta + 2*(A^2 + 2*A*I + I^2 - (A + I)*S)*alpha*beta^2 - 3*(A^3 + 3*A^2*I + 3*A*I^2 + I^3)*beta^3)*chi)*delta^3 - 1/3*((A^2 + 2*A*I + I^2 - 2*(A + I)*S + S^2)*alpha^4*beta^2 - 6*(A^3 + 3*A^2*I + 3*A*I^2 + I^3 + 5*(A + I)*S^2 - 2*S^3 - 4*(A^2 + 2*A*I + I^2)*S)*alpha^3*beta^3 + 6*(A^4 + 4*A^3*I + 6*A^2*I^2 + 4*A*I^3 + I^4 + (A^2 + 2*A*I + I^2)*S^2 - 2*(A^3 + 3*A^2*I + 3*A*I^2 + I^3)*S)*alpha^2*beta^4)*chi^2 - 1/3*((A^4 + 4*A^3*I + 6*A^2*I^2 + 4*A*I^3 + I^4)*beta^4*chi^4 + 2*(A + I + 4*S)*alpha^3*beta - (6*A^2 + 12*A*I + 6*I^2 + 4*(A + I)*S - S^2)*alpha^2*beta^2 + 2*(A^3 + 3*A^2*I + 3*A*I^2 + I^3 + 4*(A^2 + 2*A*I + I^2)*S)*alpha*beta^3 + (A^4 + 4*A^3*I + 6*A^2*I^2 + 4*A*I^3 + I^4)*beta^4 + alpha^4 - 2*((A^3 + 3*A^2*I + 3*A*I^2 + I^3 + 4*(A^2 + 2*A*I + I^2)*S)*alpha*beta^3 + 2*(A^4 + 4*A^3*I + 6*A^2*I^2 + 4*A*I^3 + I^4)*beta^4)*chi^3 - ((6*A^2 + 12*A*I + 6*I^2 + 4*(A + I)*S - S^2)*alpha^2*beta^2 - 6*(A^3 + 3*A^2*I + 3*A*I^2 + I^3 + 4*(A^2 + 2*A*I + I^2)*S)*alpha*beta^3 - 6*(A^4 + 4*A^3*I + 6*A^2*I^2 + 4*A*I^3 + I^4)*beta^4)*chi^2 - 2*((A + I + 4*S)*alpha^3*beta - (6*A^2 + 12*A*I + 6*I^2 + 4*(A + I)*S - S^2)*alpha^2*beta^2 + 3*(A^3 + 3*A^2*I + 3*A*I^2 + I^3 + 4*(A^2 + 2*A*I + I^2)*S)*alpha*beta^3 + 2*(A^4 + 4*A^3*I + 6*A^2*I^2 + 4*A*I^3 + I^4)*beta^4)*chi)*delta^2 + 2/3*((A^2 + 2*A*I + I^2 - 2*(A + I)*S + S^2)*alpha^4*beta^2 - 3*(A^3 + 3*A^2*I + 3*A*I^2 + I^3 + 5*(A + I)*S^2 - 2*S^3 - 4*(A^2 + 2*A*I + I^2)*S)*alpha^3*beta^3 + 2*(A^4 + 4*A^3*I + 6*A^2*I^2 + 4*A*I^3 + I^4 + (A^2 + 2*A*I + I^2)*S^2 - 2*(A^3 + 3*A^2*I + 3*A*I^2 + I^3)*S)*alpha^2*beta^4)*chi + 2/3*((A^4 + 4*A^3*I + 6*A^2*I^2 + 4*A*I^3 + I^4 + (A^3 + 3*A^2*I + 3*A*I^2 + I^3)*S)*alpha*beta^4*chi^4 + (A + I + S)*alpha^4*beta - (A^2 + 2*A*I + I^2 - 2*(A + I)*S - 5*S^2)*alpha^3*beta^2 - (A^3 + 3*A^2*I + 3*A*I^2 + I^3 - 5*(A + I)*S^2 - 2*(A^2 + 2*A*I + I^2)*S)*alpha^2*beta^3 + (A^4 + 4*A^3*I + 6*A^2*I^2 + 4*A*I^3 + I^4 + (A^3 + 3*A^2*I + 3*A*I^2 + I^3)*S)*alpha*beta^4 + ((A^3 + 3*A^2*I + 3*A*I^2 + I^3 - 5*(A + I)*S^2 - 2*(A^2 + 2*A*I + I^2)*S)*alpha^2*beta^3 - 4*(A^4 + 4*A^3*I + 6*A^2*I^2 + 4*A*I^3 + I^4 + (A^3 + 3*A^2*I + 3*A*I^2 + I^3)*S)*alpha*beta^4)*chi^3 - ((A^2 + 2*A*I + I^2 - 2*(A + I)*S - 5*S^2)*alpha^3*beta^2 + 3*(A^3 + 3*A^2*I + 3*A*I^2 + I^3 - 5*(A + I)*S^2 - 2*(A^2 + 2*A*I + I^2)*S)*alpha^2*beta^3 - 6*(A^4 + 4*A^3*I + 6*A^2*I^2 + 4*A*I^3 + I^4 + (A^3 + 3*A^2*I + 3*A*I^2 + I^3)*S)*alpha*beta^4)*chi^2 - ((A + I + S)*alpha^4*beta - 2*(A^2 + 2*A*I + I^2 - 2*(A + I)*S - 5*S^2)*alpha^3*beta^2 - 3*(A^3 + 3*A^2*I + 3*A*I^2 + I^3 - 5*(A + I)*S^2 - 2*(A^2 + 2*A*I + I^2)*S)*alpha^2*beta^3 + 4*(A^4 + 4*A^3*I + 6*A^2*I^2 + 4*A*I^3 + I^4 + (A^3 + 3*A^2*I + 3*A*I^2 + I^3)*S)*alpha*beta^4)*chi)*delta))^(1/3)*(-I*sqrt(3) + 1) - 1/3*alpha - 1/3*delta,\n",
       " 1/3*A*beta*(chi - 1) + 1/3*I*beta*(chi - 1) - 2/3*(1/2)^(2/3)*(3*S*alpha*beta*(chi - 1) - (A*beta*(chi - 1) + I*beta*(chi - 1) - alpha - delta)^2 - 3*(alpha*beta*(chi - 1) + (chi*delta - delta)*beta)*A - 3*(alpha*beta*(chi - 1) + (chi*delta - delta)*beta)*I + 3*alpha*delta)/(27*(chi*delta - delta)*A*alpha*beta + 27*(chi*delta - delta)*I*alpha*beta + 2*(A*beta*(chi - 1) + I*beta*(chi - 1) - alpha - delta)^3 - 9*(S*alpha*beta*(chi - 1) - (alpha*beta*(chi - 1) + (chi*delta - delta)*beta)*A - (alpha*beta*(chi - 1) + (chi*delta - delta)*beta)*I + alpha*delta)*(A*beta*(chi - 1) + I*beta*(chi - 1) - alpha - delta) + 9*sqrt(-1/3*(A^4 + 4*A^3*I + 6*A^2*I^2 + 4*A*I^3 + I^4 + (A^2 + 2*A*I + I^2)*S^2 - 2*(A^3 + 3*A^2*I + 3*A*I^2 + I^3)*S)*alpha^2*beta^4*chi^4 - 1/3*(A^2 + 2*A*I + I^2 - 2*(A + I)*S + S^2)*alpha^4*beta^2 + 2/3*(A^3 + 3*A^2*I + 3*A*I^2 + I^3 + 5*(A + I)*S^2 - 2*S^3 - 4*(A^2 + 2*A*I + I^2)*S)*alpha^3*beta^3 - 1/3*(A^4 + 4*A^3*I + 6*A^2*I^2 + 4*A*I^3 + I^4 + (A^2 + 2*A*I + I^2)*S^2 - 2*(A^3 + 3*A^2*I + 3*A*I^2 + I^3)*S)*alpha^2*beta^4 - 1/3*((A^2 + 2*A*I + I^2)*beta^2*chi^2 - 2*(A + I)*alpha*beta + (A^2 + 2*A*I + I^2)*beta^2 + alpha^2 + 2*((A + I)*alpha*beta - (A^2 + 2*A*I + I^2)*beta^2)*chi)*delta^4 - 2/3*((A^3 + 3*A^2*I + 3*A*I^2 + I^3 + 5*(A + I)*S^2 - 2*S^3 - 4*(A^2 + 2*A*I + I^2)*S)*alpha^3*beta^3 - 2*(A^4 + 4*A^3*I + 6*A^2*I^2 + 4*A*I^3 + I^4 + (A^2 + 2*A*I + I^2)*S^2 - 2*(A^3 + 3*A^2*I + 3*A*I^2 + I^3)*S)*alpha^2*beta^4)*chi^3 - 2/3*((A^3 + 3*A^2*I + 3*A*I^2 + I^3)*beta^3*chi^3 + (A + I - S)*alpha^2*beta + (A^2 + 2*A*I + I^2 - (A + I)*S)*alpha*beta^2 - (A^3 + 3*A^2*I + 3*A*I^2 + I^3)*beta^3 - alpha^3 + ((A^2 + 2*A*I + I^2 - (A + I)*S)*alpha*beta^2 - 3*(A^3 + 3*A^2*I + 3*A*I^2 + I^3)*beta^3)*chi^2 - ((A + I - S)*alpha^2*beta + 2*(A^2 + 2*A*I + I^2 - (A + I)*S)*alpha*beta^2 - 3*(A^3 + 3*A^2*I + 3*A*I^2 + I^3)*beta^3)*chi)*delta^3 - 1/3*((A^2 + 2*A*I + I^2 - 2*(A + I)*S + S^2)*alpha^4*beta^2 - 6*(A^3 + 3*A^2*I + 3*A*I^2 + I^3 + 5*(A + I)*S^2 - 2*S^3 - 4*(A^2 + 2*A*I + I^2)*S)*alpha^3*beta^3 + 6*(A^4 + 4*A^3*I + 6*A^2*I^2 + 4*A*I^3 + I^4 + (A^2 + 2*A*I + I^2)*S^2 - 2*(A^3 + 3*A^2*I + 3*A*I^2 + I^3)*S)*alpha^2*beta^4)*chi^2 - 1/3*((A^4 + 4*A^3*I + 6*A^2*I^2 + 4*A*I^3 + I^4)*beta^4*chi^4 + 2*(A + I + 4*S)*alpha^3*beta - (6*A^2 + 12*A*I + 6*I^2 + 4*(A + I)*S - S^2)*alpha^2*beta^2 + 2*(A^3 + 3*A^2*I + 3*A*I^2 + I^3 + 4*(A^2 + 2*A*I + I^2)*S)*alpha*beta^3 + (A^4 + 4*A^3*I + 6*A^2*I^2 + 4*A*I^3 + I^4)*beta^4 + alpha^4 - 2*((A^3 + 3*A^2*I + 3*A*I^2 + I^3 + 4*(A^2 + 2*A*I + I^2)*S)*alpha*beta^3 + 2*(A^4 + 4*A^3*I + 6*A^2*I^2 + 4*A*I^3 + I^4)*beta^4)*chi^3 - ((6*A^2 + 12*A*I + 6*I^2 + 4*(A + I)*S - S^2)*alpha^2*beta^2 - 6*(A^3 + 3*A^2*I + 3*A*I^2 + I^3 + 4*(A^2 + 2*A*I + I^2)*S)*alpha*beta^3 - 6*(A^4 + 4*A^3*I + 6*A^2*I^2 + 4*A*I^3 + I^4)*beta^4)*chi^2 - 2*((A + I + 4*S)*alpha^3*beta - (6*A^2 + 12*A*I + 6*I^2 + 4*(A + I)*S - S^2)*alpha^2*beta^2 + 3*(A^3 + 3*A^2*I + 3*A*I^2 + I^3 + 4*(A^2 + 2*A*I + I^2)*S)*alpha*beta^3 + 2*(A^4 + 4*A^3*I + 6*A^2*I^2 + 4*A*I^3 + I^4)*beta^4)*chi)*delta^2 + 2/3*((A^2 + 2*A*I + I^2 - 2*(A + I)*S + S^2)*alpha^4*beta^2 - 3*(A^3 + 3*A^2*I + 3*A*I^2 + I^3 + 5*(A + I)*S^2 - 2*S^3 - 4*(A^2 + 2*A*I + I^2)*S)*alpha^3*beta^3 + 2*(A^4 + 4*A^3*I + 6*A^2*I^2 + 4*A*I^3 + I^4 + (A^2 + 2*A*I + I^2)*S^2 - 2*(A^3 + 3*A^2*I + 3*A*I^2 + I^3)*S)*alpha^2*beta^4)*chi + 2/3*((A^4 + 4*A^3*I + 6*A^2*I^2 + 4*A*I^3 + I^4 + (A^3 + 3*A^2*I + 3*A*I^2 + I^3)*S)*alpha*beta^4*chi^4 + (A + I + S)*alpha^4*beta - (A^2 + 2*A*I + I^2 - 2*(A + I)*S - 5*S^2)*alpha^3*beta^2 - (A^3 + 3*A^2*I + 3*A*I^2 + I^3 - 5*(A + I)*S^2 - 2*(A^2 + 2*A*I + I^2)*S)*alpha^2*beta^3 + (A^4 + 4*A^3*I + 6*A^2*I^2 + 4*A*I^3 + I^4 + (A^3 + 3*A^2*I + 3*A*I^2 + I^3)*S)*alpha*beta^4 + ((A^3 + 3*A^2*I + 3*A*I^2 + I^3 - 5*(A + I)*S^2 - 2*(A^2 + 2*A*I + I^2)*S)*alpha^2*beta^3 - 4*(A^4 + 4*A^3*I + 6*A^2*I^2 + 4*A*I^3 + I^4 + (A^3 + 3*A^2*I + 3*A*I^2 + I^3)*S)*alpha*beta^4)*chi^3 - ((A^2 + 2*A*I + I^2 - 2*(A + I)*S - 5*S^2)*alpha^3*beta^2 + 3*(A^3 + 3*A^2*I + 3*A*I^2 + I^3 - 5*(A + I)*S^2 - 2*(A^2 + 2*A*I + I^2)*S)*alpha^2*beta^3 - 6*(A^4 + 4*A^3*I + 6*A^2*I^2 + 4*A*I^3 + I^4 + (A^3 + 3*A^2*I + 3*A*I^2 + I^3)*S)*alpha*beta^4)*chi^2 - ((A + I + S)*alpha^4*beta - 2*(A^2 + 2*A*I + I^2 - 2*(A + I)*S - 5*S^2)*alpha^3*beta^2 - 3*(A^3 + 3*A^2*I + 3*A*I^2 + I^3 - 5*(A + I)*S^2 - 2*(A^2 + 2*A*I + I^2)*S)*alpha^2*beta^3 + 4*(A^4 + 4*A^3*I + 6*A^2*I^2 + 4*A*I^3 + I^4 + (A^3 + 3*A^2*I + 3*A*I^2 + I^3)*S)*alpha*beta^4)*chi)*delta))^(1/3) - 1/3*alpha - 1/3*delta + 1/3*(1/2)^(1/3)*(27*(chi*delta - delta)*A*alpha*beta + 27*(chi*delta - delta)*I*alpha*beta + 2*(A*beta*(chi - 1) + I*beta*(chi - 1) - alpha - delta)^3 - 9*(S*alpha*beta*(chi - 1) - (alpha*beta*(chi - 1) + (chi*delta - delta)*beta)*A - (alpha*beta*(chi - 1) + (chi*delta - delta)*beta)*I + alpha*delta)*(A*beta*(chi - 1) + I*beta*(chi - 1) - alpha - delta) + 9*sqrt(-1/3*(A^4 + 4*A^3*I + 6*A^2*I^2 + 4*A*I^3 + I^4 + (A^2 + 2*A*I + I^2)*S^2 - 2*(A^3 + 3*A^2*I + 3*A*I^2 + I^3)*S)*alpha^2*beta^4*chi^4 - 1/3*(A^2 + 2*A*I + I^2 - 2*(A + I)*S + S^2)*alpha^4*beta^2 + 2/3*(A^3 + 3*A^2*I + 3*A*I^2 + I^3 + 5*(A + I)*S^2 - 2*S^3 - 4*(A^2 + 2*A*I + I^2)*S)*alpha^3*beta^3 - 1/3*(A^4 + 4*A^3*I + 6*A^2*I^2 + 4*A*I^3 + I^4 + (A^2 + 2*A*I + I^2)*S^2 - 2*(A^3 + 3*A^2*I + 3*A*I^2 + I^3)*S)*alpha^2*beta^4 - 1/3*((A^2 + 2*A*I + I^2)*beta^2*chi^2 - 2*(A + I)*alpha*beta + (A^2 + 2*A*I + I^2)*beta^2 + alpha^2 + 2*((A + I)*alpha*beta - (A^2 + 2*A*I + I^2)*beta^2)*chi)*delta^4 - 2/3*((A^3 + 3*A^2*I + 3*A*I^2 + I^3 + 5*(A + I)*S^2 - 2*S^3 - 4*(A^2 + 2*A*I + I^2)*S)*alpha^3*beta^3 - 2*(A^4 + 4*A^3*I + 6*A^2*I^2 + 4*A*I^3 + I^4 + (A^2 + 2*A*I + I^2)*S^2 - 2*(A^3 + 3*A^2*I + 3*A*I^2 + I^3)*S)*alpha^2*beta^4)*chi^3 - 2/3*((A^3 + 3*A^2*I + 3*A*I^2 + I^3)*beta^3*chi^3 + (A + I - S)*alpha^2*beta + (A^2 + 2*A*I + I^2 - (A + I)*S)*alpha*beta^2 - (A^3 + 3*A^2*I + 3*A*I^2 + I^3)*beta^3 - alpha^3 + ((A^2 + 2*A*I + I^2 - (A + I)*S)*alpha*beta^2 - 3*(A^3 + 3*A^2*I + 3*A*I^2 + I^3)*beta^3)*chi^2 - ((A + I - S)*alpha^2*beta + 2*(A^2 + 2*A*I + I^2 - (A + I)*S)*alpha*beta^2 - 3*(A^3 + 3*A^2*I + 3*A*I^2 + I^3)*beta^3)*chi)*delta^3 - 1/3*((A^2 + 2*A*I + I^2 - 2*(A + I)*S + S^2)*alpha^4*beta^2 - 6*(A^3 + 3*A^2*I + 3*A*I^2 + I^3 + 5*(A + I)*S^2 - 2*S^3 - 4*(A^2 + 2*A*I + I^2)*S)*alpha^3*beta^3 + 6*(A^4 + 4*A^3*I + 6*A^2*I^2 + 4*A*I^3 + I^4 + (A^2 + 2*A*I + I^2)*S^2 - 2*(A^3 + 3*A^2*I + 3*A*I^2 + I^3)*S)*alpha^2*beta^4)*chi^2 - 1/3*((A^4 + 4*A^3*I + 6*A^2*I^2 + 4*A*I^3 + I^4)*beta^4*chi^4 + 2*(A + I + 4*S)*alpha^3*beta - (6*A^2 + 12*A*I + 6*I^2 + 4*(A + I)*S - S^2)*alpha^2*beta^2 + 2*(A^3 + 3*A^2*I + 3*A*I^2 + I^3 + 4*(A^2 + 2*A*I + I^2)*S)*alpha*beta^3 + (A^4 + 4*A^3*I + 6*A^2*I^2 + 4*A*I^3 + I^4)*beta^4 + alpha^4 - 2*((A^3 + 3*A^2*I + 3*A*I^2 + I^3 + 4*(A^2 + 2*A*I + I^2)*S)*alpha*beta^3 + 2*(A^4 + 4*A^3*I + 6*A^2*I^2 + 4*A*I^3 + I^4)*beta^4)*chi^3 - ((6*A^2 + 12*A*I + 6*I^2 + 4*(A + I)*S - S^2)*alpha^2*beta^2 - 6*(A^3 + 3*A^2*I + 3*A*I^2 + I^3 + 4*(A^2 + 2*A*I + I^2)*S)*alpha*beta^3 - 6*(A^4 + 4*A^3*I + 6*A^2*I^2 + 4*A*I^3 + I^4)*beta^4)*chi^2 - 2*((A + I + 4*S)*alpha^3*beta - (6*A^2 + 12*A*I + 6*I^2 + 4*(A + I)*S - S^2)*alpha^2*beta^2 + 3*(A^3 + 3*A^2*I + 3*A*I^2 + I^3 + 4*(A^2 + 2*A*I + I^2)*S)*alpha*beta^3 + 2*(A^4 + 4*A^3*I + 6*A^2*I^2 + 4*A*I^3 + I^4)*beta^4)*chi)*delta^2 + 2/3*((A^2 + 2*A*I + I^2 - 2*(A + I)*S + S^2)*alpha^4*beta^2 - 3*(A^3 + 3*A^2*I + 3*A*I^2 + I^3 + 5*(A + I)*S^2 - 2*S^3 - 4*(A^2 + 2*A*I + I^2)*S)*alpha^3*beta^3 + 2*(A^4 + 4*A^3*I + 6*A^2*I^2 + 4*A*I^3 + I^4 + (A^2 + 2*A*I + I^2)*S^2 - 2*(A^3 + 3*A^2*I + 3*A*I^2 + I^3)*S)*alpha^2*beta^4)*chi + 2/3*((A^4 + 4*A^3*I + 6*A^2*I^2 + 4*A*I^3 + I^4 + (A^3 + 3*A^2*I + 3*A*I^2 + I^3)*S)*alpha*beta^4*chi^4 + (A + I + S)*alpha^4*beta - (A^2 + 2*A*I + I^2 - 2*(A + I)*S - 5*S^2)*alpha^3*beta^2 - (A^3 + 3*A^2*I + 3*A*I^2 + I^3 - 5*(A + I)*S^2 - 2*(A^2 + 2*A*I + I^2)*S)*alpha^2*beta^3 + (A^4 + 4*A^3*I + 6*A^2*I^2 + 4*A*I^3 + I^4 + (A^3 + 3*A^2*I + 3*A*I^2 + I^3)*S)*alpha*beta^4 + ((A^3 + 3*A^2*I + 3*A*I^2 + I^3 - 5*(A + I)*S^2 - 2*(A^2 + 2*A*I + I^2)*S)*alpha^2*beta^3 - 4*(A^4 + 4*A^3*I + 6*A^2*I^2 + 4*A*I^3 + I^4 + (A^3 + 3*A^2*I + 3*A*I^2 + I^3)*S)*alpha*beta^4)*chi^3 - ((A^2 + 2*A*I + I^2 - 2*(A + I)*S - 5*S^2)*alpha^3*beta^2 + 3*(A^3 + 3*A^2*I + 3*A*I^2 + I^3 - 5*(A + I)*S^2 - 2*(A^2 + 2*A*I + I^2)*S)*alpha^2*beta^3 - 6*(A^4 + 4*A^3*I + 6*A^2*I^2 + 4*A*I^3 + I^4 + (A^3 + 3*A^2*I + 3*A*I^2 + I^3)*S)*alpha*beta^4)*chi^2 - ((A + I + S)*alpha^4*beta - 2*(A^2 + 2*A*I + I^2 - 2*(A + I)*S - 5*S^2)*alpha^3*beta^2 - 3*(A^3 + 3*A^2*I + 3*A*I^2 + I^3 - 5*(A + I)*S^2 - 2*(A^2 + 2*A*I + I^2)*S)*alpha^2*beta^3 + 4*(A^4 + 4*A^3*I + 6*A^2*I^2 + 4*A*I^3 + I^4 + (A^3 + 3*A^2*I + 3*A*I^2 + I^3)*S)*alpha*beta^4)*chi)*delta))^(1/3),\n",
       " -mu - rho,\n",
       " -delta]"
      ]
     },
     "execution_count": 12,
     "metadata": {},
     "output_type": "execute_result"
    }
   ],
   "source": [
    "jack.eigenvalues()"
   ]
  },
  {
   "cell_type": "markdown",
   "metadata": {},
   "source": [
    "## Calculo do $\\mathcal{R}_0$\n",
    "O método que iremos utilizar foi proposto por P. van den Driessche no seguinte artigo: \n",
    "\n",
    "[Reproduction numbers and sub-threshold endemic equilibria for compartmental models of disease transmission](https://pdfs.semanticscholar.org/3cf7/1968a86800215b4e129ec3eda67520832cf0.pdf)\n",
    "\n",
    "\n",
    "\n",
    " Seja $X=(x_1,\\ldots, x_n)^t$, tal que $x_i\\geq 0$, o número de indivíduos em cada compartimento.\n",
    "\n",
    "Vamos definir $X_s$ como o conjunto de todos os estados livres de doença.\n",
    "\n",
    "$$X_s=\\{x \\geq 0|x_i=0, i=1\\ldots,m\\}$$\n",
    "\n",
    "\n",
    "\n",
    "Supõe-se que cada função é continuamente diferenciável pelo menos duas vezes ($C^2$) em cada variável. As equações são reordenadas para que as $m$ primeiras equação sejam aquelas que contém infectados. Seja ${\\cal F}_i(x)$ a taxa de aparecimento de novas infecções no compartimento $i$, ${\\cal V}_i^+(x)$ a taxa de entrada de indivíduos no compartimento $i$ por outros meios e ${\\cal V}_i^-(x)$ a taxa de saída de indivíduos do compartimento $i$. O modelo de transmissão da doença consiste em condições iniciais não negativas juntamente com o seguinte sistema de equações:\n",
    "\n",
    "$\\dot{x}=f_i(x)={\\cal F}_i(x)-{\\cal V}_i(x), i=1\\ldots, n$\n",
    "\n",
    "onde, ${\\cal V}_i (x) = {\\cal V}_i(x)^{-} - {\\cal V}_i(x)^+$ e as funções satisfazem os pressupostos  (A1) - (A5) descritos abaixo. Desde que cada função representa uma transferência dirigida de indivíduos, todos elas são não-negativos.\n",
    "\n",
    "(A1) Se $x \\geq 0 $, então ${\\cal F}_i, {\\cal V}_i^+, {\\cal V}_i ^- \\geq 0$ para $i=1, \\ldots, n$\n",
    "\n",
    "ou seja, se um compartimento estiver vazio, não pode haver saída de indivíduos deste, por morte, infecção ou qualquer outro meio.\n",
    "\n",
    "(A2) Se $x_i=0$ então ${\\cal V}_i^-(x)=0$. Em particular, se $x \\in X_s$, então ${\\cal V}_i^-(x)=0$ para $i=1,\\ldots, m$\n",
    "\n",
    "(A3) ${\\cal F}_i=0$ se $i>m$\n",
    "\n",
    "(A4) Se $x \\in X_S$, então ${\\cal F}_i(x) = 0$ e ${\\cal V}_i^+(x)=0$ para $i=1,\\ldots, m$\n",
    "\n",
    "(A5) Se ${\\cal F}(x)$ é um vetor nulo, então todos os autovalores de $Df(x_0)$ tem parte real negativa.\n",
    "\n",
    " ---\n",
    "\n",
    "Para calcular o $R_0$ é importante distinguir as novas infecções de todas as outras mudanças na população. No modelo proposto, os compartimentos que correspondem aos indivíduos infectados são $E$, $I$ E $A$, portanto, ${\\bf m=3}$. A fim de clareza, vamos ordenar os $n=5$ compartimentos da seguinte forma: $[E, I, A, H, S]$, separando os $m$ primeiros compartimentos do restante. Vale ressaltar que as transferências dos compartimentos expostos para os infectados e Assintomáticos e de infectados para Hospitalizados não são consideradas novas infecções, mas sim a progressão de um indivíduo infectado através dos vários compartimentos. Portanto,\n",
    "\n",
    "$$ {\\cal F}_i(x): \\text{ taxa de surgimento de novos infectados no compartimento } i $$\n",
    "\n",
    "\n",
    "$$ {\\cal F} =\\begin{bmatrix}\n",
    "\\Lambda(1-\\chi) S\\\\\n",
    "0\\\\\n",
    "0\\\\\n",
    "\\end{bmatrix} $$\n",
    "\n",
    "\n",
    "Onde, ${\\color{red}\\Lambda=\\beta(I+A)}$."
   ]
  },
  {
   "cell_type": "code",
   "execution_count": 13,
   "metadata": {},
   "outputs": [
    {
     "data": {
      "text/html": [
       "<html><script type=\"math/tex; mode=display\">\\newcommand{\\Bold}[1]{\\mathbf{#1}}\\left(\\begin{array}{r}\n",
       "-{\\left(A + I\\right)} S \\beta {\\left(\\chi - 1\\right)} \\\\\n",
       "0 \\\\\n",
       "0\n",
       "\\end{array}\\right)</script></html>"
      ],
      "text/plain": [
       "[-(A + I)*S*beta*(chi - 1)]\n",
       "[                        0]\n",
       "[                        0]"
      ]
     },
     "execution_count": 13,
     "metadata": {},
     "output_type": "execute_result"
    }
   ],
   "source": [
    "F_cal = matrix([[Lambda*(1-chi)*S],[0],[0]])\n",
    "F_cal"
   ]
  },
  {
   "cell_type": "markdown",
   "metadata": {},
   "source": [
    "\n",
    "\n",
    "Além disso, temos\n",
    "\n",
    "$$ {\\cal V}_i(x)^-: \\text{ taxa de saída do compartimento } i $$\n",
    "\n",
    "$$ {\\cal V}_i(x)^+: \\text{ taxa de entrada do compartimento } i $$\n",
    "\n",
    "Logo,\n",
    "\n",
    "$$\n",
    "\\begin{equation}\n",
    "{\\cal V^-} = \\begin{bmatrix}\n",
    "\\alpha E\\\\\n",
    "\\delta I\\\\\n",
    "\\delta A\n",
    "\\end{bmatrix}\n",
    "\\end{equation}\n",
    "$$\n",
    "$$\n",
    "\\begin{equation}\n",
    "\\qquad {\\cal V^+} = \\begin{bmatrix}\n",
    "0\\\\\n",
    "(1-p) \\alpha E\\\\\n",
    "p \\alpha E\\\\\n",
    "\\end{bmatrix}\n",
    "\\end{equation}\n",
    "$$"
   ]
  },
  {
   "cell_type": "code",
   "execution_count": 14,
   "metadata": {},
   "outputs": [
    {
     "data": {
      "text/html": [
       "<html><script type=\"math/tex; mode=display\">\\newcommand{\\Bold}[1]{\\mathbf{#1}}\\left(\\begin{array}{r}\n",
       "E \\alpha \\\\\n",
       "I \\delta \\\\\n",
       "A \\delta\n",
       "\\end{array}\\right)</script></html>"
      ],
      "text/plain": [
       "[E*alpha]\n",
       "[I*delta]\n",
       "[A*delta]"
      ]
     },
     "execution_count": 14,
     "metadata": {},
     "output_type": "execute_result"
    }
   ],
   "source": [
    "V_cal_neg = matrix([[alpha*E],[delta*I],[delta*A]])\n",
    "V_cal_neg"
   ]
  },
  {
   "cell_type": "code",
   "execution_count": 15,
   "metadata": {},
   "outputs": [
    {
     "data": {
      "text/html": [
       "<html><script type=\"math/tex; mode=display\">\\newcommand{\\Bold}[1]{\\mathbf{#1}}\\left(\\begin{array}{r}\n",
       "0 \\\\\n",
       "-E \\alpha {\\left(p - 1\\right)} \\\\\n",
       "E \\alpha p\n",
       "\\end{array}\\right)</script></html>"
      ],
      "text/plain": [
       "[               0]\n",
       "[-E*alpha*(p - 1)]\n",
       "[       E*alpha*p]"
      ]
     },
     "execution_count": 15,
     "metadata": {},
     "output_type": "execute_result"
    }
   ],
   "source": [
    "V_cal_pos = matrix([[0],[(1-p)*alpha*E],[p*alpha*E]])\n",
    "V_cal_pos"
   ]
  },
  {
   "cell_type": "markdown",
   "metadata": {},
   "source": [
    "\n",
    "\n",
    "$${\\cal V}_i (x) = {\\cal V}_i(x)^{-} - {\\cal V}_i(x)^+$$\n",
    "\n",
    "Então,\n",
    "\\begin{equation}\n",
    "{\\cal V} =\n",
    "\\begin{bmatrix}\n",
    "\\alpha E\\\\\n",
    "(p-1)\\alpha E+\\delta I\\\\\n",
    "-p\\alpha E+ \\delta A\\\\\n",
    "\\end{bmatrix}\n",
    "\\end{equation}"
   ]
  },
  {
   "cell_type": "code",
   "execution_count": 16,
   "metadata": {},
   "outputs": [
    {
     "data": {
      "text/html": [
       "<html><script type=\"math/tex; mode=display\">\\newcommand{\\Bold}[1]{\\mathbf{#1}}\\left(\\begin{array}{r}\n",
       "E \\alpha \\\\\n",
       "E \\alpha {\\left(p - 1\\right)} + I \\delta \\\\\n",
       "-E \\alpha p + A \\delta\n",
       "\\end{array}\\right)</script></html>"
      ],
      "text/plain": [
       "[                  E*alpha]\n",
       "[E*alpha*(p - 1) + I*delta]\n",
       "[     -E*alpha*p + A*delta]"
      ]
     },
     "execution_count": 16,
     "metadata": {},
     "output_type": "execute_result"
    }
   ],
   "source": [
    "V_cal = V_cal_neg-V_cal_pos\n",
    "V_cal"
   ]
  },
  {
   "cell_type": "markdown",
   "metadata": {},
   "source": [
    "Definimos também $F=\\left[\\frac{\\partial {\\cal F}_i (x_0)}{\\partial x_j}\\right]$ e $V=\\left[\\frac{\\partial {\\cal V}_i (x_0) }{\\partial x_j}\\right]$, onde $x_0$ é um DFE e $1\\leq i,j \\leq m$. \n",
    "\n",
    "Isto equivale à jacobiana  destas duas matrizes, após substituir $x_0$ ou seja, $S=1$."
   ]
  },
  {
   "cell_type": "code",
   "execution_count": 22,
   "metadata": {},
   "outputs": [
    {
     "data": {
      "text/html": [
       "<html><script type=\"math/tex; mode=display\">\\newcommand{\\Bold}[1]{\\mathbf{#1}}\\left(\\begin{array}{rrr}\n",
       "0 & -\\beta {\\left(\\chi - 1\\right)} & -\\beta {\\left(\\chi - 1\\right)} \\\\\n",
       "0 & 0 & 0 \\\\\n",
       "0 & 0 & 0\n",
       "\\end{array}\\right)</script></html>"
      ],
      "text/plain": [
       "[              0 -beta*(chi - 1) -beta*(chi - 1)]\n",
       "[              0               0               0]\n",
       "[              0               0               0]"
      ]
     },
     "execution_count": 22,
     "metadata": {},
     "output_type": "execute_result"
    }
   ],
   "source": [
    "F = jacobian(F_cal(S=1),[E,I,A])\n",
    "F"
   ]
  },
  {
   "cell_type": "code",
   "execution_count": 20,
   "metadata": {},
   "outputs": [
    {
     "data": {
      "text/html": [
       "<html><script type=\"math/tex; mode=display\">\\newcommand{\\Bold}[1]{\\mathbf{#1}}\\left(\\begin{array}{rrr}\n",
       "\\alpha & 0 & 0 \\\\\n",
       "\\alpha {\\left(p - 1\\right)} & \\delta & 0 \\\\\n",
       "-\\alpha p & 0 & \\delta\n",
       "\\end{array}\\right)</script></html>"
      ],
      "text/plain": [
       "[        alpha             0             0]\n",
       "[alpha*(p - 1)         delta             0]\n",
       "[     -alpha*p             0         delta]"
      ]
     },
     "execution_count": 20,
     "metadata": {},
     "output_type": "execute_result"
    }
   ],
   "source": [
    "V = jacobian(V_cal(S=1),[E,I,A])\n",
    "V"
   ]
  },
  {
   "cell_type": "markdown",
   "metadata": {},
   "source": [
    "${\\cal R}_0 = \\rho (FV^{-1})$"
   ]
  },
  {
   "cell_type": "code",
   "execution_count": 23,
   "metadata": {},
   "outputs": [],
   "source": [
    "M= F*V.inverse()"
   ]
  },
  {
   "cell_type": "code",
   "execution_count": 24,
   "metadata": {},
   "outputs": [
    {
     "data": {
      "text/html": [
       "<html><script type=\"math/tex; mode=display\">\\newcommand{\\Bold}[1]{\\mathbf{#1}}\\left(\\begin{array}{rrr}\n",
       "-\\frac{\\beta \\chi - \\beta}{\\delta} & -\\frac{\\beta \\chi - \\beta}{\\delta} & -\\frac{\\beta \\chi - \\beta}{\\delta} \\\\\n",
       "0 & 0 & 0 \\\\\n",
       "0 & 0 & 0\n",
       "\\end{array}\\right)</script></html>"
      ],
      "text/plain": [
       "[-(beta*chi - beta)/delta -(beta*chi - beta)/delta -(beta*chi - beta)/delta]\n",
       "[                       0                        0                        0]\n",
       "[                       0                        0                        0]"
      ]
     },
     "execution_count": 24,
     "metadata": {},
     "output_type": "execute_result"
    }
   ],
   "source": [
    "M=M.simplify_full()\n",
    "M"
   ]
  },
  {
   "cell_type": "markdown",
   "metadata": {},
   "source": [
    "Since only the first row of $M$ is non-zero, all but one of the eigenvalues is $0$ and the dominant eigenvalue or spectral radius is $M_{11}$, thus"
   ]
  },
  {
   "cell_type": "code",
   "execution_count": 26,
   "metadata": {},
   "outputs": [
    {
     "data": {
      "text/html": [
       "<html><script type=\"math/tex; mode=display\">\\newcommand{\\Bold}[1]{\\mathbf{#1}}-\\frac{\\beta \\chi - \\beta}{\\delta}</script></html>"
      ],
      "text/plain": [
       "-(beta*chi - beta)/delta"
      ]
     },
     "execution_count": 26,
     "metadata": {},
     "output_type": "execute_result"
    }
   ],
   "source": [
    "R0=M[0,0].simplify_full()\n",
    "R0"
   ]
  },
  {
   "cell_type": "code",
   "execution_count": 28,
   "metadata": {},
   "outputs": [
    {
     "data": {
      "text/html": [
       "<html><script type=\"math/tex; mode=display\">\\newcommand{\\Bold}[1]{\\mathbf{#1}}\\left(\\beta, \\chi, \\delta\\right)</script></html>"
      ],
      "text/plain": [
       "(beta, chi, delta)"
      ]
     },
     "execution_count": 28,
     "metadata": {},
     "output_type": "execute_result"
    }
   ],
   "source": [
    "R0.variables()"
   ]
  },
  {
   "cell_type": "code",
   "execution_count": 0,
   "metadata": {},
   "outputs": [],
   "source": [
    "show('$R_t=$')\n",
    "Rt = M[0,0]\n",
    "Rt"
   ]
  },
  {
   "cell_type": "code",
   "execution_count": 0,
   "metadata": {},
   "outputs": [],
   "source": [
    "print(Rt)"
   ]
  },
  {
   "cell_type": "code",
   "execution_count": 0,
   "metadata": {},
   "outputs": [],
   "source": [
    "plot(R0(chi=0.3,phi=.1,rho=.6,delta=.1,alpha=.3, p=.75),(beta,0.01,0.32))"
   ]
  },
  {
   "cell_type": "code",
   "execution_count": 0,
   "metadata": {},
   "outputs": [],
   "source": [
    "R0(chi=0.1,phi=.1,rho=.6,delta=.1,alpha=10, p=.75,beta=.5)"
   ]
  },
  {
   "cell_type": "code",
   "execution_count": 0,
   "metadata": {},
   "outputs": [],
   "source": [
    "plot(Rt(chi=0.3,phi=.1,rho=.6,delta=.1,alpha=10,beta=.2, p=.75),(S,0,1))"
   ]
  },
  {
   "cell_type": "code",
   "execution_count": 0,
   "metadata": {},
   "outputs": [],
   "source": []
  },
  {
   "cell_type": "code",
   "execution_count": 0,
   "metadata": {},
   "outputs": [],
   "source": []
  },
  {
   "cell_type": "code",
   "execution_count": 0,
   "metadata": {},
   "outputs": [],
   "source": []
  }
 ],
 "metadata": {
  "kernelspec": {
   "display_name": "SageMath 9.0",
   "language": "sage",
   "name": "sagemath"
  },
  "language_info": {
   "codemirror_mode": {
    "name": "ipython",
    "version": 3
   },
   "file_extension": ".py",
   "mimetype": "text/x-python",
   "name": "python",
   "nbconvert_exporter": "python",
   "pygments_lexer": "ipython3",
   "version": "3.7.3"
  }
 },
 "nbformat": 4,
 "nbformat_minor": 4
}

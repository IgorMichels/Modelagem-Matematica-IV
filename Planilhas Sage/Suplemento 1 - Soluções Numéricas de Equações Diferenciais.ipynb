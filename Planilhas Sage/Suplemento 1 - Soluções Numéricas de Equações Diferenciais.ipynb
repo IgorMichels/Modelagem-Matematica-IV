{
 "cells": [
  {
   "cell_type": "markdown",
   "metadata": {},
   "source": [
    "# Integração Numérica\n",
    "Existem diversos métodos comumente utilizados para encontrar soluções aproximadas para sistemas de EDOs. Neste documento introduziremos os mais usados assim com exemplos do seu uso no Sage.\n",
    "## Método de Euler \n",
    "\n",
    "No método de Euler aproximamos a EDO de primeira ordem por uma série de pontos no tempo a intervalos regulares de tamanho $h$ definido pelo usuário. Logo, $t_n=t_0 + n h$. Assumindo um EDO da forma $\\frac{dy}{dt}=f(t,y(t))$, a solução aproximada pelo método de Euler é $$y_{n+1} = y_n + hf(t_n,y_n)$$.\n",
    "\n",
    "Abaixo temos um exemplo interativo para um sistema relativamente simples: $$\\frac{dx}{dt} = sin(x)$$\n"
   ]
  },
  {
   "cell_type": "code",
   "execution_count": 15,
   "metadata": {},
   "outputs": [],
   "source": [
    "%display typeset"
   ]
  },
  {
   "cell_type": "code",
   "execution_count": 16,
   "metadata": {},
   "outputs": [
    {
     "data": {
      "application/vnd.jupyter.widget-view+json": {
       "model_id": "77bb4adf271b4e8b9804f25002c21cb5",
       "version_major": 2,
       "version_minor": 0
      },
      "text/plain": [
       "Interactive function <function euler_method at 0x7fe91712be18> with 7 widgets\n",
       "  y_exact_in: TransformText(valu…"
      ]
     },
     "metadata": {},
     "output_type": "display_data"
    }
   ],
   "source": [
    "def tab_list(y, headers = None):\n",
    "    '''\n",
    "    Converte uma lista em uma tabela html\n",
    "    '''\n",
    "    s = '<table border = 1>'\n",
    "    if headers:\n",
    "        for q in headers:\n",
    "            s = s + '<th>' + str(q) + '</th>'\n",
    "    for x in y:\n",
    "        s = s + '<tr>'\n",
    "        for q in x:\n",
    "            s = s + '<td>' + str(q) + '</td>'\n",
    "        s = s + '</tr>'\n",
    "    s = s + '</table>'\n",
    "    return s\n",
    "\n",
    "var('x y')\n",
    "@interact\n",
    "def euler_method(y_exact_in = input_box('-cos(x)+1.0', type = str, label = 'Solução Exata = '), y_prime_in = input_box('sin(x)', type = str, label = \"y' = \"), start = input_box(0.0, label = 'Val. inicial de x: '), stop = input_box(6.0, label = 'Valor de parada de x: '), startval = input_box(0.0, label = 'Valor inicial de y: '), nsteps = slider([2^m for m in range(0,10)], default = 10, label = 'Número de passos: '), show_steps = slider([2^m for m in range(0,10)], default = 8, label = 'Numero de passos mostrados na tabela: ')):\n",
    "    y_exact = lambda x: eval(y_exact_in)\n",
    "    y_prime = lambda x,y: eval(y_prime_in)\n",
    "    stepsize = float((stop-start)/nsteps)\n",
    "    steps_shown = min(nsteps,show_steps)\n",
    "    sol = [startval]\n",
    "    xvals = [start]\n",
    "    for step in range(nsteps):\n",
    "        sol.append(sol[-1] + stepsize*y_prime(xvals[-1],sol[-1]))\n",
    "        xvals.append(xvals[-1] + stepsize)\n",
    "    sol_max = max(sol + [find_local_maximum(y_exact,start,stop)[0]])\n",
    "    sol_min = min(sol + [find_local_minimum(y_exact,start,stop)[0]])\n",
    "    show(plot(y_exact(x),start,stop,rgbcolor=(1,0,0))+line([[xvals[index],sol[index]] for index in range(len(sol))]),xmin=start,xmax = stop, ymax = sol_max, ymin = sol_min)\n",
    "    if nsteps < steps_shown:\n",
    "        table_range = range(len(sol))\n",
    "    else:\n",
    "        table_range = list(range(0,floor(steps_shown/2))) + list(range(len(sol)-floor(steps_shown/2),len(sol)))\n",
    "    html(tab_list([[i,xvals[i],sol[i]] for i in table_range], headers = ['step','x','y']))"
   ]
  },
  {
   "cell_type": "markdown",
   "metadata": {},
   "source": [
    "## Campos Vetoriais e o Método de Euler"
   ]
  },
  {
   "cell_type": "code",
   "execution_count": 17,
   "metadata": {},
   "outputs": [
    {
     "data": {
      "application/vnd.jupyter.widget-view+json": {
       "model_id": "58f51c70e3a240d6b60e039b9ea653da",
       "version_major": 2,
       "version_minor": 0
      },
      "text/plain": [
       "Interactive function <function _ at 0x7fe9028a2a60> with 10 widgets\n",
       "  f: EvalText(value='y', description='f', …"
      ]
     },
     "metadata": {},
     "output_type": "display_data"
    }
   ],
   "source": [
    "x,y = var('x,y')\n",
    "from sage.ext.fast_eval import fast_float\n",
    "@interact\n",
    "def _(f = input_box(default=y), g=input_box(default=-x*y+x^3-x),\n",
    "      xmin=input_box(default=-1), xmax=input_box(default=1),\n",
    "      ymin=input_box(default=-1), ymax=input_box(default=1),\n",
    "      x_ini=input_box(default=0.5), y_ini=input_box(default=0.5),\n",
    "      tam_passo=(0.01,(0.001, 0.2, .001)), passos=(600,(0, 1400)) ):\n",
    "    ff = fast_float(f, 'x', 'y')\n",
    "    gg = fast_float(g, 'x', 'y')\n",
    "    passos = int(passos)\n",
    "    \n",
    "    points = [ (x_ini, y_ini) ]\n",
    "    for i in range(passos):\n",
    "        xx, yy = points[-1]\n",
    "        try:\n",
    "            points.append( (xx + tam_passo * ff(xx,yy), yy + tam_passo * gg(xx,yy)) )\n",
    "        except (ValueError, ArithmeticError, TypeError):\n",
    "            break\n",
    "    equilibria = solve([f,g], [x,y])\n",
    "    xnull = plot(solve(f,y)[0].rhs(),(x,xmin,xmax), color='red', legend_label=\"Nuliclina de X\")\n",
    "    ynull = plot(solve(g,y)[0].rhs(),(x,xmin,xmax), color='green', legend_label=\"Nuliclina de Y\")\n",
    "    starting_point = point(points[0], pointsize=50)\n",
    "    solution = line(points)\n",
    "    vector_field = plot_vector_field( (f,g), (x,xmin,xmax), (y,ymin,ymax) )\n",
    "\n",
    "    result = vector_field + starting_point + solution +xnull+ ynull\n",
    "\n",
    "    pretty_print(html(r\"$\\displaystyle\\frac{dx}{dt} = %s$ <br>$\\displaystyle\\frac{dy}{dt} = %s$\" % (latex(f),latex(g))))\n",
    "    result.show(xmin=xmin,xmax=xmax,ymin=ymin,ymax=ymax)"
   ]
  },
  {
   "cell_type": "code",
   "execution_count": null,
   "metadata": {},
   "outputs": [],
   "source": []
  },
  {
   "cell_type": "markdown",
   "metadata": {},
   "source": [
    "## Campo Vetorial com Runge-Kutta Fehlberg"
   ]
  },
  {
   "cell_type": "code",
   "execution_count": 18,
   "metadata": {},
   "outputs": [
    {
     "data": {
      "application/vnd.jupyter.widget-view+json": {
       "model_id": "9c4b33e53b2047a6aaf9bf388bfe1aef",
       "version_major": 2,
       "version_minor": 0
      },
      "text/plain": [
       "Interactive function <function _ at 0x7fe900a22158> with 12 widgets\n",
       "  fin: EvalText(value='-x*y^3 - 1/12*(4*y^…"
      ]
     },
     "metadata": {},
     "output_type": "display_data"
    }
   ],
   "source": [
    "var('x y')\n",
    "@interact\n",
    "def _(fin = input_box(default=y+exp(x/10)-1/3*((x-1/2)^2+y^3)*x-x*y^3), gin=input_box(default=x^3-x+1/100*exp(y*x^2+x*y^2)-0.7*x),\n",
    "      xmin=input_box(default=-1), xmax=input_box(default=1.8),\n",
    "      ymin=input_box(default=-1.3), ymax=input_box(default=1.5),\n",
    "      x_start=(-1,(-2,2)), y_start=(0,(-2,2)), error=(0.5,(0,1)),\n",
    "      t_length=(23,(0, 100)) , num_of_points = (1500,(5,2000)),\n",
    "      algorithm = selector([\n",
    "         (\"rkf45\" , \"runga-kutta-felhberg (4,5)\"),\n",
    "         (\"rk2\" , \"embedded runga-kutta (2,3)\"),\n",
    "         (\"rk4\" , \"4th order classical runga-kutta\"),\n",
    "         (\"rk8pd\" , 'runga-kutta prince-dormand (8,9)'),\n",
    "         (\"rk2imp\" , \"implicit 2nd order runga-kutta at gaussian points\"),\n",
    "         (\"rk4imp\" , \"implicit 4th order runga-kutta at gaussian points\"),\n",
    "         (\"bsimp\" , \"implicit burlisch-stoer (requires jacobian)\"),\n",
    "         (\"gear1\" , \"M=1 implicit gear\"),\n",
    "         (\"gear2\" , \"M=2 implicit gear\")\n",
    "      ])):\n",
    "    f(x,y)=fin\n",
    "    g(x,y)=gin\n",
    "\n",
    "    ff = f._fast_float_(*f.args())\n",
    "    gg = g._fast_float_(*g.args())\n",
    "\n",
    "    #solve\n",
    "    path = []\n",
    "    err = error\n",
    "    xerr = 0\n",
    "    for yerr in [-err, 0, +err]:\n",
    "      T=ode_solver()\n",
    "      T.algorithm=algorithm\n",
    "      T.function = lambda t, yp: [ff(yp[0],yp[1]), gg(yp[0],yp[1])]\n",
    "      T.jacobian = jacobian([f,g],[x,y])\n",
    "      T.ode_solve(y_0=[x_start + xerr, y_start + yerr],t_span=[0,t_length],num_points=num_of_points)\n",
    "      path.append(line([p[1] for p in T.solution]))\n",
    "\n",
    "    #plot\n",
    "    vector_field = plot_vector_field( (f,g), (x,xmin,xmax), (y,ymin,ymax) )\n",
    "    starting_point = point([x_start, y_start], pointsize=50)\n",
    "    xnull = plot(solve(f,y)[0].rhs(),(x,xmin,xmax), color='red', legend_label=\"Nuliclina de X\")\n",
    "    ynull = plot(solve(g,y)[0].rhs(),(x,xmin, xmax), color='green', legend_label=\"Nuliclina de Y\")\n",
    "    show(vector_field + starting_point + sum(path)+xnull, aspect_ratio=1, figsize=[8,9])"
   ]
  },
  {
   "cell_type": "code",
   "execution_count": null,
   "metadata": {},
   "outputs": [],
   "source": [
    "var('x y z')\n",
    "\n",
    "sol = solve(-x*y^3 - 1/12*(4*y^3 + (2*x - 1)^2)*x + y + e^(1/10*x), y)\n",
    "sol[0].simplify_full()"
   ]
  },
  {
   "cell_type": "code",
   "execution_count": null,
   "metadata": {},
   "outputs": [],
   "source": [
    "complex_plot(sol[0].subs(x=z), (x,-1, 1), (y,-1,1))"
   ]
  },
  {
   "cell_type": "code",
   "execution_count": null,
   "metadata": {},
   "outputs": [],
   "source": []
  }
 ],
 "metadata": {
  "kernelspec": {
   "display_name": "SageMath 9.0",
   "language": "sage",
   "name": "sagemath"
  },
  "language_info": {
   "codemirror_mode": {
    "name": "ipython",
    "version": 3
   },
   "file_extension": ".py",
   "mimetype": "text/x-python",
   "name": "python",
   "nbconvert_exporter": "python",
   "pygments_lexer": "ipython3",
   "version": "3.7.3"
  }
 },
 "nbformat": 4,
 "nbformat_minor": 2
}

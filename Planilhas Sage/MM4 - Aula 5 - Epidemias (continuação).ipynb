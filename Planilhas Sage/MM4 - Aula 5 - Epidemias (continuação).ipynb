{
 "cells": [
  {
   "cell_type": "markdown",
   "metadata": {},
   "source": [
    "# Modelando a Transmissão\n",
    "\n",
    "Até agora viemos modelando a transmissão, usando a *lei de ação de massas*, $\\beta S I$, onde a transmissão é proporcional ao **produto das densidades de Suscetíveis e Infeciosos**. Entretanto existem diversas outras formulações para a transmissão, propostas na literatura. [McCallun et al](http://homepages.wmich.edu/~malcolm/BIOS6150-Ecology/Discussion%20References/McCallum-etal-TREE2001.pdf). discutem as principais em um artigo muito interessante.\n",
    "\n",
    "Segundo alguns autores, $\\beta S I$, não representa uma verdadeira lei de ação de massas, e que esta deveria ser escrita como $\\beta S I/N$, onde $N$ é a o tamanho da população, $N=S+I+R$, no caso de um modelo $SIR$.\n",
    "Por que este distinção é importante?\n",
    "\n",
    "Segundo Anderson e May, em sua [obra clássica](https://books.google.com.br/books?hl=en&lr=&id=HT0--xXBguQC&oi=fnd&pg=PA25&ots=Ick9PSXTeg&sig=QEMwwdqiZH9VN-LIaBMepgf5UGo#v=onepage&q&f=false), Quando modelamos a transmissão usando  a expressão  $\\beta S I$, existe um limiar no número de suscetíveis, que abaixo deste valor, impede que uma doença infecciosa se estabeleça em uma população de suscetíveis. Claramente, se $R_0=\\frac{\\beta S_0}{\\gamma}$, Para obtermos um valor de $R_0=1$, ponto de bifurcação transcrítica além do qual existe o equilíbrio endêmico, $S_0=\\frac{\\gamma}{\\beta}$. Contudo, quando formulamos a transmisão como $\\beta S I/N$, tal limiar não existe, esta forma de transmissão é denominada de **dependente da frequência**, ou independente da densidade.\n",
    "\n",
    "#### Exercício 1: \n",
    "\n",
    "Mostre que o limiar epidêmico não existe quando a transmissão é modelada como $\\beta S I/N$."
   ]
  },
  {
   "cell_type": "code",
   "execution_count": null,
   "metadata": {},
   "outputs": [],
   "source": []
  },
  {
   "cell_type": "markdown",
   "metadata": {},
   "source": [
    "A lei de ação de massas, pela qual a taxa de contatos entre $S$ e $I$ depende de suas respectivas densidades, implica em uma mistura perfeitamente aeatória das populações, denominada panmixia, entretanto podemos facilmente imaginar situações em que isto não é verdadeiro. Por exemplo, a probabilidade de um médico encontrar um infeccioso é muito maior do que a dada pelo produto das densidades de médicos e infecciosos na população, pois os infecciosos ativamente procuram os médicos.\n",
    "Formulações alternativas\n",
    "\n",
    "na tabela 1 do artigo de McCallum et al., são listadas pelo menos 7 formulações para a transmissão:\n",
    "\n",
    "1. $\\beta S I$ : dependente da densidade\n",
    "1. $\\beta S I/N$: dependente da frequência\n",
    "1. $\\beta S^p I^q$: relação de potência. Associada com heterogeneidades na susceptibilidade e Infecciosidade\n",
    "1. $\\beta I (N-I/q)$ quando  $I<q N$ ou $0$ quando $I \\geq qN$: A constante $0<q<1$, representa um efeito de refúgio, onde $q$ é a proporção da população potencialmente suscetível, devido a heterogeneidades espaciais.\n",
    "1. $kS ln(1+\\frac{\\beta I}{k})$: Binomial Negativa: Um $k$ pequeno corresponde a uma infecção altamente agregada. A medida em que $k \\rightarrow \\infty$, a expressão se reduz à lei de ação de massas.\n",
    "1. $\\frac{N}{1-\\epsilon+\\epsilon N}\\frac{F(S,I)}{N}$:Função de contato assintótica, separada do termo de mistura $F(S,I)$, pode ser qualquer um dos acima. Se $\\epsilon=0$, os contatos são proporcionais a $N$, se $\\epsilon=1$, os contatos são independentes de $N$\n",
    "1. $\\frac{\\beta S I}{c+S+I}$: transmissão assintótica, $c$ é uma constante.\n",
    "\n",
    "#### Exercício 2:\n",
    "\n",
    "Para cada uma das formulações da transmissão acima, faça um gráfico 3D da taxa de transmissão x $S$ x $I$. \n"
   ]
  },
  {
   "cell_type": "code",
   "execution_count": null,
   "metadata": {},
   "outputs": [],
   "source": []
  },
  {
   "cell_type": "markdown",
   "metadata": {},
   "source": [
    "\n",
    "\n",
    "#### Exercício 3:\n",
    "\n",
    "Analise um modelo $SI$ para cada tipo de transmissão listado acima, calcule o $R_0$, e identifique se existe um limiar epidêmico e qual a sua expressão.\n"
   ]
  },
  {
   "cell_type": "code",
   "execution_count": 1,
   "metadata": {},
   "outputs": [],
   "source": [
    "def refuge(t,y, parms):\n",
    "    I=y[0]\n",
    "    N,beta,q, gammma = parms\n",
    "    return [beta*I*(N-(I/q))-gamma*I]"
   ]
  },
  {
   "cell_type": "code",
   "execution_count": 2,
   "metadata": {},
   "outputs": [],
   "source": [
    "T=ode_solver()\n",
    "T.function = refuge\n",
    "t_span = [0,1]\n",
    "ic = [1]\n",
    "N=100\n",
    "beta=2\n",
    "q=0.2\n",
    "gamma = 0.1\n",
    "T.ode_solve(t_span,ic,num_points=100, params=[N,beta,q,gamma])"
   ]
  },
  {
   "cell_type": "code",
   "execution_count": 3,
   "metadata": {},
   "outputs": [
    {
     "data": {
      "image/png": "[encoded data removed]",
      "text/plain": [
       "Graphics object consisting of 1 graphics primitive"
      ]
     },
     "metadata": {},
     "output_type": "display_data"
    }
   ],
   "source": [
    "T.plot_solution()"
   ]
  },
  {
   "cell_type": "markdown",
   "metadata": {},
   "source": [
    "\n",
    "#### Exercício 4:\n",
    "\n",
    "Para cada umas das funções de transmissão $f(S,I)$, acima,  crie uma função interativa onde seja possível  explorar os efeitos  dos parâmetros sobre a dinâmica temporal  da epidemia.\n"
   ]
  },
  {
   "cell_type": "code",
   "execution_count": null,
   "metadata": {},
   "outputs": [],
   "source": []
  }
 ],
 "metadata": {
  "kernelspec": {
   "display_name": "SageMath 9.0",
   "language": "sage",
   "name": "sagemath"
  },
  "language_info": {
   "codemirror_mode": {
    "name": "ipython",
    "version": 3
   },
   "file_extension": ".py",
   "mimetype": "text/x-python",
   "name": "python",
   "nbconvert_exporter": "python",
   "pygments_lexer": "ipython3",
   "version": "3.7.8"
  }
 },
 "nbformat": 4,
 "nbformat_minor": 4
}

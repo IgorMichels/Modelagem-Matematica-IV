{
 "cells": [
  {
   "cell_type": "markdown",
   "metadata": {},
   "source": [
    "\n",
    "# Analise Dimensional\n",
    "\n",
    "Uma parte importante da validação de qualquer modelo, é a chamada análise dimensional. Devido à sua natureza de taxa de variação, ODEs de primeira ordem devem ter unidade de velocidade, ou seja $Grandeza / tempo$, isto é, assumindo que a variável independente seja o tempo.\n",
    "\n",
    "\n",
    "\n",
    "Agora precisamos de um modelo para analisar.\n",
    "\n",
    "**Exemplo: Modelo Predador-Presa**\n",
    "\n",
    "$$\\frac{dx}{dt}= r_1 x(1-\\frac{x}{K}) - A\\frac{xy}{D+x}$$\n",
    "\n",
    "$$\\frac{dy}{dt} = r_2 y (1-\\frac{y}{qx})$$\n",
    "\n",
    "onde $x(t)$ é a população da presa, $y(t)$ a do predador, e $r_i$, $K$, $A$, $D$ e $q$ são constantes. Agora vamos tentar entender as unidades de nosso modelo. Vamos assumir a grandeza Massa (M) para nossas populações e T para o tempo, naturalmente. Em seguida podemos substituir cada símbolo nas equações por sua unidade:\n",
    "\n"
   ]
  },
  {
   "cell_type": "code",
   "execution_count": 1,
   "metadata": {},
   "outputs": [],
   "source": [
    "%display typeset"
   ]
  },
  {
   "cell_type": "code",
   "execution_count": 2,
   "metadata": {},
   "outputs": [
    {
     "data": {
      "text/html": [
       "<html><script type=\"math/tex; mode=display\">\\newcommand{\\Bold}[1]{\\mathbf{#1}}-r_{1} x {\\left(\\frac{x}{K} - 1\\right)} - \\frac{A x y}{D + x}</script></html>"
      ],
      "text/plain": [
       "-r1*x*(x/K - 1) - A*x*y/(D + x)"
      ]
     },
     "execution_count": 2,
     "metadata": {},
     "output_type": "execute_result"
    }
   ],
   "source": [
    "var('M T x y A D K r1')\n",
    "f(x) = r1*x*(1-x/K)-A*(x*y/(D+x))\n",
    "f(x)"
   ]
  },
  {
   "cell_type": "markdown",
   "metadata": {},
   "source": [
    "Agora substituímos as variáveis por suas dimensões:"
   ]
  },
  {
   "cell_type": "code",
   "execution_count": 3,
   "metadata": {},
   "outputs": [
    {
     "data": {
      "text/html": [
       "<html><script type=\"math/tex; mode=display\">\\newcommand{\\Bold}[1]{\\mathbf{#1}}-\\frac{1}{2} \\, A M</script></html>"
      ],
      "text/plain": [
       "-1/2*A*M"
      ]
     },
     "execution_count": 3,
     "metadata": {},
     "output_type": "execute_result"
    }
   ],
   "source": [
    "# r1 é uma taxa, logo 1/T\n",
    "# Para poder ser somado a X, D tem que ter a mesma unidade\n",
    "# Capacidade de suporte (K) é também unidade de massa\n",
    "fd = expand(f(x)).substitute(x=M,K=M,D=M,y=M,r1=1/T)\n",
    "fd"
   ]
  },
  {
   "cell_type": "markdown",
   "metadata": {},
   "source": [
    "Agora resolvemos para A e encontramos a dimensão de $A$ que é $1/T$. Isto é como deve ser pois o lado esquerdo da equação, $\\frac{dx}{dt}$ tem dimensão $M/T$ "
   ]
  },
  {
   "cell_type": "code",
   "execution_count": 4,
   "metadata": {},
   "outputs": [
    {
     "data": {
      "text/html": [
       "<html><script type=\"math/tex; mode=display\">\\newcommand{\\Bold}[1]{\\mathbf{#1}}\\left[A = -\\frac{2}{T}\\right]</script></html>"
      ],
      "text/plain": [
       "[A == -2/T]"
      ]
     },
     "execution_count": 4,
     "metadata": {},
     "output_type": "execute_result"
    }
   ],
   "source": [
    "solve(-A*M/2-M/T,A)"
   ]
  },
  {
   "cell_type": "code",
   "execution_count": 5,
   "metadata": {},
   "outputs": [
    {
     "data": {
      "text/html": [
       "<html><script type=\"math/tex; mode=display\">\\newcommand{\\Bold}[1]{\\mathbf{#1}}\\left[r_{1} = \\frac{1}{T}\\right]</script></html>"
      ],
      "text/plain": [
       "[r1 == (1/T)]"
      ]
     },
     "execution_count": 5,
     "metadata": {},
     "output_type": "execute_result"
    }
   ],
   "source": [
    "solve(r1*M*1-M/T,r1)"
   ]
  },
  {
   "cell_type": "markdown",
   "metadata": {},
   "source": [
    "\n",
    "## Adimensionalizando um Sistema de Equações\n",
    "\n",
    "Uma ferramenta muito útil na simplificação de modelos é a adimensionalização. Neste processo, propomos substituições de variáveis e outras manipulações algébricas com a intenção de tornar adimensionais as variáveis do modelo e neste processo, frequentemente reduzimos também o número de parâmetros no modelo.\n",
    "\n",
    "Vamos começar com um exemplo simples com uma única equação diferencial.\n",
    "### Crescimento Logístico\n",
    "\n",
    "O modelo de crescimento logístico é um modelo de crescimento auto-limitado, onde a taxa de crescimento depende da densidade. Seja $r \\gt 0$ a taxa de crescimento intrínseco em unidades $T^{-1}$ e $K \\gt 0$ a capacidade de suporte, com as mesmas unidades de N. O modelo Logístico fica então:\n",
    "\n",
    "$$\\frac{dN}{dt}=r N \\left(1-\\frac{N}{K}\\right)$$\n"
   ]
  },
  {
   "cell_type": "code",
   "execution_count": 6,
   "metadata": {},
   "outputs": [
    {
     "data": {
      "text/html": [
       "<html><script type=\"math/tex; mode=display\">\\newcommand{\\Bold}[1]{\\mathbf{#1}}\\frac{\\partial}{\\partial t}N\\left(t\\right) = -r {\\left(\\frac{N\\left(t\\right)}{K} - 1\\right)} N\\left(t\\right)</script></html>"
      ],
      "text/plain": [
       "diff(N(t), t) == -r*(N(t)/K - 1)*N(t)"
      ]
     },
     "execution_count": 6,
     "metadata": {},
     "output_type": "execute_result"
    }
   ],
   "source": [
    "var('N r K t')\n",
    "N = function('N')(t)\n",
    "dndt = diff(N,t) == r*N*(1-N/K)\n",
    "dndt"
   ]
  },
  {
   "cell_type": "markdown",
   "metadata": {},
   "source": [
    "Dividindo ambos os lados da equação por K, obtemos:"
   ]
  },
  {
   "cell_type": "code",
   "execution_count": 7,
   "metadata": {},
   "outputs": [
    {
     "data": {
      "text/html": [
       "<html><script type=\"math/tex; mode=display\">\\newcommand{\\Bold}[1]{\\mathbf{#1}}\\frac{\\frac{\\partial}{\\partial t}N\\left(t\\right)}{K} = -\\frac{r {\\left(\\frac{N\\left(t\\right)}{K} - 1\\right)} N\\left(t\\right)}{K}</script></html>"
      ],
      "text/plain": [
       "diff(N(t), t)/K == -r*(N(t)/K - 1)*N(t)/K"
      ]
     },
     "execution_count": 7,
     "metadata": {},
     "output_type": "execute_result"
    }
   ],
   "source": [
    "dndt/K"
   ]
  },
  {
   "cell_type": "markdown",
   "metadata": {},
   "source": [
    "Podemos ver que N sempre aparece na forma $N/K$. Podemos simplificar o modelo e reduzir o número de parâmetros tratando esta quantidade com uma nova variável: $$y(t)=N(t)/K$$"
   ]
  },
  {
   "cell_type": "code",
   "execution_count": 8,
   "metadata": {},
   "outputs": [
    {
     "data": {
      "text/html": [
       "<html><script type=\"math/tex; mode=display\">\\newcommand{\\Bold}[1]{\\mathbf{#1}}\\frac{\\partial}{\\partial t}y\\left(t\\right) = -r {\\left(y\\left(t\\right) - 1\\right)} y\\left(t\\right)</script></html>"
      ],
      "text/plain": [
       "diff(y(t), t) == -r*(y(t) - 1)*y(t)"
      ]
     },
     "execution_count": 8,
     "metadata": {},
     "output_type": "execute_result"
    }
   ],
   "source": [
    "var('y')\n",
    "y = function('y')(t)\n",
    "dydt = diff(y,t) == r*y*(1-y)\n",
    "dydt"
   ]
  },
  {
   "cell_type": "markdown",
   "metadata": {},
   "source": [
    "\n",
    "\n",
    "Note que $y$, por definição, é adimensional. agora resta apenas uma quantidade dimensional no modelo: $r (T^{-1})$. Podemos então introduzir uma nova variável $s=r t$. Chegamos então a $$\\frac{dy}{ds}=y(1-y)$$\n",
    "\n",
    "Agora temos um modelo completamente adimensional e sem nenhum parâmetro livre. Como podemos obter a solução de N(t), a partir da solução Y(s)?\n",
    "\n",
    "Simples: $N(t) = K y(s) = K y(rt)$\n",
    "### Produção-Decaimento\n",
    "\n",
    "$$\\frac{dx}{dt}= I - \\gamma x$$\n",
    "\n",
    "Neste caso primeiro rearranjamos a equação como $$\\frac{dx}{dt}=\\gamma \\left(\\frac{I}{\\gamma}-x \\right)$$\n",
    "\n",
    "Agora fica evidente que $I/\\gamma$ tem a mesma unidade de $x$. Agora podemos definir as seguintes variáveis adimensionais: $x^*=\\frac{x}{I/\\gamma}$, e $t^*=\\frac{t}{1/\\gamma}$.\n",
    "\n",
    "se substituirmos $x$ e $t$ por estas novas variáveis obtemos:\n",
    "\n",
    "$$\\frac{d(I/\\gamma)x^*}{d(1/\\gamma)t^*}=\\gamma \\left(\\frac{I}{\\gamma}-\\frac{I}{\\gamma}x^* \\right)$$\n",
    "\n",
    "Como $I/\\gamma$ é uma constante que aparece como um fator comum a todos os termos, desde que $\\gamma$ e $I$ sejam diferentes de 0, podemos cancelá-los em ambos os lados da equação. Agora basta multiplicar ambos os lados por $1/\\gamma$ e obtemos:\n",
    "\n",
    "$$\\frac{dx^*}{dt^*}=1-x^*$$\n"
   ]
  },
  {
   "cell_type": "markdown",
   "metadata": {},
   "source": [
    "\n",
    "## Combinando Análise dimensional com Adimensionalização\n",
    "### Modelo de Dimerização\n",
    "\n",
    "Considere a seguinte reação química:\n",
    "\n",
    "$$A+A \\leftrightarrows^{k_2}_{k_1} C$$\n",
    "\n",
    "$$\\frac{dA}{dt}=-2 k_1 A^2 + 2 k_2 C$$\n",
    "\n",
    "$$\\frac{dC}{dt}=k_1 A^2 -k_2 C$$\n",
    "\n",
    "**1º passo: Análise dimensional**\n",
    "\n",
    "Vamos examinar as dimensões presentes neste sistema. a partir de agora vamos usar $[\\,]$ para denotar \"a dimensão de\" :\n",
    "\n",
    "A concentração de uma molécula em solução representa número de moléculas por volume, logo: $[A_0]=L^{-3}$,  $[A]=L^{-3}$,  $[C]=L^{-3}$. \n",
    "\n",
    "A constante $k_2$ são taxas, e como já vimos, têm dimensão $T^{-1}$. Por fim, a variável tempo: $[t]=T$. \n",
    "\n",
    "Em uma equação bem construida cada termo deve possuir as mesmas dimensões, uma vez que não podemos comparar \"bananas\" com \"laranjas\" e muito menos somá-las. Portanto para a primeira equação diferencial temos:\n",
    "\n",
    "$$[dA/dt] = [A]/[t]= L^{-3} T^{-1}$$\n",
    "\n",
    "Para o termo $k_1A^2$ temos:\n",
    "\n",
    "$$[k_1A^2] = [k_1][A]^2 = [k_1] L^{-6}$$\n",
    "\n",
    "como, pela equação anterior,\n",
    "\n",
    "$$ [k_1] L^{-6} =  L^{-3} T^{-1}$$\n",
    "\n",
    "temos que:\n",
    "\n",
    "$$[k_1] = L^3 T^{-1}$$\n",
    "\n",
    "**2º passo: Adimensionalização**\n",
    "\n",
    "Vamos começar pela substituição da variável $t$ por uma nova variável independente adimensional. Vamos fazer isso por meio da divisão por uma combinação adequada de parâmetros.\n",
    "\n",
    "$$t^*=\\frac{t}{1/k_2} = k_2 t$$\n",
    "\n",
    "Outra combinação de parâmetros poderia ter sido utilizada, como por exemplo, $(A_0k_1)^{-1}$. \n",
    "\n",
    "Para as concentrações, um boa escolha para concentrações adimensionais seria: $$a^*=\\frac{A}{A_0}$$ e $$c^*=\\frac{C}{C_0}$$\n",
    "\n",
    "**3º passo: Re-escrever as equações em termos das novas variáveis**\n",
    "\n",
    "As variáveis dimensionais originais, $C$, $A$ e $t$ se relaccionam com suas contrapartidas adimensionais da seguinte forma: $$C=C_0 c^*,$$ $$A=A_0 a^*, $$ $$t=\\frac{t^*}{k_2}.$$\n",
    "\n",
    "As condições iniciais podem ser reescritas como:\n",
    "\n",
    "em $t^*=0$, $a^*=1$ e $c^*=0$.\n",
    "\n",
    "Substituindo as formas adimensionais no modelo e simplificando, obtemos:\n",
    "\n",
    "$$k_2 A_0\\frac{da^*}{dt^*} = -2 k_1 A_0^2(a^*)^2 + 2k_2A_0c^*$$\n",
    "\n",
    "Como já vimos, é melhor simplificar as equações, reduzindo um dos coeficientes a 1. Podemos conseguir isso dividindo ambos os lados da equação acima por $k_2 A_0$:\n",
    "\n",
    "$$\\frac{da^*}{dt^*}=-2\\phi (a^*)^2 + 2c^*,$$\n",
    "\n",
    "agora temos um novo parâmetro $\\phi =\\frac{k_1 A_0}{k_2}$\n",
    "\n",
    "Substituindo na equação de $C$ obtemos:\n",
    "\n",
    "$$\\frac{dc^*}{dt^*}=\\phi(a^*)^2 - c^*$$\n",
    "\n",
    "deixando os $*$ de fora, nossas equações ficam:\n",
    "\n",
    "$$\\frac{da}{dt}= -2\\phi a^2 + 2c,\\,\\,a(0)=1,$$\n",
    "\n",
    "$$\\frac{dc}{dt}= \\phi a^2 -c, \\,\\,\\, c(0)=0$$\n",
    "\n",
    "Neste novo modelo, o único parâmetro $\\phi$ é adimensional:\n",
    "\n",
    "$$[\\phi] = \\frac{[k_1][A_0]}{k_2} = \\frac{L^3 T^{-1}\\cdot L^{-3}}{T^{-1}}=L^0 T^0$$\n",
    "**4o passo: Interpretando os parâmetros adimensionais**\n",
    "\n",
    "\n",
    "Nem sempre os parâmetros adimensionais são apenas um preço a pagar, em termos de interpretabilidade, por equações mais simples.  Também podem nos dar interpretações próprias que nos ajudem a interpretar a dinâmica do sistema. Vamos tentar interpretar $\\phi$.\n",
    "\n",
    "\n",
    "No equilíbrio, $K_1 A^2 -k_2C = 0$, logo,\n",
    "$$\\frac{k_1 A}{k_2}=\\frac{C_{eq}}{A_{eq}}$$\n",
    "Vemos que $\\phi$ é a razão das duas concentrações no equilíbrio.\n"
   ]
  },
  {
   "cell_type": "code",
   "execution_count": 9,
   "metadata": {},
   "outputs": [],
   "source": [
    "def plot_sol(sol):\n",
    "    a=list_plot([(i[0],i[1][0]) for i in sol],color='red', plotjoined=True, legend_label='a', alpha=.8)\n",
    "    c=list_plot([(i[0],i[1][1]) for i in sol],color='blue', plotjoined=True, legend_label='c', alpha=.8, axes_labels=[\"t\",\"y\"], gridlines=True)\n",
    "    r = list_plot([(i[0],i[1][1]/(i[1][0])^2) for i in sol],color='green', plotjoined=True, legend_label='c/a', alpha=.8, axes_labels=[\"t\",\"y\"], gridlines=True)\n",
    "    a.legend()\n",
    "    c.legend()\n",
    "    r.legend()\n",
    "    show(c+a+r)"
   ]
  },
  {
   "cell_type": "code",
   "execution_count": 10,
   "metadata": {},
   "outputs": [],
   "source": [
    "def fun(t,y):\n",
    "    a,c = y\n",
    "    phi = 1.5\n",
    "    return [-2*phi*a^2 + 2*c,\n",
    "            phi*a^2 -c]"
   ]
  },
  {
   "cell_type": "code",
   "execution_count": 11,
   "metadata": {},
   "outputs": [],
   "source": [
    "T = ode_solver()\n",
    "T.algorithm='rk8pd'\n",
    "T.function = fun\n",
    "y0=[1,0]\n",
    "T.ode_solve(t_span=[0,10],y_0=y0, num_points=100)"
   ]
  },
  {
   "cell_type": "code",
   "execution_count": 12,
   "metadata": {},
   "outputs": [
    {
     "data": {
      "image/png": "[encoded data removed]",
      "text/plain": [
       "Graphics object consisting of 3 graphics primitives"
      ]
     },
     "metadata": {},
     "output_type": "display_data"
    }
   ],
   "source": [
    "plot_sol(T.solution)"
   ]
  },
  {
   "cell_type": "code",
   "execution_count": null,
   "metadata": {},
   "outputs": [],
   "source": []
  }
 ],
 "metadata": {
  "kernelspec": {
   "display_name": "SageMath 9.0",
   "language": "sage",
   "name": "sagemath"
  },
  "language_info": {
   "codemirror_mode": {
    "name": "ipython",
    "version": 3
   },
   "file_extension": ".py",
   "mimetype": "text/x-python",
   "name": "python",
   "nbconvert_exporter": "python",
   "pygments_lexer": "ipython3",
   "version": "3.7.3"
  }
 },
 "nbformat": 4,
 "nbformat_minor": 2
}
